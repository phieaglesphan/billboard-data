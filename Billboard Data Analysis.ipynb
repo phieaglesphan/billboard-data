{
 "cells": [
  {
   "cell_type": "code",
   "execution_count": 219,
   "metadata": {},
   "outputs": [
    {
     "data": {
      "text/html": [
       "\n",
       "    <div class=\"bk-root\">\n",
       "        <a href=\"https://bokeh.pydata.org\" target=\"_blank\" class=\"bk-logo bk-logo-small bk-logo-notebook\"></a>\n",
       "        <span id=\"9195a927-9f60-4c4d-b626-32b9e72f2ded\">Loading BokehJS ...</span>\n",
       "    </div>"
      ]
     },
     "metadata": {},
     "output_type": "display_data"
    },
    {
     "data": {
      "application/javascript": [
       "\n",
       "(function(root) {\n",
       "  function now() {\n",
       "    return new Date();\n",
       "  }\n",
       "\n",
       "  var force = true;\n",
       "\n",
       "  if (typeof (root._bokeh_onload_callbacks) === \"undefined\" || force === true) {\n",
       "    root._bokeh_onload_callbacks = [];\n",
       "    root._bokeh_is_loading = undefined;\n",
       "  }\n",
       "\n",
       "  var JS_MIME_TYPE = 'application/javascript';\n",
       "  var HTML_MIME_TYPE = 'text/html';\n",
       "  var EXEC_MIME_TYPE = 'application/vnd.bokehjs_exec.v0+json';\n",
       "  var CLASS_NAME = 'output_bokeh rendered_html';\n",
       "\n",
       "  /**\n",
       "   * Render data to the DOM node\n",
       "   */\n",
       "  function render(props, node) {\n",
       "    var script = document.createElement(\"script\");\n",
       "    node.appendChild(script);\n",
       "  }\n",
       "\n",
       "  /**\n",
       "   * Handle when an output is cleared or removed\n",
       "   */\n",
       "  function handleClearOutput(event, handle) {\n",
       "    var cell = handle.cell;\n",
       "\n",
       "    var id = cell.output_area._bokeh_element_id;\n",
       "    var server_id = cell.output_area._bokeh_server_id;\n",
       "    // Clean up Bokeh references\n",
       "    if (id !== undefined) {\n",
       "      Bokeh.index[id].model.document.clear();\n",
       "      delete Bokeh.index[id];\n",
       "    }\n",
       "\n",
       "    if (server_id !== undefined) {\n",
       "      // Clean up Bokeh references\n",
       "      var cmd = \"from bokeh.io.state import curstate; print(curstate().uuid_to_server['\" + server_id + \"'].get_sessions()[0].document.roots[0]._id)\";\n",
       "      cell.notebook.kernel.execute(cmd, {\n",
       "        iopub: {\n",
       "          output: function(msg) {\n",
       "            var element_id = msg.content.text.trim();\n",
       "            Bokeh.index[element_id].model.document.clear();\n",
       "            delete Bokeh.index[element_id];\n",
       "          }\n",
       "        }\n",
       "      });\n",
       "      // Destroy server and session\n",
       "      var cmd = \"import bokeh.io.notebook as ion; ion.destroy_server('\" + server_id + \"')\";\n",
       "      cell.notebook.kernel.execute(cmd);\n",
       "    }\n",
       "  }\n",
       "\n",
       "  /**\n",
       "   * Handle when a new output is added\n",
       "   */\n",
       "  function handleAddOutput(event, handle) {\n",
       "    var output_area = handle.output_area;\n",
       "    var output = handle.output;\n",
       "\n",
       "    // limit handleAddOutput to display_data with EXEC_MIME_TYPE content only\n",
       "    if ((output.output_type != \"display_data\") || (!output.data.hasOwnProperty(EXEC_MIME_TYPE))) {\n",
       "      return\n",
       "    }\n",
       "\n",
       "    var toinsert = output_area.element.find(\".\" + CLASS_NAME.split(' ')[0]);\n",
       "\n",
       "    if (output.metadata[EXEC_MIME_TYPE][\"id\"] !== undefined) {\n",
       "      toinsert[toinsert.length - 1].firstChild.textContent = output.data[JS_MIME_TYPE];\n",
       "      // store reference to embed id on output_area\n",
       "      output_area._bokeh_element_id = output.metadata[EXEC_MIME_TYPE][\"id\"];\n",
       "    }\n",
       "    if (output.metadata[EXEC_MIME_TYPE][\"server_id\"] !== undefined) {\n",
       "      var bk_div = document.createElement(\"div\");\n",
       "      bk_div.innerHTML = output.data[HTML_MIME_TYPE];\n",
       "      var script_attrs = bk_div.children[0].attributes;\n",
       "      for (var i = 0; i < script_attrs.length; i++) {\n",
       "        toinsert[toinsert.length - 1].firstChild.setAttribute(script_attrs[i].name, script_attrs[i].value);\n",
       "      }\n",
       "      // store reference to server id on output_area\n",
       "      output_area._bokeh_server_id = output.metadata[EXEC_MIME_TYPE][\"server_id\"];\n",
       "    }\n",
       "  }\n",
       "\n",
       "  function register_renderer(events, OutputArea) {\n",
       "\n",
       "    function append_mime(data, metadata, element) {\n",
       "      // create a DOM node to render to\n",
       "      var toinsert = this.create_output_subarea(\n",
       "        metadata,\n",
       "        CLASS_NAME,\n",
       "        EXEC_MIME_TYPE\n",
       "      );\n",
       "      this.keyboard_manager.register_events(toinsert);\n",
       "      // Render to node\n",
       "      var props = {data: data, metadata: metadata[EXEC_MIME_TYPE]};\n",
       "      render(props, toinsert[toinsert.length - 1]);\n",
       "      element.append(toinsert);\n",
       "      return toinsert\n",
       "    }\n",
       "\n",
       "    /* Handle when an output is cleared or removed */\n",
       "    events.on('clear_output.CodeCell', handleClearOutput);\n",
       "    events.on('delete.Cell', handleClearOutput);\n",
       "\n",
       "    /* Handle when a new output is added */\n",
       "    events.on('output_added.OutputArea', handleAddOutput);\n",
       "\n",
       "    /**\n",
       "     * Register the mime type and append_mime function with output_area\n",
       "     */\n",
       "    OutputArea.prototype.register_mime_type(EXEC_MIME_TYPE, append_mime, {\n",
       "      /* Is output safe? */\n",
       "      safe: true,\n",
       "      /* Index of renderer in `output_area.display_order` */\n",
       "      index: 0\n",
       "    });\n",
       "  }\n",
       "\n",
       "  // register the mime type if in Jupyter Notebook environment and previously unregistered\n",
       "  if (root.Jupyter !== undefined) {\n",
       "    var events = require('base/js/events');\n",
       "    var OutputArea = require('notebook/js/outputarea').OutputArea;\n",
       "\n",
       "    if (OutputArea.prototype.mime_types().indexOf(EXEC_MIME_TYPE) == -1) {\n",
       "      register_renderer(events, OutputArea);\n",
       "    }\n",
       "  }\n",
       "\n",
       "  \n",
       "  if (typeof (root._bokeh_timeout) === \"undefined\" || force === true) {\n",
       "    root._bokeh_timeout = Date.now() + 5000;\n",
       "    root._bokeh_failed_load = false;\n",
       "  }\n",
       "\n",
       "  var NB_LOAD_WARNING = {'data': {'text/html':\n",
       "     \"<div style='background-color: #fdd'>\\n\"+\n",
       "     \"<p>\\n\"+\n",
       "     \"BokehJS does not appear to have successfully loaded. If loading BokehJS from CDN, this \\n\"+\n",
       "     \"may be due to a slow or bad network connection. Possible fixes:\\n\"+\n",
       "     \"</p>\\n\"+\n",
       "     \"<ul>\\n\"+\n",
       "     \"<li>re-rerun `output_notebook()` to attempt to load from CDN again, or</li>\\n\"+\n",
       "     \"<li>use INLINE resources instead, as so:</li>\\n\"+\n",
       "     \"</ul>\\n\"+\n",
       "     \"<code>\\n\"+\n",
       "     \"from bokeh.resources import INLINE\\n\"+\n",
       "     \"output_notebook(resources=INLINE)\\n\"+\n",
       "     \"</code>\\n\"+\n",
       "     \"</div>\"}};\n",
       "\n",
       "  function display_loaded() {\n",
       "    var el = document.getElementById(\"9195a927-9f60-4c4d-b626-32b9e72f2ded\");\n",
       "    if (el != null) {\n",
       "      el.textContent = \"BokehJS is loading...\";\n",
       "    }\n",
       "    if (root.Bokeh !== undefined) {\n",
       "      if (el != null) {\n",
       "        el.textContent = \"BokehJS \" + root.Bokeh.version + \" successfully loaded.\";\n",
       "      }\n",
       "    } else if (Date.now() < root._bokeh_timeout) {\n",
       "      setTimeout(display_loaded, 100)\n",
       "    }\n",
       "  }\n",
       "\n",
       "\n",
       "  function run_callbacks() {\n",
       "    try {\n",
       "      root._bokeh_onload_callbacks.forEach(function(callback) { callback() });\n",
       "    }\n",
       "    finally {\n",
       "      delete root._bokeh_onload_callbacks\n",
       "    }\n",
       "    console.info(\"Bokeh: all callbacks have finished\");\n",
       "  }\n",
       "\n",
       "  function load_libs(js_urls, callback) {\n",
       "    root._bokeh_onload_callbacks.push(callback);\n",
       "    if (root._bokeh_is_loading > 0) {\n",
       "      console.log(\"Bokeh: BokehJS is being loaded, scheduling callback at\", now());\n",
       "      return null;\n",
       "    }\n",
       "    if (js_urls == null || js_urls.length === 0) {\n",
       "      run_callbacks();\n",
       "      return null;\n",
       "    }\n",
       "    console.log(\"Bokeh: BokehJS not loaded, scheduling load and callback at\", now());\n",
       "    root._bokeh_is_loading = js_urls.length;\n",
       "    for (var i = 0; i < js_urls.length; i++) {\n",
       "      var url = js_urls[i];\n",
       "      var s = document.createElement('script');\n",
       "      s.src = url;\n",
       "      s.async = false;\n",
       "      s.onreadystatechange = s.onload = function() {\n",
       "        root._bokeh_is_loading--;\n",
       "        if (root._bokeh_is_loading === 0) {\n",
       "          console.log(\"Bokeh: all BokehJS libraries loaded\");\n",
       "          run_callbacks()\n",
       "        }\n",
       "      };\n",
       "      s.onerror = function() {\n",
       "        console.warn(\"failed to load library \" + url);\n",
       "      };\n",
       "      console.log(\"Bokeh: injecting script tag for BokehJS library: \", url);\n",
       "      document.getElementsByTagName(\"head\")[0].appendChild(s);\n",
       "    }\n",
       "  };var element = document.getElementById(\"9195a927-9f60-4c4d-b626-32b9e72f2ded\");\n",
       "  if (element == null) {\n",
       "    console.log(\"Bokeh: ERROR: autoload.js configured with elementid '9195a927-9f60-4c4d-b626-32b9e72f2ded' but no matching script tag was found. \")\n",
       "    return false;\n",
       "  }\n",
       "\n",
       "  var js_urls = [\"https://cdn.pydata.org/bokeh/release/bokeh-0.12.16.min.js\", \"https://cdn.pydata.org/bokeh/release/bokeh-widgets-0.12.16.min.js\", \"https://cdn.pydata.org/bokeh/release/bokeh-tables-0.12.16.min.js\", \"https://cdn.pydata.org/bokeh/release/bokeh-gl-0.12.16.min.js\"];\n",
       "\n",
       "  var inline_js = [\n",
       "    function(Bokeh) {\n",
       "      Bokeh.set_log_level(\"info\");\n",
       "    },\n",
       "    \n",
       "    function(Bokeh) {\n",
       "      \n",
       "    },\n",
       "    function(Bokeh) {\n",
       "      console.log(\"Bokeh: injecting CSS: https://cdn.pydata.org/bokeh/release/bokeh-0.12.16.min.css\");\n",
       "      Bokeh.embed.inject_css(\"https://cdn.pydata.org/bokeh/release/bokeh-0.12.16.min.css\");\n",
       "      console.log(\"Bokeh: injecting CSS: https://cdn.pydata.org/bokeh/release/bokeh-widgets-0.12.16.min.css\");\n",
       "      Bokeh.embed.inject_css(\"https://cdn.pydata.org/bokeh/release/bokeh-widgets-0.12.16.min.css\");\n",
       "      console.log(\"Bokeh: injecting CSS: https://cdn.pydata.org/bokeh/release/bokeh-tables-0.12.16.min.css\");\n",
       "      Bokeh.embed.inject_css(\"https://cdn.pydata.org/bokeh/release/bokeh-tables-0.12.16.min.css\");\n",
       "    }\n",
       "  ];\n",
       "\n",
       "  function run_inline_js() {\n",
       "    \n",
       "    if ((root.Bokeh !== undefined) || (force === true)) {\n",
       "      for (var i = 0; i < inline_js.length; i++) {\n",
       "        inline_js[i].call(root, root.Bokeh);\n",
       "      }if (force === true) {\n",
       "        display_loaded();\n",
       "      }} else if (Date.now() < root._bokeh_timeout) {\n",
       "      setTimeout(run_inline_js, 100);\n",
       "    } else if (!root._bokeh_failed_load) {\n",
       "      console.log(\"Bokeh: BokehJS failed to load within specified timeout.\");\n",
       "      root._bokeh_failed_load = true;\n",
       "    } else if (force !== true) {\n",
       "      var cell = $(document.getElementById(\"9195a927-9f60-4c4d-b626-32b9e72f2ded\")).parents('.cell').data().cell;\n",
       "      cell.output_area.append_execute_result(NB_LOAD_WARNING)\n",
       "    }\n",
       "\n",
       "  }\n",
       "\n",
       "  if (root._bokeh_is_loading === 0) {\n",
       "    console.log(\"Bokeh: BokehJS loaded, going straight to plotting\");\n",
       "    run_inline_js();\n",
       "  } else {\n",
       "    load_libs(js_urls, function() {\n",
       "      console.log(\"Bokeh: BokehJS plotting callback run at\", now());\n",
       "      run_inline_js();\n",
       "    });\n",
       "  }\n",
       "}(window));"
      ],
      "application/vnd.bokehjs_load.v0+json": "\n(function(root) {\n  function now() {\n    return new Date();\n  }\n\n  var force = true;\n\n  if (typeof (root._bokeh_onload_callbacks) === \"undefined\" || force === true) {\n    root._bokeh_onload_callbacks = [];\n    root._bokeh_is_loading = undefined;\n  }\n\n  \n\n  \n  if (typeof (root._bokeh_timeout) === \"undefined\" || force === true) {\n    root._bokeh_timeout = Date.now() + 5000;\n    root._bokeh_failed_load = false;\n  }\n\n  var NB_LOAD_WARNING = {'data': {'text/html':\n     \"<div style='background-color: #fdd'>\\n\"+\n     \"<p>\\n\"+\n     \"BokehJS does not appear to have successfully loaded. If loading BokehJS from CDN, this \\n\"+\n     \"may be due to a slow or bad network connection. Possible fixes:\\n\"+\n     \"</p>\\n\"+\n     \"<ul>\\n\"+\n     \"<li>re-rerun `output_notebook()` to attempt to load from CDN again, or</li>\\n\"+\n     \"<li>use INLINE resources instead, as so:</li>\\n\"+\n     \"</ul>\\n\"+\n     \"<code>\\n\"+\n     \"from bokeh.resources import INLINE\\n\"+\n     \"output_notebook(resources=INLINE)\\n\"+\n     \"</code>\\n\"+\n     \"</div>\"}};\n\n  function display_loaded() {\n    var el = document.getElementById(\"9195a927-9f60-4c4d-b626-32b9e72f2ded\");\n    if (el != null) {\n      el.textContent = \"BokehJS is loading...\";\n    }\n    if (root.Bokeh !== undefined) {\n      if (el != null) {\n        el.textContent = \"BokehJS \" + root.Bokeh.version + \" successfully loaded.\";\n      }\n    } else if (Date.now() < root._bokeh_timeout) {\n      setTimeout(display_loaded, 100)\n    }\n  }\n\n\n  function run_callbacks() {\n    try {\n      root._bokeh_onload_callbacks.forEach(function(callback) { callback() });\n    }\n    finally {\n      delete root._bokeh_onload_callbacks\n    }\n    console.info(\"Bokeh: all callbacks have finished\");\n  }\n\n  function load_libs(js_urls, callback) {\n    root._bokeh_onload_callbacks.push(callback);\n    if (root._bokeh_is_loading > 0) {\n      console.log(\"Bokeh: BokehJS is being loaded, scheduling callback at\", now());\n      return null;\n    }\n    if (js_urls == null || js_urls.length === 0) {\n      run_callbacks();\n      return null;\n    }\n    console.log(\"Bokeh: BokehJS not loaded, scheduling load and callback at\", now());\n    root._bokeh_is_loading = js_urls.length;\n    for (var i = 0; i < js_urls.length; i++) {\n      var url = js_urls[i];\n      var s = document.createElement('script');\n      s.src = url;\n      s.async = false;\n      s.onreadystatechange = s.onload = function() {\n        root._bokeh_is_loading--;\n        if (root._bokeh_is_loading === 0) {\n          console.log(\"Bokeh: all BokehJS libraries loaded\");\n          run_callbacks()\n        }\n      };\n      s.onerror = function() {\n        console.warn(\"failed to load library \" + url);\n      };\n      console.log(\"Bokeh: injecting script tag for BokehJS library: \", url);\n      document.getElementsByTagName(\"head\")[0].appendChild(s);\n    }\n  };var element = document.getElementById(\"9195a927-9f60-4c4d-b626-32b9e72f2ded\");\n  if (element == null) {\n    console.log(\"Bokeh: ERROR: autoload.js configured with elementid '9195a927-9f60-4c4d-b626-32b9e72f2ded' but no matching script tag was found. \")\n    return false;\n  }\n\n  var js_urls = [\"https://cdn.pydata.org/bokeh/release/bokeh-0.12.16.min.js\", \"https://cdn.pydata.org/bokeh/release/bokeh-widgets-0.12.16.min.js\", \"https://cdn.pydata.org/bokeh/release/bokeh-tables-0.12.16.min.js\", \"https://cdn.pydata.org/bokeh/release/bokeh-gl-0.12.16.min.js\"];\n\n  var inline_js = [\n    function(Bokeh) {\n      Bokeh.set_log_level(\"info\");\n    },\n    \n    function(Bokeh) {\n      \n    },\n    function(Bokeh) {\n      console.log(\"Bokeh: injecting CSS: https://cdn.pydata.org/bokeh/release/bokeh-0.12.16.min.css\");\n      Bokeh.embed.inject_css(\"https://cdn.pydata.org/bokeh/release/bokeh-0.12.16.min.css\");\n      console.log(\"Bokeh: injecting CSS: https://cdn.pydata.org/bokeh/release/bokeh-widgets-0.12.16.min.css\");\n      Bokeh.embed.inject_css(\"https://cdn.pydata.org/bokeh/release/bokeh-widgets-0.12.16.min.css\");\n      console.log(\"Bokeh: injecting CSS: https://cdn.pydata.org/bokeh/release/bokeh-tables-0.12.16.min.css\");\n      Bokeh.embed.inject_css(\"https://cdn.pydata.org/bokeh/release/bokeh-tables-0.12.16.min.css\");\n    }\n  ];\n\n  function run_inline_js() {\n    \n    if ((root.Bokeh !== undefined) || (force === true)) {\n      for (var i = 0; i < inline_js.length; i++) {\n        inline_js[i].call(root, root.Bokeh);\n      }if (force === true) {\n        display_loaded();\n      }} else if (Date.now() < root._bokeh_timeout) {\n      setTimeout(run_inline_js, 100);\n    } else if (!root._bokeh_failed_load) {\n      console.log(\"Bokeh: BokehJS failed to load within specified timeout.\");\n      root._bokeh_failed_load = true;\n    } else if (force !== true) {\n      var cell = $(document.getElementById(\"9195a927-9f60-4c4d-b626-32b9e72f2ded\")).parents('.cell').data().cell;\n      cell.output_area.append_execute_result(NB_LOAD_WARNING)\n    }\n\n  }\n\n  if (root._bokeh_is_loading === 0) {\n    console.log(\"Bokeh: BokehJS loaded, going straight to plotting\");\n    run_inline_js();\n  } else {\n    load_libs(js_urls, function() {\n      console.log(\"Bokeh: BokehJS plotting callback run at\", now());\n      run_inline_js();\n    });\n  }\n}(window));"
     },
     "metadata": {},
     "output_type": "display_data"
    }
   ],
   "source": [
    "import pandas as pd\n",
    "import numpy as np\n",
    "from datetime import datetime\n",
    "from bokeh.plotting import figure, output_notebook, show\n",
    "from bokeh.models import ColumnDataSource\n",
    "import bokeh\n",
    "output_notebook()"
   ]
  },
  {
   "cell_type": "code",
   "execution_count": 4,
   "metadata": {},
   "outputs": [],
   "source": [
    "#read file\n",
    "top200 = pd.read_csv('BB200.csv')"
   ]
  },
  {
   "cell_type": "code",
   "execution_count": 201,
   "metadata": {},
   "outputs": [],
   "source": [
    "catalog = pd.read_csv('BBCatalog.csv')"
   ]
  },
  {
   "cell_type": "code",
   "execution_count": 5,
   "metadata": {},
   "outputs": [
    {
     "name": "stdout",
     "output_type": "stream",
     "text": [
      "524287\n",
      "524131\n"
     ]
    }
   ],
   "source": [
    "#drop duplicates\n",
    "print(len(top200))\n",
    "top200 = top200.drop_duplicates()\n",
    "print(len(top200))"
   ]
  },
  {
   "cell_type": "code",
   "execution_count": 204,
   "metadata": {},
   "outputs": [
    {
     "name": "stdout",
     "output_type": "stream",
     "text": [
      "70750\n",
      "70748\n"
     ]
    }
   ],
   "source": [
    "print(len(catalog))\n",
    "catalog = catalog.drop_duplicates()\n",
    "print(len(catalog))"
   ]
  },
  {
   "cell_type": "code",
   "execution_count": 6,
   "metadata": {},
   "outputs": [],
   "source": [
    "#convert date column from string to date\n",
    "#top200.date=pd.to_datetime(top200.date)\n",
    "d = np.asarray([datetime.strptime(x,'%m/%d/%Y').date() for x in top200.date])\n",
    "top200.date = d"
   ]
  },
  {
   "cell_type": "code",
   "execution_count": 205,
   "metadata": {},
   "outputs": [],
   "source": [
    "d = np.asarray([datetime.strptime(x,'%m/%d/%Y').date() for x in catalog.date])\n",
    "catalog.date = d"
   ]
  },
  {
   "cell_type": "code",
   "execution_count": 208,
   "metadata": {},
   "outputs": [
    {
     "data": {
      "text/html": [
       "<div>\n",
       "<style scoped>\n",
       "    .dataframe tbody tr th:only-of-type {\n",
       "        vertical-align: middle;\n",
       "    }\n",
       "\n",
       "    .dataframe tbody tr th {\n",
       "        vertical-align: top;\n",
       "    }\n",
       "\n",
       "    .dataframe thead th {\n",
       "        text-align: right;\n",
       "    }\n",
       "</style>\n",
       "<table border=\"1\" class=\"dataframe\">\n",
       "  <thead>\n",
       "    <tr style=\"text-align: right;\">\n",
       "      <th></th>\n",
       "      <th>album</th>\n",
       "      <th>artist</th>\n",
       "      <th>date</th>\n",
       "      <th>rank</th>\n",
       "      <th>Artist_Album</th>\n",
       "    </tr>\n",
       "  </thead>\n",
       "  <tbody>\n",
       "    <tr>\n",
       "      <th>0</th>\n",
       "      <td>Mamma Mia!</td>\n",
       "      <td>Soundtrack</td>\n",
       "      <td>2018-08-04</td>\n",
       "      <td>1</td>\n",
       "      <td>Soundtrack-Mamma Mia!</td>\n",
       "    </tr>\n",
       "    <tr>\n",
       "      <th>1</th>\n",
       "      <td>Gold -- Greatest Hits</td>\n",
       "      <td>ABBA</td>\n",
       "      <td>2018-08-04</td>\n",
       "      <td>2</td>\n",
       "      <td>ABBA-Gold -- Greatest Hits</td>\n",
       "    </tr>\n",
       "    <tr>\n",
       "      <th>2</th>\n",
       "      <td>Greatest Hits</td>\n",
       "      <td>Queen</td>\n",
       "      <td>2018-08-04</td>\n",
       "      <td>3</td>\n",
       "      <td>Queen-Greatest Hits</td>\n",
       "    </tr>\n",
       "    <tr>\n",
       "      <th>3</th>\n",
       "      <td>The Essential Michael Jackson</td>\n",
       "      <td>Michael Jackson</td>\n",
       "      <td>2018-08-04</td>\n",
       "      <td>4</td>\n",
       "      <td>Michael Jackson-The Essential Michael Jackson</td>\n",
       "    </tr>\n",
       "    <tr>\n",
       "      <th>4</th>\n",
       "      <td>Legend: The Best Of...</td>\n",
       "      <td>Bob Marley And The Wailers</td>\n",
       "      <td>2018-08-04</td>\n",
       "      <td>5</td>\n",
       "      <td>Bob Marley And The Wailers-Legend: The Best Of...</td>\n",
       "    </tr>\n",
       "  </tbody>\n",
       "</table>\n",
       "</div>"
      ],
      "text/plain": [
       "                           album                      artist        date  \\\n",
       "0                     Mamma Mia!                  Soundtrack  2018-08-04   \n",
       "1          Gold -- Greatest Hits                        ABBA  2018-08-04   \n",
       "2                  Greatest Hits                       Queen  2018-08-04   \n",
       "3  The Essential Michael Jackson             Michael Jackson  2018-08-04   \n",
       "4         Legend: The Best Of...  Bob Marley And The Wailers  2018-08-04   \n",
       "\n",
       "   rank                                       Artist_Album  \n",
       "0     1                              Soundtrack-Mamma Mia!  \n",
       "1     2                         ABBA-Gold -- Greatest Hits  \n",
       "2     3                                Queen-Greatest Hits  \n",
       "3     4      Michael Jackson-The Essential Michael Jackson  \n",
       "4     5  Bob Marley And The Wailers-Legend: The Best Of...  "
      ]
     },
     "execution_count": 208,
     "metadata": {},
     "output_type": "execute_result"
    }
   ],
   "source": [
    "catalog.head()"
   ]
  },
  {
   "cell_type": "code",
   "execution_count": 8,
   "metadata": {},
   "outputs": [],
   "source": [
    "#create new artist_album ID column\n",
    "top200['Artist_Album'] = top200.artist + '-' + top200.album"
   ]
  },
  {
   "cell_type": "code",
   "execution_count": 207,
   "metadata": {},
   "outputs": [],
   "source": [
    "catalog['Artist_Album']=catalog.artist+'-'+catalog.album"
   ]
  },
  {
   "cell_type": "markdown",
   "metadata": {
    "collapsed": true
   },
   "source": [
    "#####################\n",
    "#  TOP 200 ANALYSIS #\n",
    "#####################"
   ]
  },
  {
   "cell_type": "code",
   "execution_count": 158,
   "metadata": {},
   "outputs": [],
   "source": [
    "#albums by weeks at 1\n",
    "topalbums = top200[top200['rank']==1].groupby('Artist_Album').agg({'date':'count'})\\\n",
    "                          .sort_values(by='date',ascending = False)[:10].reset_index()"
   ]
  },
  {
   "cell_type": "code",
   "execution_count": 185,
   "metadata": {},
   "outputs": [
    {
     "data": {
      "text/html": [
       "\n",
       "<div class=\"bk-root\">\n",
       "    <div class=\"bk-plotdiv\" id=\"5b6cfc87-69e0-45c6-ae28-3c1171823ef1\"></div>\n",
       "</div>"
      ]
     },
     "metadata": {},
     "output_type": "display_data"
    },
    {
     "data": {
      "application/javascript": [
       "(function(root) {\n",
       "  function embed_document(root) {\n",
       "    \n",
       "  var docs_json = {\"2ac9e1fa-364d-4926-b3e6-249381b946d6\":{\"roots\":{\"references\":[{\"attributes\":{\"plot\":null,\"text\":\"Weeks at Number 1\"},\"id\":\"93705d97-398e-4494-aec1-00ff7f056f46\",\"type\":\"Title\"},{\"attributes\":{},\"id\":\"dd757569-b33b-40db-9c39-d1a54f36afb2\",\"type\":\"BasicTickFormatter\"},{\"attributes\":{\"plot\":{\"id\":\"6a5052eb-255d-4d95-a0ce-e03b1b46493a\",\"subtype\":\"Figure\",\"type\":\"Plot\"},\"ticker\":{\"id\":\"6a98d6d7-1e80-4462-a863-d80c3944821a\",\"type\":\"CategoricalTicker\"}},\"id\":\"ff95346e-ae84-4431-a00b-3e43d5af4d0c\",\"type\":\"Grid\"},{\"attributes\":{},\"id\":\"6a98d6d7-1e80-4462-a863-d80c3944821a\",\"type\":\"CategoricalTicker\"},{\"attributes\":{},\"id\":\"c7584a28-d281-474f-b814-acfa6bd0df1d\",\"type\":\"UnionRenderers\"},{\"attributes\":{\"axis_label\":\"Weeks\",\"formatter\":{\"id\":\"dd757569-b33b-40db-9c39-d1a54f36afb2\",\"type\":\"BasicTickFormatter\"},\"plot\":{\"id\":\"6a5052eb-255d-4d95-a0ce-e03b1b46493a\",\"subtype\":\"Figure\",\"type\":\"Plot\"},\"ticker\":{\"id\":\"0393a597-8f2b-4edd-9282-47cbc1268b43\",\"type\":\"BasicTicker\"}},\"id\":\"2d60dba5-0896-48f1-a77e-13eaf98dded0\",\"type\":\"LinearAxis\"},{\"attributes\":{},\"id\":\"0393a597-8f2b-4edd-9282-47cbc1268b43\",\"type\":\"BasicTicker\"},{\"attributes\":{},\"id\":\"e655bd69-d626-4814-89dd-415b0bfe36ec\",\"type\":\"CategoricalScale\"},{\"attributes\":{\"dimension\":1,\"plot\":{\"id\":\"6a5052eb-255d-4d95-a0ce-e03b1b46493a\",\"subtype\":\"Figure\",\"type\":\"Plot\"},\"ticker\":{\"id\":\"0393a597-8f2b-4edd-9282-47cbc1268b43\",\"type\":\"BasicTicker\"}},\"id\":\"5a0d4d82-c647-4cf9-846c-b489d8b2b4f5\",\"type\":\"Grid\"},{\"attributes\":{},\"id\":\"dd2bd680-1530-4ba4-805e-532be0cf5454\",\"type\":\"LinearScale\"},{\"attributes\":{\"source\":{\"id\":\"15ba3aef-058b-44d0-92ba-633b8360dab0\",\"type\":\"ColumnDataSource\"}},\"id\":\"7896297a-d441-4cbe-a400-283814afff22\",\"type\":\"CDSView\"},{\"attributes\":{\"below\":[{\"id\":\"6dcce4db-7507-46ad-a42c-41715505b3ad\",\"type\":\"CategoricalAxis\"}],\"left\":[{\"id\":\"2d60dba5-0896-48f1-a77e-13eaf98dded0\",\"type\":\"LinearAxis\"}],\"plot_height\":500,\"renderers\":[{\"id\":\"6dcce4db-7507-46ad-a42c-41715505b3ad\",\"type\":\"CategoricalAxis\"},{\"id\":\"ff95346e-ae84-4431-a00b-3e43d5af4d0c\",\"type\":\"Grid\"},{\"id\":\"2d60dba5-0896-48f1-a77e-13eaf98dded0\",\"type\":\"LinearAxis\"},{\"id\":\"5a0d4d82-c647-4cf9-846c-b489d8b2b4f5\",\"type\":\"Grid\"},{\"id\":\"047abe83-09f2-426e-aab9-39d6ae86d741\",\"type\":\"BoxAnnotation\"},{\"id\":\"6596a242-befc-425c-a377-fe9439be2866\",\"type\":\"GlyphRenderer\"}],\"title\":{\"id\":\"93705d97-398e-4494-aec1-00ff7f056f46\",\"type\":\"Title\"},\"toolbar\":{\"id\":\"6012d334-e9f0-4065-9770-ca59e3b2e78a\",\"type\":\"Toolbar\"},\"x_range\":{\"id\":\"36397f3b-de92-442a-b867-3a8ebb509253\",\"type\":\"FactorRange\"},\"x_scale\":{\"id\":\"e655bd69-d626-4814-89dd-415b0bfe36ec\",\"type\":\"CategoricalScale\"},\"y_range\":{\"id\":\"9af9d7d8-fd2a-41fc-ad55-0575d089ae47\",\"type\":\"DataRange1d\"},\"y_scale\":{\"id\":\"dd2bd680-1530-4ba4-805e-532be0cf5454\",\"type\":\"LinearScale\"}},\"id\":\"6a5052eb-255d-4d95-a0ce-e03b1b46493a\",\"subtype\":\"Figure\",\"type\":\"Plot\"},{\"attributes\":{},\"id\":\"bc6a2dd8-ead8-4827-a446-a876b0da820e\",\"type\":\"CategoricalTickFormatter\"},{\"attributes\":{\"active_drag\":\"auto\",\"active_inspect\":\"auto\",\"active_scroll\":\"auto\",\"active_tap\":\"auto\",\"tools\":[{\"id\":\"201a8f8d-b6cf-4d8c-9dc9-64d13540f669\",\"type\":\"PanTool\"},{\"id\":\"dc700188-dc8f-4d46-a3a3-e8da5a9bf647\",\"type\":\"WheelZoomTool\"},{\"id\":\"d804816d-e49b-4cf1-910a-f0ece07ad384\",\"type\":\"BoxZoomTool\"},{\"id\":\"1cada052-ff88-44ca-9935-2a71fb00063c\",\"type\":\"SaveTool\"},{\"id\":\"2a4125a6-de7e-4667-a107-d6f71a1ec02b\",\"type\":\"ResetTool\"},{\"id\":\"d1464297-8288-4611-bfc0-72742612ce0c\",\"type\":\"HelpTool\"}]},\"id\":\"6012d334-e9f0-4065-9770-ca59e3b2e78a\",\"type\":\"Toolbar\"},{\"attributes\":{\"bottom_units\":\"screen\",\"fill_alpha\":{\"value\":0.5},\"fill_color\":{\"value\":\"lightgrey\"},\"left_units\":\"screen\",\"level\":\"overlay\",\"line_alpha\":{\"value\":1.0},\"line_color\":{\"value\":\"black\"},\"line_dash\":[4,4],\"line_width\":{\"value\":2},\"plot\":null,\"render_mode\":\"css\",\"right_units\":\"screen\",\"top_units\":\"screen\"},\"id\":\"047abe83-09f2-426e-aab9-39d6ae86d741\",\"type\":\"BoxAnnotation\"},{\"attributes\":{},\"id\":\"201a8f8d-b6cf-4d8c-9dc9-64d13540f669\",\"type\":\"PanTool\"},{\"attributes\":{\"callback\":null},\"id\":\"9af9d7d8-fd2a-41fc-ad55-0575d089ae47\",\"type\":\"DataRange1d\"},{\"attributes\":{},\"id\":\"5a7e6580-6a33-4348-a55d-31e715b9da0c\",\"type\":\"Selection\"},{\"attributes\":{},\"id\":\"dc700188-dc8f-4d46-a3a3-e8da5a9bf647\",\"type\":\"WheelZoomTool\"},{\"attributes\":{\"fill_alpha\":{\"value\":0.1},\"fill_color\":{\"value\":\"#1f77b4\"},\"line_alpha\":{\"value\":0.1},\"line_color\":{\"value\":\"#1f77b4\"},\"top\":{\"field\":\"date\"},\"width\":{\"value\":0.9},\"x\":{\"field\":\"Artist_Album\"}},\"id\":\"2c6aa9a5-d29e-4e33-9e87-522e65a9e349\",\"type\":\"VBar\"},{\"attributes\":{\"overlay\":{\"id\":\"047abe83-09f2-426e-aab9-39d6ae86d741\",\"type\":\"BoxAnnotation\"}},\"id\":\"d804816d-e49b-4cf1-910a-f0ece07ad384\",\"type\":\"BoxZoomTool\"},{\"attributes\":{\"fill_color\":{\"value\":\"darkred\"},\"line_color\":{\"value\":\"darkred\"},\"top\":{\"field\":\"date\"},\"width\":{\"value\":0.9},\"x\":{\"field\":\"Artist_Album\"}},\"id\":\"b32b2499-90ce-4fe8-b438-09f888bc1e24\",\"type\":\"VBar\"},{\"attributes\":{},\"id\":\"1cada052-ff88-44ca-9935-2a71fb00063c\",\"type\":\"SaveTool\"},{\"attributes\":{\"callback\":null,\"data\":{\"Artist_Album\":[\"Michael Jackson-Thriller\",\"Fleetwood Mac-Rumours\",\"Soundtrack-Saturday Night Fever\",\"Adele-21\",\"Prince And The Revolution-Purple Rain (Soundtrack)\",\"M.C. Hammer-Please Hammer Don't Hurt 'Em\",\"Whitney Houston-The Bodyguard\",\"Garth Brooks-Ropin' The Wind\",\"Soundtrack-Dirty Dancing\",\"Billy Ray Cyrus-Some Gave All\"],\"date\":[37,31,24,24,24,21,20,18,18,17],\"index\":[0,1,2,3,4,5,6,7,8,9]},\"selected\":{\"id\":\"5a7e6580-6a33-4348-a55d-31e715b9da0c\",\"type\":\"Selection\"},\"selection_policy\":{\"id\":\"c7584a28-d281-474f-b814-acfa6bd0df1d\",\"type\":\"UnionRenderers\"}},\"id\":\"15ba3aef-058b-44d0-92ba-633b8360dab0\",\"type\":\"ColumnDataSource\"},{\"attributes\":{},\"id\":\"2a4125a6-de7e-4667-a107-d6f71a1ec02b\",\"type\":\"ResetTool\"},{\"attributes\":{},\"id\":\"d1464297-8288-4611-bfc0-72742612ce0c\",\"type\":\"HelpTool\"},{\"attributes\":{\"data_source\":{\"id\":\"15ba3aef-058b-44d0-92ba-633b8360dab0\",\"type\":\"ColumnDataSource\"},\"glyph\":{\"id\":\"b32b2499-90ce-4fe8-b438-09f888bc1e24\",\"type\":\"VBar\"},\"hover_glyph\":null,\"muted_glyph\":null,\"nonselection_glyph\":{\"id\":\"2c6aa9a5-d29e-4e33-9e87-522e65a9e349\",\"type\":\"VBar\"},\"selection_glyph\":null,\"view\":{\"id\":\"7896297a-d441-4cbe-a400-283814afff22\",\"type\":\"CDSView\"}},\"id\":\"6596a242-befc-425c-a377-fe9439be2866\",\"type\":\"GlyphRenderer\"},{\"attributes\":{\"callback\":null,\"factors\":[\"Michael Jackson-Thriller\",\"Fleetwood Mac-Rumours\",\"Soundtrack-Saturday Night Fever\",\"Adele-21\",\"Prince And The Revolution-Purple Rain (Soundtrack)\",\"M.C. Hammer-Please Hammer Don't Hurt 'Em\",\"Whitney Houston-The Bodyguard\",\"Garth Brooks-Ropin' The Wind\",\"Soundtrack-Dirty Dancing\",\"Billy Ray Cyrus-Some Gave All\"]},\"id\":\"36397f3b-de92-442a-b867-3a8ebb509253\",\"type\":\"FactorRange\"},{\"attributes\":{\"formatter\":{\"id\":\"bc6a2dd8-ead8-4827-a446-a876b0da820e\",\"type\":\"CategoricalTickFormatter\"},\"major_label_orientation\":-0.3333333333333333,\"plot\":{\"id\":\"6a5052eb-255d-4d95-a0ce-e03b1b46493a\",\"subtype\":\"Figure\",\"type\":\"Plot\"},\"ticker\":{\"id\":\"6a98d6d7-1e80-4462-a863-d80c3944821a\",\"type\":\"CategoricalTicker\"}},\"id\":\"6dcce4db-7507-46ad-a42c-41715505b3ad\",\"type\":\"CategoricalAxis\"}],\"root_ids\":[\"6a5052eb-255d-4d95-a0ce-e03b1b46493a\"]},\"title\":\"Bokeh Application\",\"version\":\"0.12.16\"}};\n",
       "  var render_items = [{\"docid\":\"2ac9e1fa-364d-4926-b3e6-249381b946d6\",\"elementid\":\"5b6cfc87-69e0-45c6-ae28-3c1171823ef1\",\"modelid\":\"6a5052eb-255d-4d95-a0ce-e03b1b46493a\"}];\n",
       "  root.Bokeh.embed.embed_items_notebook(docs_json, render_items);\n",
       "\n",
       "  }\n",
       "  if (root.Bokeh !== undefined) {\n",
       "    embed_document(root);\n",
       "  } else {\n",
       "    var attempts = 0;\n",
       "    var timer = setInterval(function(root) {\n",
       "      if (root.Bokeh !== undefined) {\n",
       "        embed_document(root);\n",
       "        clearInterval(timer);\n",
       "      }\n",
       "      attempts++;\n",
       "      if (attempts > 100) {\n",
       "        console.log(\"Bokeh: ERROR: Unable to run BokehJS code because BokehJS library is missing\")\n",
       "        clearInterval(timer);\n",
       "      }\n",
       "    }, 10, root)\n",
       "  }\n",
       "})(window);"
      ],
      "application/vnd.bokehjs_exec.v0+json": ""
     },
     "metadata": {
      "application/vnd.bokehjs_exec.v0+json": {
       "id": "6a5052eb-255d-4d95-a0ce-e03b1b46493a"
      }
     },
     "output_type": "display_data"
    }
   ],
   "source": [
    "#chart for above\n",
    "source = ColumnDataSource(topalbums)\n",
    "p = figure(x_range=list(topalbums['Artist_Album']), plot_height=500, title='Weeks at Number 1')\n",
    "p.vbar(x='Artist_Album',top='date', source=source, width=0.9,color='darkred')\n",
    "p.xaxis.major_label_orientation = -1/3\n",
    "p.yaxis.axis_label = \"Weeks\"\n",
    "show(p)"
   ]
  },
  {
   "cell_type": "code",
   "execution_count": 187,
   "metadata": {},
   "outputs": [],
   "source": [
    "#albums that have have spent the most weeks on the chart\n",
    "topdwellers = top200.groupby(['Artist_Album']).agg({'date':'count'})\\\n",
    ".sort_values(by='date',ascending = False)[:10].reset_index()"
   ]
  },
  {
   "cell_type": "code",
   "execution_count": 190,
   "metadata": {},
   "outputs": [
    {
     "data": {
      "text/html": [
       "\n",
       "<div class=\"bk-root\">\n",
       "    <div class=\"bk-plotdiv\" id=\"4b52dccb-3828-45d0-b938-d85b5cd30937\"></div>\n",
       "</div>"
      ]
     },
     "metadata": {},
     "output_type": "display_data"
    },
    {
     "data": {
      "application/javascript": [
       "(function(root) {\n",
       "  function embed_document(root) {\n",
       "    \n",
       "  var docs_json = {\"44cd45fb-6975-47e4-8497-7bc0caafa960\":{\"roots\":{\"references\":[{\"attributes\":{\"below\":[{\"id\":\"dfb4f67a-fc39-4e50-bb3e-ea773b0f1752\",\"type\":\"CategoricalAxis\"}],\"left\":[{\"id\":\"3ef84027-3a47-4f13-bef1-4b109fbb6f14\",\"type\":\"LinearAxis\"}],\"plot_height\":500,\"renderers\":[{\"id\":\"dfb4f67a-fc39-4e50-bb3e-ea773b0f1752\",\"type\":\"CategoricalAxis\"},{\"id\":\"8963f35d-11f5-4521-b1f4-0258003cde0b\",\"type\":\"Grid\"},{\"id\":\"3ef84027-3a47-4f13-bef1-4b109fbb6f14\",\"type\":\"LinearAxis\"},{\"id\":\"7f63608b-3a38-4343-9fcf-18f5d34182fb\",\"type\":\"Grid\"},{\"id\":\"c536fe0a-5d5b-4420-89de-0716db3dd22a\",\"type\":\"BoxAnnotation\"},{\"id\":\"3d8c990d-7b63-43e1-9408-b30eac606082\",\"type\":\"GlyphRenderer\"}],\"title\":{\"id\":\"e65af9f6-2e0e-4c0d-b780-b5d263a25941\",\"type\":\"Title\"},\"toolbar\":{\"id\":\"d8546bdc-26b8-48e4-bd3d-9ffc45fbaf86\",\"type\":\"Toolbar\"},\"x_range\":{\"id\":\"8ed49443-0934-46b6-a4b7-3607a3335ab5\",\"type\":\"FactorRange\"},\"x_scale\":{\"id\":\"f19fdd79-32d4-48cc-b368-0f50b71d6af2\",\"type\":\"CategoricalScale\"},\"y_range\":{\"id\":\"781369ac-30ff-4334-94f7-36e565078317\",\"type\":\"DataRange1d\"},\"y_scale\":{\"id\":\"619824cb-a552-4fb6-87de-10a349ac7331\",\"type\":\"LinearScale\"}},\"id\":\"1f2f92e4-4eca-453a-91ba-cc4e3930a1af\",\"subtype\":\"Figure\",\"type\":\"Plot\"},{\"attributes\":{},\"id\":\"8b532b5d-a40f-4605-8294-d7d71ed6b55b\",\"type\":\"ResetTool\"},{\"attributes\":{\"data_source\":{\"id\":\"643959fd-6526-442a-9e93-ca73d1d84979\",\"type\":\"ColumnDataSource\"},\"glyph\":{\"id\":\"fbfb131e-3a40-449c-b56a-7e183eb8299f\",\"type\":\"VBar\"},\"hover_glyph\":null,\"muted_glyph\":null,\"nonselection_glyph\":{\"id\":\"4ee123dd-4d61-4e9d-9a47-cafa53a728b9\",\"type\":\"VBar\"},\"selection_glyph\":null,\"view\":{\"id\":\"ca7990f7-3492-4cc1-955d-98f2d2309992\",\"type\":\"CDSView\"}},\"id\":\"3d8c990d-7b63-43e1-9408-b30eac606082\",\"type\":\"GlyphRenderer\"},{\"attributes\":{\"overlay\":{\"id\":\"c536fe0a-5d5b-4420-89de-0716db3dd22a\",\"type\":\"BoxAnnotation\"}},\"id\":\"5bfd0693-9425-498f-a6a6-32c17336a4ff\",\"type\":\"BoxZoomTool\"},{\"attributes\":{\"fill_alpha\":{\"value\":0.1},\"fill_color\":{\"value\":\"#1f77b4\"},\"line_alpha\":{\"value\":0.1},\"line_color\":{\"value\":\"#1f77b4\"},\"top\":{\"field\":\"date\"},\"width\":{\"value\":0.9},\"x\":{\"field\":\"Artist_Album\"}},\"id\":\"4ee123dd-4d61-4e9d-9a47-cafa53a728b9\",\"type\":\"VBar\"},{\"attributes\":{},\"id\":\"bfad6299-3bdb-4c41-9071-3613a2d54144\",\"type\":\"BasicTickFormatter\"},{\"attributes\":{\"plot\":{\"id\":\"1f2f92e4-4eca-453a-91ba-cc4e3930a1af\",\"subtype\":\"Figure\",\"type\":\"Plot\"},\"ticker\":{\"id\":\"8eb25880-ca1f-4573-b549-6a26a3576335\",\"type\":\"CategoricalTicker\"}},\"id\":\"8963f35d-11f5-4521-b1f4-0258003cde0b\",\"type\":\"Grid\"},{\"attributes\":{},\"id\":\"31d18fbe-5a73-4c45-9668-08267f6548a7\",\"type\":\"WheelZoomTool\"},{\"attributes\":{\"formatter\":{\"id\":\"66b8c690-285e-41ba-944b-792c52aa3e87\",\"type\":\"CategoricalTickFormatter\"},\"major_label_orientation\":-0.3333333333333333,\"plot\":{\"id\":\"1f2f92e4-4eca-453a-91ba-cc4e3930a1af\",\"subtype\":\"Figure\",\"type\":\"Plot\"},\"ticker\":{\"id\":\"8eb25880-ca1f-4573-b549-6a26a3576335\",\"type\":\"CategoricalTicker\"}},\"id\":\"dfb4f67a-fc39-4e50-bb3e-ea773b0f1752\",\"type\":\"CategoricalAxis\"},{\"attributes\":{},\"id\":\"be530f7d-bdc0-428e-86cf-ed5df7e5e53c\",\"type\":\"Selection\"},{\"attributes\":{\"dimension\":1,\"plot\":{\"id\":\"1f2f92e4-4eca-453a-91ba-cc4e3930a1af\",\"subtype\":\"Figure\",\"type\":\"Plot\"},\"ticker\":{\"id\":\"5a8231d5-28b1-4358-a91b-d44e547f96ab\",\"type\":\"BasicTicker\"}},\"id\":\"7f63608b-3a38-4343-9fcf-18f5d34182fb\",\"type\":\"Grid\"},{\"attributes\":{\"callback\":null,\"data\":{\"Artist_Album\":[\"Pink Floyd-The Dark Side Of The Moon\",\"Bob Marley And The Wailers-Legend: The Best Of...\",\"Journey-Journey's Greatest Hits\",\"Metallica-Metallica\",\"Guns N' Roses-Greatest Hits\",\"Eminem-Curtain Call: The Hits\",\"Nirvana-Nevermind\",\"Bruno Mars-Doo-Wops & Hooligans\",\"Creedence Clearwater Revival Featuring John Fogerty-Chronicle The 20 Greatest Hits\",\"Adele-21\"],\"date\":[927,528,518,491,435,399,397,383,374,370],\"index\":[0,1,2,3,4,5,6,7,8,9]},\"selected\":{\"id\":\"be530f7d-bdc0-428e-86cf-ed5df7e5e53c\",\"type\":\"Selection\"},\"selection_policy\":{\"id\":\"6f66ed08-094f-4d10-aa75-c2dfc62418bd\",\"type\":\"UnionRenderers\"}},\"id\":\"643959fd-6526-442a-9e93-ca73d1d84979\",\"type\":\"ColumnDataSource\"},{\"attributes\":{\"active_drag\":\"auto\",\"active_inspect\":\"auto\",\"active_scroll\":\"auto\",\"active_tap\":\"auto\",\"tools\":[{\"id\":\"fa1dd88c-929b-463e-a8eb-5a048dd12bcd\",\"type\":\"PanTool\"},{\"id\":\"31d18fbe-5a73-4c45-9668-08267f6548a7\",\"type\":\"WheelZoomTool\"},{\"id\":\"5bfd0693-9425-498f-a6a6-32c17336a4ff\",\"type\":\"BoxZoomTool\"},{\"id\":\"e72a7cf0-5224-43d8-b61e-763fe11e0549\",\"type\":\"SaveTool\"},{\"id\":\"8b532b5d-a40f-4605-8294-d7d71ed6b55b\",\"type\":\"ResetTool\"},{\"id\":\"910344d2-f611-4504-8ad7-f52d23a69282\",\"type\":\"HelpTool\"}]},\"id\":\"d8546bdc-26b8-48e4-bd3d-9ffc45fbaf86\",\"type\":\"Toolbar\"},{\"attributes\":{\"source\":{\"id\":\"643959fd-6526-442a-9e93-ca73d1d84979\",\"type\":\"ColumnDataSource\"}},\"id\":\"ca7990f7-3492-4cc1-955d-98f2d2309992\",\"type\":\"CDSView\"},{\"attributes\":{\"bottom_units\":\"screen\",\"fill_alpha\":{\"value\":0.5},\"fill_color\":{\"value\":\"lightgrey\"},\"left_units\":\"screen\",\"level\":\"overlay\",\"line_alpha\":{\"value\":1.0},\"line_color\":{\"value\":\"black\"},\"line_dash\":[4,4],\"line_width\":{\"value\":2},\"plot\":null,\"render_mode\":\"css\",\"right_units\":\"screen\",\"top_units\":\"screen\"},\"id\":\"c536fe0a-5d5b-4420-89de-0716db3dd22a\",\"type\":\"BoxAnnotation\"},{\"attributes\":{},\"id\":\"e72a7cf0-5224-43d8-b61e-763fe11e0549\",\"type\":\"SaveTool\"},{\"attributes\":{\"fill_color\":{\"value\":\"darkred\"},\"line_color\":{\"value\":\"darkred\"},\"top\":{\"field\":\"date\"},\"width\":{\"value\":0.9},\"x\":{\"field\":\"Artist_Album\"}},\"id\":\"fbfb131e-3a40-449c-b56a-7e183eb8299f\",\"type\":\"VBar\"},{\"attributes\":{},\"id\":\"6f66ed08-094f-4d10-aa75-c2dfc62418bd\",\"type\":\"UnionRenderers\"},{\"attributes\":{},\"id\":\"5a8231d5-28b1-4358-a91b-d44e547f96ab\",\"type\":\"BasicTicker\"},{\"attributes\":{\"axis_label\":\"Weeks\",\"formatter\":{\"id\":\"bfad6299-3bdb-4c41-9071-3613a2d54144\",\"type\":\"BasicTickFormatter\"},\"plot\":{\"id\":\"1f2f92e4-4eca-453a-91ba-cc4e3930a1af\",\"subtype\":\"Figure\",\"type\":\"Plot\"},\"ticker\":{\"id\":\"5a8231d5-28b1-4358-a91b-d44e547f96ab\",\"type\":\"BasicTicker\"}},\"id\":\"3ef84027-3a47-4f13-bef1-4b109fbb6f14\",\"type\":\"LinearAxis\"},{\"attributes\":{},\"id\":\"8eb25880-ca1f-4573-b549-6a26a3576335\",\"type\":\"CategoricalTicker\"},{\"attributes\":{},\"id\":\"fa1dd88c-929b-463e-a8eb-5a048dd12bcd\",\"type\":\"PanTool\"},{\"attributes\":{\"plot\":null,\"text\":\"Total Weeks on Chart\"},\"id\":\"e65af9f6-2e0e-4c0d-b780-b5d263a25941\",\"type\":\"Title\"},{\"attributes\":{},\"id\":\"910344d2-f611-4504-8ad7-f52d23a69282\",\"type\":\"HelpTool\"},{\"attributes\":{\"callback\":null,\"factors\":[\"Pink Floyd-The Dark Side Of The Moon\",\"Bob Marley And The Wailers-Legend: The Best Of...\",\"Journey-Journey's Greatest Hits\",\"Metallica-Metallica\",\"Guns N' Roses-Greatest Hits\",\"Eminem-Curtain Call: The Hits\",\"Nirvana-Nevermind\",\"Bruno Mars-Doo-Wops & Hooligans\",\"Creedence Clearwater Revival Featuring John Fogerty-Chronicle The 20 Greatest Hits\",\"Adele-21\"]},\"id\":\"8ed49443-0934-46b6-a4b7-3607a3335ab5\",\"type\":\"FactorRange\"},{\"attributes\":{\"callback\":null},\"id\":\"781369ac-30ff-4334-94f7-36e565078317\",\"type\":\"DataRange1d\"},{\"attributes\":{},\"id\":\"619824cb-a552-4fb6-87de-10a349ac7331\",\"type\":\"LinearScale\"},{\"attributes\":{},\"id\":\"f19fdd79-32d4-48cc-b368-0f50b71d6af2\",\"type\":\"CategoricalScale\"},{\"attributes\":{},\"id\":\"66b8c690-285e-41ba-944b-792c52aa3e87\",\"type\":\"CategoricalTickFormatter\"}],\"root_ids\":[\"1f2f92e4-4eca-453a-91ba-cc4e3930a1af\"]},\"title\":\"Bokeh Application\",\"version\":\"0.12.16\"}};\n",
       "  var render_items = [{\"docid\":\"44cd45fb-6975-47e4-8497-7bc0caafa960\",\"elementid\":\"4b52dccb-3828-45d0-b938-d85b5cd30937\",\"modelid\":\"1f2f92e4-4eca-453a-91ba-cc4e3930a1af\"}];\n",
       "  root.Bokeh.embed.embed_items_notebook(docs_json, render_items);\n",
       "\n",
       "  }\n",
       "  if (root.Bokeh !== undefined) {\n",
       "    embed_document(root);\n",
       "  } else {\n",
       "    var attempts = 0;\n",
       "    var timer = setInterval(function(root) {\n",
       "      if (root.Bokeh !== undefined) {\n",
       "        embed_document(root);\n",
       "        clearInterval(timer);\n",
       "      }\n",
       "      attempts++;\n",
       "      if (attempts > 100) {\n",
       "        console.log(\"Bokeh: ERROR: Unable to run BokehJS code because BokehJS library is missing\")\n",
       "        clearInterval(timer);\n",
       "      }\n",
       "    }, 10, root)\n",
       "  }\n",
       "})(window);"
      ],
      "application/vnd.bokehjs_exec.v0+json": ""
     },
     "metadata": {
      "application/vnd.bokehjs_exec.v0+json": {
       "id": "1f2f92e4-4eca-453a-91ba-cc4e3930a1af"
      }
     },
     "output_type": "display_data"
    }
   ],
   "source": [
    "#chart for above\n",
    "source = ColumnDataSource(topdwellers)\n",
    "p = figure(x_range=list(topdwellers['Artist_Album']), plot_height=500, title='Total Weeks on Chart')\n",
    "p.vbar(x='Artist_Album',top='date', source=source, width=0.9,color='darkred')\n",
    "p.xaxis.major_label_orientation = -1/3\n",
    "p.yaxis.axis_label = \"Weeks\"\n",
    "show(p)"
   ]
  },
  {
   "cell_type": "code",
   "execution_count": 198,
   "metadata": {},
   "outputs": [],
   "source": [
    "#artists with most entries reaching number 1\n",
    "plot0 = top200[top200['rank']==1].groupby('artist').agg({'album':'nunique'})\\\n",
    ".sort_values(by='album',ascending=False)[2:12].reset_index()"
   ]
  },
  {
   "cell_type": "code",
   "execution_count": 199,
   "metadata": {},
   "outputs": [
    {
     "data": {
      "text/html": [
       "\n",
       "<div class=\"bk-root\">\n",
       "    <div class=\"bk-plotdiv\" id=\"465d7e07-884e-42c3-ac39-f7fba089b4e3\"></div>\n",
       "</div>"
      ]
     },
     "metadata": {},
     "output_type": "display_data"
    },
    {
     "data": {
      "application/javascript": [
       "(function(root) {\n",
       "  function embed_document(root) {\n",
       "    \n",
       "  var docs_json = {\"1f1579ff-79ad-4344-bc5e-dfb17dc9119c\":{\"roots\":{\"references\":[{\"attributes\":{\"active_drag\":\"auto\",\"active_inspect\":\"auto\",\"active_scroll\":\"auto\",\"active_tap\":\"auto\",\"tools\":[{\"id\":\"29070d97-97f4-4172-9fac-aa32befadff1\",\"type\":\"PanTool\"},{\"id\":\"a6c70def-07f6-494a-bb3a-b40d9aa30f34\",\"type\":\"WheelZoomTool\"},{\"id\":\"e019bb25-92a1-4550-bfa6-3fc49fa16d55\",\"type\":\"BoxZoomTool\"},{\"id\":\"de0ef1fd-20c4-41d8-ad1a-28868db8f013\",\"type\":\"SaveTool\"},{\"id\":\"1eb08330-8c09-4d88-bfd4-7211ecde79b6\",\"type\":\"ResetTool\"},{\"id\":\"d7fd1700-0662-4281-9c91-cc47184c9c4f\",\"type\":\"HelpTool\"}]},\"id\":\"6f379063-33ee-4eac-8a03-725dc5df97a4\",\"type\":\"Toolbar\"},{\"attributes\":{},\"id\":\"a6c70def-07f6-494a-bb3a-b40d9aa30f34\",\"type\":\"WheelZoomTool\"},{\"attributes\":{\"formatter\":{\"id\":\"60458ae1-bd39-486e-a611-4b3fcb22e902\",\"type\":\"BasicTickFormatter\"},\"plot\":{\"id\":\"08e34af2-a4b5-456b-be6e-cbee8ee678e5\",\"subtype\":\"Figure\",\"type\":\"Plot\"},\"ticker\":{\"id\":\"6a2832a9-75d2-45c8-9c25-b05c43b65e26\",\"type\":\"BasicTicker\"}},\"id\":\"15a83724-3e09-43b4-8cfe-9a7c3c315fbf\",\"type\":\"LinearAxis\"},{\"attributes\":{\"overlay\":{\"id\":\"61b89330-d638-40d7-bfb6-872d7913f65e\",\"type\":\"BoxAnnotation\"}},\"id\":\"e019bb25-92a1-4550-bfa6-3fc49fa16d55\",\"type\":\"BoxZoomTool\"},{\"attributes\":{},\"id\":\"0d957603-b407-41c0-8c24-99a3e340df3f\",\"type\":\"CategoricalScale\"},{\"attributes\":{},\"id\":\"de0ef1fd-20c4-41d8-ad1a-28868db8f013\",\"type\":\"SaveTool\"},{\"attributes\":{\"callback\":null},\"id\":\"d8a51f20-8585-431d-a595-169bfc6acbc7\",\"type\":\"DataRange1d\"},{\"attributes\":{},\"id\":\"1eb08330-8c09-4d88-bfd4-7211ecde79b6\",\"type\":\"ResetTool\"},{\"attributes\":{},\"id\":\"68f828e8-25e2-4c77-a0b8-41a798b2c370\",\"type\":\"LinearScale\"},{\"attributes\":{},\"id\":\"d7fd1700-0662-4281-9c91-cc47184c9c4f\",\"type\":\"HelpTool\"},{\"attributes\":{\"plot\":{\"id\":\"08e34af2-a4b5-456b-be6e-cbee8ee678e5\",\"subtype\":\"Figure\",\"type\":\"Plot\"},\"ticker\":{\"id\":\"203d15ec-dacd-43ad-8e11-712d56c83c6f\",\"type\":\"CategoricalTicker\"}},\"id\":\"34bb1208-fd66-47f9-8e6d-8123bf9bb1db\",\"type\":\"Grid\"},{\"attributes\":{\"formatter\":{\"id\":\"9a8cffb2-07ca-43c4-99de-06ee58c6a344\",\"type\":\"CategoricalTickFormatter\"},\"major_label_orientation\":-0.3333333333333333,\"plot\":{\"id\":\"08e34af2-a4b5-456b-be6e-cbee8ee678e5\",\"subtype\":\"Figure\",\"type\":\"Plot\"},\"ticker\":{\"id\":\"203d15ec-dacd-43ad-8e11-712d56c83c6f\",\"type\":\"CategoricalTicker\"}},\"id\":\"a4ea7d6a-f7b7-468f-baf8-5a91ffb8b2ff\",\"type\":\"CategoricalAxis\"},{\"attributes\":{\"source\":{\"id\":\"09986962-75bc-4e13-a449-347245d0cc24\",\"type\":\"ColumnDataSource\"}},\"id\":\"b9499be7-06d1-4144-af90-bd1e401092ef\",\"type\":\"CDSView\"},{\"attributes\":{},\"id\":\"203d15ec-dacd-43ad-8e11-712d56c83c6f\",\"type\":\"CategoricalTicker\"},{\"attributes\":{},\"id\":\"60458ae1-bd39-486e-a611-4b3fcb22e902\",\"type\":\"BasicTickFormatter\"},{\"attributes\":{},\"id\":\"9a8cffb2-07ca-43c4-99de-06ee58c6a344\",\"type\":\"CategoricalTickFormatter\"},{\"attributes\":{},\"id\":\"6a2832a9-75d2-45c8-9c25-b05c43b65e26\",\"type\":\"BasicTicker\"},{\"attributes\":{\"dimension\":1,\"plot\":{\"id\":\"08e34af2-a4b5-456b-be6e-cbee8ee678e5\",\"subtype\":\"Figure\",\"type\":\"Plot\"},\"ticker\":{\"id\":\"6a2832a9-75d2-45c8-9c25-b05c43b65e26\",\"type\":\"BasicTicker\"}},\"id\":\"c1fb35aa-2e46-406d-84f4-4b5aabb8780d\",\"type\":\"Grid\"},{\"attributes\":{\"callback\":null,\"data\":{\"album\":[11,11,9,9,9,8,8,8,8,7],\"artist\":[\"JAY-Z\",\"Bruce Springsteen\",\"Barbra Streisand\",\"Garth Brooks\",\"The Beatles\",\"Kenny Chesney\",\"Madonna\",\"The Rolling Stones\",\"U2\",\"Eminem\"],\"index\":[0,1,2,3,4,5,6,7,8,9]},\"selected\":{\"id\":\"229c10dd-83a3-47a1-9ce0-f69ac9070e67\",\"type\":\"Selection\"},\"selection_policy\":{\"id\":\"3427abe2-9a67-4506-89f1-b33bcef88e77\",\"type\":\"UnionRenderers\"}},\"id\":\"09986962-75bc-4e13-a449-347245d0cc24\",\"type\":\"ColumnDataSource\"},{\"attributes\":{},\"id\":\"3427abe2-9a67-4506-89f1-b33bcef88e77\",\"type\":\"UnionRenderers\"},{\"attributes\":{\"fill_color\":{\"value\":\"darkred\"},\"line_color\":{\"value\":\"darkred\"},\"top\":{\"field\":\"album\"},\"width\":{\"value\":0.9},\"x\":{\"field\":\"artist\"}},\"id\":\"10e3ffcf-e4f1-49f6-a650-4fd4f1a6c007\",\"type\":\"VBar\"},{\"attributes\":{\"below\":[{\"id\":\"a4ea7d6a-f7b7-468f-baf8-5a91ffb8b2ff\",\"type\":\"CategoricalAxis\"}],\"left\":[{\"id\":\"15a83724-3e09-43b4-8cfe-9a7c3c315fbf\",\"type\":\"LinearAxis\"}],\"plot_height\":500,\"renderers\":[{\"id\":\"a4ea7d6a-f7b7-468f-baf8-5a91ffb8b2ff\",\"type\":\"CategoricalAxis\"},{\"id\":\"34bb1208-fd66-47f9-8e6d-8123bf9bb1db\",\"type\":\"Grid\"},{\"id\":\"15a83724-3e09-43b4-8cfe-9a7c3c315fbf\",\"type\":\"LinearAxis\"},{\"id\":\"c1fb35aa-2e46-406d-84f4-4b5aabb8780d\",\"type\":\"Grid\"},{\"id\":\"61b89330-d638-40d7-bfb6-872d7913f65e\",\"type\":\"BoxAnnotation\"},{\"id\":\"a85e80df-e056-4128-87b0-9a04d93e33da\",\"type\":\"GlyphRenderer\"}],\"title\":{\"id\":\"a7041f27-fbd8-46c7-8561-430f0bc67962\",\"type\":\"Title\"},\"toolbar\":{\"id\":\"6f379063-33ee-4eac-8a03-725dc5df97a4\",\"type\":\"Toolbar\"},\"x_range\":{\"id\":\"b4198c19-4a96-4ecc-bc58-0649811ca220\",\"type\":\"FactorRange\"},\"x_scale\":{\"id\":\"0d957603-b407-41c0-8c24-99a3e340df3f\",\"type\":\"CategoricalScale\"},\"y_range\":{\"id\":\"d8a51f20-8585-431d-a595-169bfc6acbc7\",\"type\":\"DataRange1d\"},\"y_scale\":{\"id\":\"68f828e8-25e2-4c77-a0b8-41a798b2c370\",\"type\":\"LinearScale\"}},\"id\":\"08e34af2-a4b5-456b-be6e-cbee8ee678e5\",\"subtype\":\"Figure\",\"type\":\"Plot\"},{\"attributes\":{\"fill_alpha\":{\"value\":0.1},\"fill_color\":{\"value\":\"#1f77b4\"},\"line_alpha\":{\"value\":0.1},\"line_color\":{\"value\":\"#1f77b4\"},\"top\":{\"field\":\"album\"},\"width\":{\"value\":0.9},\"x\":{\"field\":\"artist\"}},\"id\":\"f8911a08-12b4-4f7b-8315-94769b254cd8\",\"type\":\"VBar\"},{\"attributes\":{},\"id\":\"229c10dd-83a3-47a1-9ce0-f69ac9070e67\",\"type\":\"Selection\"},{\"attributes\":{\"data_source\":{\"id\":\"09986962-75bc-4e13-a449-347245d0cc24\",\"type\":\"ColumnDataSource\"},\"glyph\":{\"id\":\"10e3ffcf-e4f1-49f6-a650-4fd4f1a6c007\",\"type\":\"VBar\"},\"hover_glyph\":null,\"muted_glyph\":null,\"nonselection_glyph\":{\"id\":\"f8911a08-12b4-4f7b-8315-94769b254cd8\",\"type\":\"VBar\"},\"selection_glyph\":null,\"view\":{\"id\":\"b9499be7-06d1-4144-af90-bd1e401092ef\",\"type\":\"CDSView\"}},\"id\":\"a85e80df-e056-4128-87b0-9a04d93e33da\",\"type\":\"GlyphRenderer\"},{\"attributes\":{\"callback\":null,\"factors\":[\"JAY-Z\",\"Bruce Springsteen\",\"Barbra Streisand\",\"Garth Brooks\",\"The Beatles\",\"Kenny Chesney\",\"Madonna\",\"The Rolling Stones\",\"U2\",\"Eminem\"]},\"id\":\"b4198c19-4a96-4ecc-bc58-0649811ca220\",\"type\":\"FactorRange\"},{\"attributes\":{\"bottom_units\":\"screen\",\"fill_alpha\":{\"value\":0.5},\"fill_color\":{\"value\":\"lightgrey\"},\"left_units\":\"screen\",\"level\":\"overlay\",\"line_alpha\":{\"value\":1.0},\"line_color\":{\"value\":\"black\"},\"line_dash\":[4,4],\"line_width\":{\"value\":2},\"plot\":null,\"render_mode\":\"css\",\"right_units\":\"screen\",\"top_units\":\"screen\"},\"id\":\"61b89330-d638-40d7-bfb6-872d7913f65e\",\"type\":\"BoxAnnotation\"},{\"attributes\":{\"plot\":null,\"text\":\"Most Albums to Reach #1\"},\"id\":\"a7041f27-fbd8-46c7-8561-430f0bc67962\",\"type\":\"Title\"},{\"attributes\":{},\"id\":\"29070d97-97f4-4172-9fac-aa32befadff1\",\"type\":\"PanTool\"}],\"root_ids\":[\"08e34af2-a4b5-456b-be6e-cbee8ee678e5\"]},\"title\":\"Bokeh Application\",\"version\":\"0.12.16\"}};\n",
       "  var render_items = [{\"docid\":\"1f1579ff-79ad-4344-bc5e-dfb17dc9119c\",\"elementid\":\"465d7e07-884e-42c3-ac39-f7fba089b4e3\",\"modelid\":\"08e34af2-a4b5-456b-be6e-cbee8ee678e5\"}];\n",
       "  root.Bokeh.embed.embed_items_notebook(docs_json, render_items);\n",
       "\n",
       "  }\n",
       "  if (root.Bokeh !== undefined) {\n",
       "    embed_document(root);\n",
       "  } else {\n",
       "    var attempts = 0;\n",
       "    var timer = setInterval(function(root) {\n",
       "      if (root.Bokeh !== undefined) {\n",
       "        embed_document(root);\n",
       "        clearInterval(timer);\n",
       "      }\n",
       "      attempts++;\n",
       "      if (attempts > 100) {\n",
       "        console.log(\"Bokeh: ERROR: Unable to run BokehJS code because BokehJS library is missing\")\n",
       "        clearInterval(timer);\n",
       "      }\n",
       "    }, 10, root)\n",
       "  }\n",
       "})(window);"
      ],
      "application/vnd.bokehjs_exec.v0+json": ""
     },
     "metadata": {
      "application/vnd.bokehjs_exec.v0+json": {
       "id": "08e34af2-a4b5-456b-be6e-cbee8ee678e5"
      }
     },
     "output_type": "display_data"
    }
   ],
   "source": [
    "#plot for above\n",
    "source = ColumnDataSource(plot0)\n",
    "p = figure(x_range=list(plot0['artist']), title = \"Most Albums to Reach #1\",plot_height=500)\n",
    "p.vbar(x='artist', top='album', source=source, width=0.9, color='darkred')\n",
    "p.xaxis.major_label_orientation = -1/3\n",
    "show(p)"
   ]
  },
  {
   "cell_type": "code",
   "execution_count": 54,
   "metadata": {},
   "outputs": [],
   "source": [
    "#artists with most entries on top200\n",
    "plot1 = top200.groupby('artist').agg({'album':'nunique','date':['min','max'],'rank':'mean'})\\\n",
    ".sort_values([('album','nunique')],ascending=False)[2:12]"
   ]
  },
  {
   "cell_type": "code",
   "execution_count": 192,
   "metadata": {},
   "outputs": [
    {
     "data": {
      "text/html": [
       "\n",
       "<div class=\"bk-root\">\n",
       "    <div class=\"bk-plotdiv\" id=\"7bb152fc-7166-4ec6-810f-35e549338460\"></div>\n",
       "</div>"
      ]
     },
     "metadata": {},
     "output_type": "display_data"
    },
    {
     "data": {
      "application/javascript": [
       "(function(root) {\n",
       "  function embed_document(root) {\n",
       "    \n",
       "  var docs_json = {\"640f3ce8-b090-459b-9599-78eebf41f87e\":{\"roots\":{\"references\":[{\"attributes\":{},\"id\":\"c01cf303-2eeb-4ee7-889a-30e3024c1334\",\"type\":\"BasicTicker\"},{\"attributes\":{\"callback\":null,\"factors\":[\"Elvis Presley\",\"Grateful Dead\",\"Bob Dylan\",\"Willie Nelson\",\"Original Broadway Cast Recording\",\"Neil Diamond\",\"Barbra Streisand\",\"Kidz Bop Kids\",\"The Beatles\",\"Original Cast\"]},\"id\":\"290d9314-3f0b-486e-97c3-32d849206928\",\"type\":\"FactorRange\"},{\"attributes\":{\"data_source\":{\"id\":\"b826d36c-8113-407e-a1ac-918e62239510\",\"type\":\"ColumnDataSource\"},\"glyph\":{\"id\":\"0ffc99ec-c1a3-4211-8dfd-61d39d95888c\",\"type\":\"VBar\"},\"hover_glyph\":null,\"muted_glyph\":null,\"nonselection_glyph\":{\"id\":\"af4c792b-407a-4b09-af5f-86ce596020c5\",\"type\":\"VBar\"},\"selection_glyph\":null,\"view\":{\"id\":\"8aaefd84-070f-437f-a9bc-0c4a5a981717\",\"type\":\"CDSView\"}},\"id\":\"3370fd43-2159-4d7d-98e1-95784b229530\",\"type\":\"GlyphRenderer\"},{\"attributes\":{\"plot\":null,\"text\":\"Artists with the most entries on Top 200\"},\"id\":\"272afc7c-34db-43ab-9281-3577d973221e\",\"type\":\"Title\"},{\"attributes\":{\"callback\":null,\"data\":{\"top\":[101,86,63,56,54,53,53,50,48,47],\"x\":[\"Elvis Presley\",\"Grateful Dead\",\"Bob Dylan\",\"Willie Nelson\",\"Original Broadway Cast Recording\",\"Neil Diamond\",\"Barbra Streisand\",\"Kidz Bop Kids\",\"The Beatles\",\"Original Cast\"]},\"selected\":{\"id\":\"69b30ed3-cfda-4b90-b06a-28147806fee4\",\"type\":\"Selection\"},\"selection_policy\":{\"id\":\"034dfe79-4415-40fd-85d4-8724796891e5\",\"type\":\"UnionRenderers\"}},\"id\":\"b826d36c-8113-407e-a1ac-918e62239510\",\"type\":\"ColumnDataSource\"},{\"attributes\":{},\"id\":\"a1294771-cc75-4a68-b9be-855d46f34f2e\",\"type\":\"WheelZoomTool\"},{\"attributes\":{\"dimension\":1,\"plot\":{\"id\":\"3d60dfd0-32be-433b-9c0d-6b300154cf6e\",\"subtype\":\"Figure\",\"type\":\"Plot\"},\"ticker\":{\"id\":\"c01cf303-2eeb-4ee7-889a-30e3024c1334\",\"type\":\"BasicTicker\"}},\"id\":\"3ae0bcde-ac29-448b-bcd8-d01de05f3930\",\"type\":\"Grid\"},{\"attributes\":{\"below\":[{\"id\":\"a5f83856-e8f9-4999-875e-69922dc7ff03\",\"type\":\"CategoricalAxis\"}],\"left\":[{\"id\":\"063610bc-e42d-46a0-bdc2-c9da87587aa1\",\"type\":\"LinearAxis\"}],\"plot_height\":500,\"renderers\":[{\"id\":\"a5f83856-e8f9-4999-875e-69922dc7ff03\",\"type\":\"CategoricalAxis\"},{\"id\":\"8484a2c6-9882-4356-97cf-6fe0eb84313a\",\"type\":\"Grid\"},{\"id\":\"063610bc-e42d-46a0-bdc2-c9da87587aa1\",\"type\":\"LinearAxis\"},{\"id\":\"3ae0bcde-ac29-448b-bcd8-d01de05f3930\",\"type\":\"Grid\"},{\"id\":\"36f9eb60-e979-4015-8e6a-3575443c4778\",\"type\":\"BoxAnnotation\"},{\"id\":\"3370fd43-2159-4d7d-98e1-95784b229530\",\"type\":\"GlyphRenderer\"}],\"title\":{\"id\":\"272afc7c-34db-43ab-9281-3577d973221e\",\"type\":\"Title\"},\"toolbar\":{\"id\":\"deb58f39-17bd-43ac-90ce-856bb622bea7\",\"type\":\"Toolbar\"},\"x_range\":{\"id\":\"290d9314-3f0b-486e-97c3-32d849206928\",\"type\":\"FactorRange\"},\"x_scale\":{\"id\":\"e4364bcf-a5c7-43b0-bc23-689767ece02b\",\"type\":\"CategoricalScale\"},\"y_range\":{\"id\":\"84fcedd1-98dd-40eb-8af4-450065a8c50d\",\"type\":\"DataRange1d\"},\"y_scale\":{\"id\":\"615ab9f6-3da3-41eb-b9c4-a3260a82bf6f\",\"type\":\"LinearScale\"}},\"id\":\"3d60dfd0-32be-433b-9c0d-6b300154cf6e\",\"subtype\":\"Figure\",\"type\":\"Plot\"},{\"attributes\":{\"fill_alpha\":{\"value\":0.1},\"fill_color\":{\"value\":\"#1f77b4\"},\"line_alpha\":{\"value\":0.1},\"line_color\":{\"value\":\"#1f77b4\"},\"top\":{\"field\":\"top\"},\"width\":{\"value\":0.9},\"x\":{\"field\":\"x\"}},\"id\":\"af4c792b-407a-4b09-af5f-86ce596020c5\",\"type\":\"VBar\"},{\"attributes\":{},\"id\":\"651ced88-c5b4-405e-bcad-7f35e890fefc\",\"type\":\"HelpTool\"},{\"attributes\":{},\"id\":\"1555be4d-7b9e-4a7e-9b3a-5c67f155e4a4\",\"type\":\"PanTool\"},{\"attributes\":{\"plot\":{\"id\":\"3d60dfd0-32be-433b-9c0d-6b300154cf6e\",\"subtype\":\"Figure\",\"type\":\"Plot\"},\"ticker\":{\"id\":\"8e6218e2-a8d7-4a5f-be28-fec93498dc1d\",\"type\":\"CategoricalTicker\"}},\"id\":\"8484a2c6-9882-4356-97cf-6fe0eb84313a\",\"type\":\"Grid\"},{\"attributes\":{\"bottom_units\":\"screen\",\"fill_alpha\":{\"value\":0.5},\"fill_color\":{\"value\":\"lightgrey\"},\"left_units\":\"screen\",\"level\":\"overlay\",\"line_alpha\":{\"value\":1.0},\"line_color\":{\"value\":\"black\"},\"line_dash\":[4,4],\"line_width\":{\"value\":2},\"plot\":null,\"render_mode\":\"css\",\"right_units\":\"screen\",\"top_units\":\"screen\"},\"id\":\"36f9eb60-e979-4015-8e6a-3575443c4778\",\"type\":\"BoxAnnotation\"},{\"attributes\":{},\"id\":\"615ab9f6-3da3-41eb-b9c4-a3260a82bf6f\",\"type\":\"LinearScale\"},{\"attributes\":{\"formatter\":{\"id\":\"29d04854-d4a4-44e1-ab31-7b4136cc1f08\",\"type\":\"CategoricalTickFormatter\"},\"major_label_orientation\":-0.3333333333333333,\"plot\":{\"id\":\"3d60dfd0-32be-433b-9c0d-6b300154cf6e\",\"subtype\":\"Figure\",\"type\":\"Plot\"},\"ticker\":{\"id\":\"8e6218e2-a8d7-4a5f-be28-fec93498dc1d\",\"type\":\"CategoricalTicker\"}},\"id\":\"a5f83856-e8f9-4999-875e-69922dc7ff03\",\"type\":\"CategoricalAxis\"},{\"attributes\":{\"source\":{\"id\":\"b826d36c-8113-407e-a1ac-918e62239510\",\"type\":\"ColumnDataSource\"}},\"id\":\"8aaefd84-070f-437f-a9bc-0c4a5a981717\",\"type\":\"CDSView\"},{\"attributes\":{},\"id\":\"8e6218e2-a8d7-4a5f-be28-fec93498dc1d\",\"type\":\"CategoricalTicker\"},{\"attributes\":{},\"id\":\"90352d20-fd10-40c5-b1ca-736b70091c40\",\"type\":\"ResetTool\"},{\"attributes\":{},\"id\":\"349a6b1e-fdd0-4949-8e05-5fbcc60e9092\",\"type\":\"BasicTickFormatter\"},{\"attributes\":{},\"id\":\"034dfe79-4415-40fd-85d4-8724796891e5\",\"type\":\"UnionRenderers\"},{\"attributes\":{},\"id\":\"ce41a1e3-0c39-4dd4-82f0-2e6aecf9a151\",\"type\":\"SaveTool\"},{\"attributes\":{\"formatter\":{\"id\":\"349a6b1e-fdd0-4949-8e05-5fbcc60e9092\",\"type\":\"BasicTickFormatter\"},\"plot\":{\"id\":\"3d60dfd0-32be-433b-9c0d-6b300154cf6e\",\"subtype\":\"Figure\",\"type\":\"Plot\"},\"ticker\":{\"id\":\"c01cf303-2eeb-4ee7-889a-30e3024c1334\",\"type\":\"BasicTicker\"}},\"id\":\"063610bc-e42d-46a0-bdc2-c9da87587aa1\",\"type\":\"LinearAxis\"},{\"attributes\":{\"callback\":null},\"id\":\"84fcedd1-98dd-40eb-8af4-450065a8c50d\",\"type\":\"DataRange1d\"},{\"attributes\":{\"overlay\":{\"id\":\"36f9eb60-e979-4015-8e6a-3575443c4778\",\"type\":\"BoxAnnotation\"}},\"id\":\"9d3731ae-f73a-4822-a6b6-e1ea282dc55e\",\"type\":\"BoxZoomTool\"},{\"attributes\":{},\"id\":\"69b30ed3-cfda-4b90-b06a-28147806fee4\",\"type\":\"Selection\"},{\"attributes\":{},\"id\":\"e4364bcf-a5c7-43b0-bc23-689767ece02b\",\"type\":\"CategoricalScale\"},{\"attributes\":{\"active_drag\":\"auto\",\"active_inspect\":\"auto\",\"active_scroll\":\"auto\",\"active_tap\":\"auto\",\"tools\":[{\"id\":\"1555be4d-7b9e-4a7e-9b3a-5c67f155e4a4\",\"type\":\"PanTool\"},{\"id\":\"a1294771-cc75-4a68-b9be-855d46f34f2e\",\"type\":\"WheelZoomTool\"},{\"id\":\"9d3731ae-f73a-4822-a6b6-e1ea282dc55e\",\"type\":\"BoxZoomTool\"},{\"id\":\"ce41a1e3-0c39-4dd4-82f0-2e6aecf9a151\",\"type\":\"SaveTool\"},{\"id\":\"90352d20-fd10-40c5-b1ca-736b70091c40\",\"type\":\"ResetTool\"},{\"id\":\"651ced88-c5b4-405e-bcad-7f35e890fefc\",\"type\":\"HelpTool\"}]},\"id\":\"deb58f39-17bd-43ac-90ce-856bb622bea7\",\"type\":\"Toolbar\"},{\"attributes\":{},\"id\":\"29d04854-d4a4-44e1-ab31-7b4136cc1f08\",\"type\":\"CategoricalTickFormatter\"},{\"attributes\":{\"fill_color\":{\"value\":\"darkred\"},\"line_color\":{\"value\":\"darkred\"},\"top\":{\"field\":\"top\"},\"width\":{\"value\":0.9},\"x\":{\"field\":\"x\"}},\"id\":\"0ffc99ec-c1a3-4211-8dfd-61d39d95888c\",\"type\":\"VBar\"}],\"root_ids\":[\"3d60dfd0-32be-433b-9c0d-6b300154cf6e\"]},\"title\":\"Bokeh Application\",\"version\":\"0.12.16\"}};\n",
       "  var render_items = [{\"docid\":\"640f3ce8-b090-459b-9599-78eebf41f87e\",\"elementid\":\"7bb152fc-7166-4ec6-810f-35e549338460\",\"modelid\":\"3d60dfd0-32be-433b-9c0d-6b300154cf6e\"}];\n",
       "  root.Bokeh.embed.embed_items_notebook(docs_json, render_items);\n",
       "\n",
       "  }\n",
       "  if (root.Bokeh !== undefined) {\n",
       "    embed_document(root);\n",
       "  } else {\n",
       "    var attempts = 0;\n",
       "    var timer = setInterval(function(root) {\n",
       "      if (root.Bokeh !== undefined) {\n",
       "        embed_document(root);\n",
       "        clearInterval(timer);\n",
       "      }\n",
       "      attempts++;\n",
       "      if (attempts > 100) {\n",
       "        console.log(\"Bokeh: ERROR: Unable to run BokehJS code because BokehJS library is missing\")\n",
       "        clearInterval(timer);\n",
       "      }\n",
       "    }, 10, root)\n",
       "  }\n",
       "})(window);"
      ],
      "application/vnd.bokehjs_exec.v0+json": ""
     },
     "metadata": {
      "application/vnd.bokehjs_exec.v0+json": {
       "id": "3d60dfd0-32be-433b-9c0d-6b300154cf6e"
      }
     },
     "output_type": "display_data"
    }
   ],
   "source": [
    "#plot for above\n",
    "p = figure(x_range=artists1, title = \"Artists with the most entries on Top 200\",plot_height=500)\n",
    "p.vbar(x=artists1, top=list(plot1.album['nunique']), width=0.9,color='darkred')\n",
    "p.xaxis.major_label_orientation = -1/3\n",
    "show(p)"
   ]
  },
  {
   "cell_type": "code",
   "execution_count": 200,
   "metadata": {},
   "outputs": [
    {
     "data": {
      "text/plain": [
       "48"
      ]
     },
     "execution_count": 200,
     "metadata": {},
     "output_type": "execute_result"
    }
   ],
   "source": [
    "len(top200[top200['artist']=='The Beatles'].groupby('album').agg('count'))"
   ]
  },
  {
   "cell_type": "code",
   "execution_count": 237,
   "metadata": {},
   "outputs": [
    {
     "data": {
      "text/html": [
       "\n",
       "<div class=\"bk-root\">\n",
       "    <div class=\"bk-plotdiv\" id=\"b2b383be-aa7d-4568-a290-cc638e769fb7\"></div>\n",
       "</div>"
      ]
     },
     "metadata": {},
     "output_type": "display_data"
    },
    {
     "data": {
      "application/javascript": [
       "(function(root) {\n",
       "  function embed_document(root) {\n",
       "    \n",
       "  var docs_json = {\"79b786bd-c649-482a-a76e-06d432599415\":{\"roots\":{\"references\":[{\"attributes\":{\"data_source\":{\"id\":\"3a4c89ef-6380-43f0-99fe-02bd235e4e2f\",\"type\":\"ColumnDataSource\"},\"glyph\":{\"id\":\"675750b4-2e10-4e50-8862-113441cb3fb8\",\"type\":\"Line\"},\"hover_glyph\":null,\"muted_glyph\":null,\"nonselection_glyph\":{\"id\":\"e7688502-cb7f-41d4-a0a0-9bac43d1f084\",\"type\":\"Line\"},\"selection_glyph\":null,\"view\":{\"id\":\"4f8c5e9f-4e9b-4c7c-9b74-898fb822185f\",\"type\":\"CDSView\"}},\"id\":\"9fb20c17-6bcc-4638-aa60-5b20717205fc\",\"type\":\"GlyphRenderer\"},{\"attributes\":{},\"id\":\"a1ca9605-9d30-4a19-895c-22bdccea8484\",\"type\":\"ResetTool\"},{\"attributes\":{\"days\":[1,2,3,4,5,6,7,8,9,10,11,12,13,14,15,16,17,18,19,20,21,22,23,24,25,26,27,28,29,30,31]},\"id\":\"9335f641-ee76-4c10-a829-260849e57381\",\"type\":\"DaysTicker\"},{\"attributes\":{\"callback\":null},\"id\":\"fddfebcf-ea99-4a7d-bd1d-4ce4b6fe5c7a\",\"type\":\"DataRange1d\"},{\"attributes\":{\"months\":[0,4,8]},\"id\":\"66db9488-cf06-49a4-8a4e-ada6b1093869\",\"type\":\"MonthsTicker\"},{\"attributes\":{\"line_alpha\":0.1,\"line_color\":\"#1f77b4\",\"x\":{\"field\":\"date\"},\"y\":{\"field\":\"rank\"}},\"id\":\"e7688502-cb7f-41d4-a0a0-9bac43d1f084\",\"type\":\"Line\"},{\"attributes\":{},\"id\":\"f4319be6-c481-4276-b06a-65c07abf28d4\",\"type\":\"LinearScale\"},{\"attributes\":{\"days\":[1,4,7,10,13,16,19,22,25,28]},\"id\":\"60446ae1-72a0-465d-964f-9b5547e59d4b\",\"type\":\"DaysTicker\"},{\"attributes\":{},\"id\":\"85ad8e31-f62c-4a61-b591-b7048457a429\",\"type\":\"PanTool\"},{\"attributes\":{\"overlay\":{\"id\":\"2c41562e-486a-4475-a08d-0416b6753d88\",\"type\":\"BoxAnnotation\"}},\"id\":\"25fc44da-7899-4868-a72e-9522e4789f90\",\"type\":\"BoxZoomTool\"},{\"attributes\":{},\"id\":\"ffb7a325-6488-45fb-9c98-bfb5333dea88\",\"type\":\"YearsTicker\"},{\"attributes\":{},\"id\":\"695bd7fb-1e0d-4788-ad6e-4a33d941cab3\",\"type\":\"SaveTool\"},{\"attributes\":{},\"id\":\"6816b783-9bc7-434e-8f12-869a56149cee\",\"type\":\"HelpTool\"},{\"attributes\":{\"base\":24,\"mantissas\":[1,2,4,6,8,12],\"max_interval\":43200000.0,\"min_interval\":3600000.0,\"num_minor_ticks\":0},\"id\":\"9213c76c-d829-4843-b6bb-99bcbb871994\",\"type\":\"AdaptiveTicker\"},{\"attributes\":{\"days\":[1,8,15,22]},\"id\":\"3d3eb956-fcfb-4321-b5ff-a0990c4cef67\",\"type\":\"DaysTicker\"},{\"attributes\":{\"months\":[0,6]},\"id\":\"b0a9c03b-f734-44fd-bf60-dabad0f99542\",\"type\":\"MonthsTicker\"},{\"attributes\":{\"formatter\":{\"id\":\"7526681f-c0ea-4994-90ca-023cf428b72c\",\"type\":\"DatetimeTickFormatter\"},\"plot\":{\"id\":\"6fbd810b-e4b7-4e70-a30e-c7af3e52bb1b\",\"subtype\":\"Figure\",\"type\":\"Plot\"},\"ticker\":{\"id\":\"d29f248a-b50d-415b-9be3-ac5ef9cef30a\",\"type\":\"DatetimeTicker\"}},\"id\":\"2f73e573-4ae8-46b3-a347-46990ae36c6c\",\"type\":\"DatetimeAxis\"},{\"attributes\":{\"base\":60,\"mantissas\":[1,2,5,10,15,20,30],\"max_interval\":1800000.0,\"min_interval\":1000.0,\"num_minor_ticks\":0},\"id\":\"663bb72d-db6f-41ef-9af2-9b2589f7416d\",\"type\":\"AdaptiveTicker\"},{\"attributes\":{\"line_color\":\"darkred\",\"x\":{\"field\":\"date\"},\"y\":{\"field\":\"rank\"}},\"id\":\"675750b4-2e10-4e50-8862-113441cb3fb8\",\"type\":\"Line\"},{\"attributes\":{\"source\":{\"id\":\"3a4c89ef-6380-43f0-99fe-02bd235e4e2f\",\"type\":\"ColumnDataSource\"}},\"id\":\"25210faa-8a1e-49ba-af27-72fa39765ccc\",\"type\":\"CDSView\"},{\"attributes\":{},\"id\":\"2e75eeff-5eb7-4de8-b43c-9626e71921bd\",\"type\":\"Selection\"},{\"attributes\":{\"months\":[0,1,2,3,4,5,6,7,8,9,10,11]},\"id\":\"905f135d-824c-4ed0-a70b-5bfe419da673\",\"type\":\"MonthsTicker\"},{\"attributes\":{\"num_minor_ticks\":5,\"tickers\":[{\"id\":\"7d801334-86e5-45b1-ba65-1f125709a1e5\",\"type\":\"AdaptiveTicker\"},{\"id\":\"663bb72d-db6f-41ef-9af2-9b2589f7416d\",\"type\":\"AdaptiveTicker\"},{\"id\":\"9213c76c-d829-4843-b6bb-99bcbb871994\",\"type\":\"AdaptiveTicker\"},{\"id\":\"9335f641-ee76-4c10-a829-260849e57381\",\"type\":\"DaysTicker\"},{\"id\":\"60446ae1-72a0-465d-964f-9b5547e59d4b\",\"type\":\"DaysTicker\"},{\"id\":\"3d3eb956-fcfb-4321-b5ff-a0990c4cef67\",\"type\":\"DaysTicker\"},{\"id\":\"7b88a2e6-189e-4fde-96ad-503a5533f7b2\",\"type\":\"DaysTicker\"},{\"id\":\"905f135d-824c-4ed0-a70b-5bfe419da673\",\"type\":\"MonthsTicker\"},{\"id\":\"1f21d670-9890-4932-85ea-23f82ed74e0b\",\"type\":\"MonthsTicker\"},{\"id\":\"66db9488-cf06-49a4-8a4e-ada6b1093869\",\"type\":\"MonthsTicker\"},{\"id\":\"b0a9c03b-f734-44fd-bf60-dabad0f99542\",\"type\":\"MonthsTicker\"},{\"id\":\"ffb7a325-6488-45fb-9c98-bfb5333dea88\",\"type\":\"YearsTicker\"}]},\"id\":\"d29f248a-b50d-415b-9be3-ac5ef9cef30a\",\"type\":\"DatetimeTicker\"},{\"attributes\":{\"callback\":null,\"start\":200},\"id\":\"274ede47-3a2f-468a-a983-d9c94a53fa46\",\"type\":\"Range1d\"},{\"attributes\":{\"fill_alpha\":{\"value\":0.1},\"fill_color\":{\"value\":\"#1f77b4\"},\"line_alpha\":{\"value\":0.1},\"line_color\":{\"value\":\"#1f77b4\"},\"size\":{\"units\":\"screen\",\"value\":3},\"x\":{\"field\":\"date\"},\"y\":{\"field\":\"rank\"}},\"id\":\"03dfc1d8-43bc-4634-a5d0-09ec8f8d7cd4\",\"type\":\"Circle\"},{\"attributes\":{},\"id\":\"c5b2baec-6f17-4f5d-aa14-4228eecfdaa1\",\"type\":\"WheelZoomTool\"},{\"attributes\":{},\"id\":\"18e407a7-136d-4bc5-b987-ca817d70d367\",\"type\":\"LinearScale\"},{\"attributes\":{\"source\":{\"id\":\"3a4c89ef-6380-43f0-99fe-02bd235e4e2f\",\"type\":\"ColumnDataSource\"}},\"id\":\"4f8c5e9f-4e9b-4c7c-9b74-898fb822185f\",\"type\":\"CDSView\"},{\"attributes\":{\"months\":[0,2,4,6,8,10]},\"id\":\"1f21d670-9890-4932-85ea-23f82ed74e0b\",\"type\":\"MonthsTicker\"},{\"attributes\":{},\"id\":\"995916f2-07c4-41b8-a8b0-aca0ea446900\",\"type\":\"UnionRenderers\"},{\"attributes\":{\"active_drag\":\"auto\",\"active_inspect\":\"auto\",\"active_scroll\":\"auto\",\"active_tap\":\"auto\",\"tools\":[{\"id\":\"85ad8e31-f62c-4a61-b591-b7048457a429\",\"type\":\"PanTool\"},{\"id\":\"c5b2baec-6f17-4f5d-aa14-4228eecfdaa1\",\"type\":\"WheelZoomTool\"},{\"id\":\"25fc44da-7899-4868-a72e-9522e4789f90\",\"type\":\"BoxZoomTool\"},{\"id\":\"695bd7fb-1e0d-4788-ad6e-4a33d941cab3\",\"type\":\"SaveTool\"},{\"id\":\"a1ca9605-9d30-4a19-895c-22bdccea8484\",\"type\":\"ResetTool\"},{\"id\":\"6816b783-9bc7-434e-8f12-869a56149cee\",\"type\":\"HelpTool\"}]},\"id\":\"08947b93-266e-43e4-a00f-923297b9d743\",\"type\":\"Toolbar\"},{\"attributes\":{\"plot\":null,\"text\":\"Thriller: First 2 Years\"},\"id\":\"e0b08d4f-2783-4b9c-ba59-9eadc96e97a4\",\"type\":\"Title\"},{\"attributes\":{\"days\":[1,15]},\"id\":\"7b88a2e6-189e-4fde-96ad-503a5533f7b2\",\"type\":\"DaysTicker\"},{\"attributes\":{\"plot\":{\"id\":\"6fbd810b-e4b7-4e70-a30e-c7af3e52bb1b\",\"subtype\":\"Figure\",\"type\":\"Plot\"},\"ticker\":{\"id\":\"d29f248a-b50d-415b-9be3-ac5ef9cef30a\",\"type\":\"DatetimeTicker\"}},\"id\":\"61cd6e3e-d9e4-4aad-a047-a1889efbe264\",\"type\":\"Grid\"},{\"attributes\":{\"fill_color\":{\"value\":\"black\"},\"size\":{\"units\":\"screen\",\"value\":3},\"x\":{\"field\":\"date\"},\"y\":{\"field\":\"rank\"}},\"id\":\"5a3d0c78-71c3-4d88-bdcd-d084a9876e90\",\"type\":\"Circle\"},{\"attributes\":{\"mantissas\":[1,2,5],\"max_interval\":500.0,\"num_minor_ticks\":0},\"id\":\"7d801334-86e5-45b1-ba65-1f125709a1e5\",\"type\":\"AdaptiveTicker\"},{\"attributes\":{},\"id\":\"71ce73a8-0a5b-4417-9ca3-c20cd85db9d6\",\"type\":\"BasicTickFormatter\"},{\"attributes\":{\"data_source\":{\"id\":\"3a4c89ef-6380-43f0-99fe-02bd235e4e2f\",\"type\":\"ColumnDataSource\"},\"glyph\":{\"id\":\"5a3d0c78-71c3-4d88-bdcd-d084a9876e90\",\"type\":\"Circle\"},\"hover_glyph\":null,\"muted_glyph\":null,\"nonselection_glyph\":{\"id\":\"03dfc1d8-43bc-4634-a5d0-09ec8f8d7cd4\",\"type\":\"Circle\"},\"selection_glyph\":null,\"view\":{\"id\":\"25210faa-8a1e-49ba-af27-72fa39765ccc\",\"type\":\"CDSView\"}},\"id\":\"ff79b4b6-cf2d-4095-a75a-4f52da1a61db\",\"type\":\"GlyphRenderer\"},{\"attributes\":{\"axis_label\":\"Chart Ranking\",\"formatter\":{\"id\":\"71ce73a8-0a5b-4417-9ca3-c20cd85db9d6\",\"type\":\"BasicTickFormatter\"},\"plot\":{\"id\":\"6fbd810b-e4b7-4e70-a30e-c7af3e52bb1b\",\"subtype\":\"Figure\",\"type\":\"Plot\"},\"ticker\":{\"id\":\"49d391cf-a6c0-4bc5-8146-e72ee753f4ab\",\"type\":\"BasicTicker\"}},\"id\":\"81fc8176-1e75-4f1d-a2ea-88857bf7810c\",\"type\":\"LinearAxis\"},{\"attributes\":{\"bottom_units\":\"screen\",\"fill_alpha\":{\"value\":0.5},\"fill_color\":{\"value\":\"lightgrey\"},\"left_units\":\"screen\",\"level\":\"overlay\",\"line_alpha\":{\"value\":1.0},\"line_color\":{\"value\":\"black\"},\"line_dash\":[4,4],\"line_width\":{\"value\":2},\"plot\":null,\"render_mode\":\"css\",\"right_units\":\"screen\",\"top_units\":\"screen\"},\"id\":\"2c41562e-486a-4475-a08d-0416b6753d88\",\"type\":\"BoxAnnotation\"},{\"attributes\":{\"dimension\":1,\"plot\":{\"id\":\"6fbd810b-e4b7-4e70-a30e-c7af3e52bb1b\",\"subtype\":\"Figure\",\"type\":\"Plot\"},\"ticker\":{\"id\":\"49d391cf-a6c0-4bc5-8146-e72ee753f4ab\",\"type\":\"BasicTicker\"}},\"id\":\"407ea5cd-0b78-4742-9df1-263b7f2e4218\",\"type\":\"Grid\"},{\"attributes\":{\"callback\":null,\"data\":{\"Artist_Album\":[\"Michael Jackson-Thriller\",\"Michael Jackson-Thriller\",\"Michael Jackson-Thriller\",\"Michael Jackson-Thriller\",\"Michael Jackson-Thriller\",\"Michael Jackson-Thriller\",\"Michael Jackson-Thriller\",\"Michael Jackson-Thriller\",\"Michael Jackson-Thriller\",\"Michael Jackson-Thriller\",\"Michael Jackson-Thriller\",\"Michael Jackson-Thriller\",\"Michael Jackson-Thriller\",\"Michael Jackson-Thriller\",\"Michael Jackson-Thriller\",\"Michael Jackson-Thriller\",\"Michael Jackson-Thriller\",\"Michael Jackson-Thriller\",\"Michael Jackson-Thriller\",\"Michael Jackson-Thriller\",\"Michael Jackson-Thriller\",\"Michael Jackson-Thriller\",\"Michael Jackson-Thriller\",\"Michael Jackson-Thriller\",\"Michael Jackson-Thriller\",\"Michael Jackson-Thriller\",\"Michael Jackson-Thriller\",\"Michael Jackson-Thriller\",\"Michael Jackson-Thriller\",\"Michael Jackson-Thriller\",\"Michael Jackson-Thriller\",\"Michael Jackson-Thriller\",\"Michael Jackson-Thriller\",\"Michael Jackson-Thriller\",\"Michael Jackson-Thriller\",\"Michael Jackson-Thriller\",\"Michael Jackson-Thriller\",\"Michael Jackson-Thriller\",\"Michael Jackson-Thriller\",\"Michael Jackson-Thriller\",\"Michael Jackson-Thriller\",\"Michael Jackson-Thriller\",\"Michael Jackson-Thriller\",\"Michael Jackson-Thriller\",\"Michael Jackson-Thriller\",\"Michael Jackson-Thriller\",\"Michael Jackson-Thriller\",\"Michael Jackson-Thriller\",\"Michael Jackson-Thriller\",\"Michael Jackson-Thriller\",\"Michael Jackson-Thriller\",\"Michael Jackson-Thriller\",\"Michael Jackson-Thriller\",\"Michael Jackson-Thriller\",\"Michael Jackson-Thriller\",\"Michael Jackson-Thriller\",\"Michael Jackson-Thriller\",\"Michael Jackson-Thriller\",\"Michael Jackson-Thriller\",\"Michael Jackson-Thriller\",\"Michael Jackson-Thriller\",\"Michael Jackson-Thriller\",\"Michael Jackson-Thriller\",\"Michael Jackson-Thriller\",\"Michael Jackson-Thriller\",\"Michael Jackson-Thriller\",\"Michael Jackson-Thriller\",\"Michael Jackson-Thriller\",\"Michael Jackson-Thriller\",\"Michael Jackson-Thriller\",\"Michael Jackson-Thriller\",\"Michael Jackson-Thriller\",\"Michael Jackson-Thriller\",\"Michael Jackson-Thriller\",\"Michael Jackson-Thriller\",\"Michael Jackson-Thriller\",\"Michael Jackson-Thriller\",\"Michael Jackson-Thriller\",\"Michael Jackson-Thriller\",\"Michael Jackson-Thriller\",\"Michael Jackson-Thriller\",\"Michael Jackson-Thriller\",\"Michael Jackson-Thriller\",\"Michael Jackson-Thriller\",\"Michael Jackson-Thriller\",\"Michael Jackson-Thriller\",\"Michael Jackson-Thriller\",\"Michael Jackson-Thriller\",\"Michael Jackson-Thriller\",\"Michael Jackson-Thriller\",\"Michael Jackson-Thriller\",\"Michael Jackson-Thriller\",\"Michael Jackson-Thriller\",\"Michael Jackson-Thriller\",\"Michael Jackson-Thriller\",\"Michael Jackson-Thriller\",\"Michael Jackson-Thriller\",\"Michael Jackson-Thriller\",\"Michael Jackson-Thriller\",\"Michael Jackson-Thriller\",\"Michael Jackson-Thriller\",\"Michael Jackson-Thriller\",\"Michael Jackson-Thriller\",\"Michael Jackson-Thriller\"],\"album\":[\"Thriller\",\"Thriller\",\"Thriller\",\"Thriller\",\"Thriller\",\"Thriller\",\"Thriller\",\"Thriller\",\"Thriller\",\"Thriller\",\"Thriller\",\"Thriller\",\"Thriller\",\"Thriller\",\"Thriller\",\"Thriller\",\"Thriller\",\"Thriller\",\"Thriller\",\"Thriller\",\"Thriller\",\"Thriller\",\"Thriller\",\"Thriller\",\"Thriller\",\"Thriller\",\"Thriller\",\"Thriller\",\"Thriller\",\"Thriller\",\"Thriller\",\"Thriller\",\"Thriller\",\"Thriller\",\"Thriller\",\"Thriller\",\"Thriller\",\"Thriller\",\"Thriller\",\"Thriller\",\"Thriller\",\"Thriller\",\"Thriller\",\"Thriller\",\"Thriller\",\"Thriller\",\"Thriller\",\"Thriller\",\"Thriller\",\"Thriller\",\"Thriller\",\"Thriller\",\"Thriller\",\"Thriller\",\"Thriller\",\"Thriller\",\"Thriller\",\"Thriller\",\"Thriller\",\"Thriller\",\"Thriller\",\"Thriller\",\"Thriller\",\"Thriller\",\"Thriller\",\"Thriller\",\"Thriller\",\"Thriller\",\"Thriller\",\"Thriller\",\"Thriller\",\"Thriller\",\"Thriller\",\"Thriller\",\"Thriller\",\"Thriller\",\"Thriller\",\"Thriller\",\"Thriller\",\"Thriller\",\"Thriller\",\"Thriller\",\"Thriller\",\"Thriller\",\"Thriller\",\"Thriller\",\"Thriller\",\"Thriller\",\"Thriller\",\"Thriller\",\"Thriller\",\"Thriller\",\"Thriller\",\"Thriller\",\"Thriller\",\"Thriller\",\"Thriller\",\"Thriller\",\"Thriller\",\"Thriller\",\"Thriller\",\"Thriller\",\"Thriller\",\"Thriller\"],\"artist\":[\"Michael Jackson\",\"Michael Jackson\",\"Michael Jackson\",\"Michael Jackson\",\"Michael Jackson\",\"Michael Jackson\",\"Michael Jackson\",\"Michael Jackson\",\"Michael Jackson\",\"Michael Jackson\",\"Michael Jackson\",\"Michael Jackson\",\"Michael Jackson\",\"Michael Jackson\",\"Michael Jackson\",\"Michael Jackson\",\"Michael Jackson\",\"Michael Jackson\",\"Michael Jackson\",\"Michael Jackson\",\"Michael Jackson\",\"Michael Jackson\",\"Michael Jackson\",\"Michael Jackson\",\"Michael Jackson\",\"Michael Jackson\",\"Michael Jackson\",\"Michael Jackson\",\"Michael Jackson\",\"Michael Jackson\",\"Michael Jackson\",\"Michael Jackson\",\"Michael Jackson\",\"Michael Jackson\",\"Michael Jackson\",\"Michael Jackson\",\"Michael Jackson\",\"Michael Jackson\",\"Michael Jackson\",\"Michael Jackson\",\"Michael Jackson\",\"Michael Jackson\",\"Michael Jackson\",\"Michael Jackson\",\"Michael Jackson\",\"Michael Jackson\",\"Michael Jackson\",\"Michael Jackson\",\"Michael Jackson\",\"Michael Jackson\",\"Michael Jackson\",\"Michael Jackson\",\"Michael Jackson\",\"Michael Jackson\",\"Michael Jackson\",\"Michael Jackson\",\"Michael Jackson\",\"Michael Jackson\",\"Michael Jackson\",\"Michael Jackson\",\"Michael Jackson\",\"Michael Jackson\",\"Michael Jackson\",\"Michael Jackson\",\"Michael Jackson\",\"Michael Jackson\",\"Michael Jackson\",\"Michael Jackson\",\"Michael Jackson\",\"Michael Jackson\",\"Michael Jackson\",\"Michael Jackson\",\"Michael Jackson\",\"Michael Jackson\",\"Michael Jackson\",\"Michael Jackson\",\"Michael Jackson\",\"Michael Jackson\",\"Michael Jackson\",\"Michael Jackson\",\"Michael Jackson\",\"Michael Jackson\",\"Michael Jackson\",\"Michael Jackson\",\"Michael Jackson\",\"Michael Jackson\",\"Michael Jackson\",\"Michael Jackson\",\"Michael Jackson\",\"Michael Jackson\",\"Michael Jackson\",\"Michael Jackson\",\"Michael Jackson\",\"Michael Jackson\",\"Michael Jackson\",\"Michael Jackson\",\"Michael Jackson\",\"Michael Jackson\",\"Michael Jackson\",\"Michael Jackson\",\"Michael Jackson\",\"Michael Jackson\",\"Michael Jackson\",\"Michael Jackson\"],\"date\":[409622400000.0,410227200000.0,410832000000.0,411436800000.0,412041600000.0,412646400000.0,413251200000.0,413856000000.0,414460800000.0,415065600000.0,415670400000.0,416275200000.0,416880000000.0,417484800000.0,418089600000.0,418694400000.0,419299200000.0,419904000000.0,420508800000.0,421113600000.0,421718400000.0,422323200000.0,422928000000.0,423532800000.0,424137600000.0,424742400000.0,425347200000.0,425952000000.0,426556800000.0,427161600000.0,427766400000.0,428371200000.0,428976000000.0,429580800000.0,430185600000.0,430790400000.0,431395200000.0,432000000000.0,432604800000.0,433209600000.0,433814400000.0,434419200000.0,435024000000.0,435628800000.0,436233600000.0,436838400000.0,437443200000.0,438048000000.0,438652800000.0,439257600000.0,439862400000.0,440467200000.0,441072000000.0,441676800000.0,442281600000.0,442886400000.0,443491200000.0,444096000000.0,444700800000.0,445305600000.0,445910400000.0,446515200000.0,447120000000.0,447724800000.0,448329600000.0,448934400000.0,449539200000.0,450144000000.0,450748800000.0,451353600000.0,451958400000.0,452563200000.0,453168000000.0,453772800000.0,454377600000.0,454982400000.0,455587200000.0,456192000000.0,456796800000.0,457401600000.0,458006400000.0,458611200000.0,459216000000.0,459820800000.0,460425600000.0,461030400000.0,461635200000.0,462240000000.0,462844800000.0,463449600000.0,464054400000.0,464659200000.0,465264000000.0,465868800000.0,466473600000.0,467078400000.0,467683200000.0,468288000000.0,468892800000.0,469497600000.0,470102400000.0,470707200000.0,471312000000.0,471916800000.0],\"index\":[369010,368810,368608,368407,368204,368004,367804,367604,367403,367200,367000,366800,366600,366400,366200,366000,365800,365600,365400,365200,365000,364800,364600,364400,364200,364000,363801,363601,363400,363200,363002,362801,362601,362401,362201,362001,361801,361600,361401,361201,361001,360801,360601,360401,360201,360001,359802,359602,359402,359203,359002,358801,358600,358400,358200,358000,357800,357600,357400,357200,357000,356800,356600,356400,356200,356000,355800,355600,355400,355202,355003,354803,354602,354402,354202,354005,353807,353607,353407,353207,353011,352813,352619,352419,352228,352030,351830,351632,351433,351238,351038,350850,350655,350454,350255,350077,349876,349688,349504,349305,349101,348909,348704,348501],\"rank\":[11,11,9,8,5,5,5,5,4,1,1,1,1,1,1,1,1,1,1,1,1,1,1,1,1,1,2,2,1,1,3,2,2,2,2,2,2,1,2,2,2,2,2,2,2,2,3,3,3,4,3,2,1,1,1,1,1,1,1,1,1,1,1,1,1,1,1,1,1,3,4,4,3,3,3,6,8,8,8,8,12,14,20,20,29,31,31,33,34,39,39,51,56,55,56,78,77,89,105,106,102,110,105,102]},\"selected\":{\"id\":\"2e75eeff-5eb7-4de8-b43c-9626e71921bd\",\"type\":\"Selection\"},\"selection_policy\":{\"id\":\"995916f2-07c4-41b8-a8b0-aca0ea446900\",\"type\":\"UnionRenderers\"}},\"id\":\"3a4c89ef-6380-43f0-99fe-02bd235e4e2f\",\"type\":\"ColumnDataSource\"},{\"attributes\":{},\"id\":\"7526681f-c0ea-4994-90ca-023cf428b72c\",\"type\":\"DatetimeTickFormatter\"},{\"attributes\":{},\"id\":\"49d391cf-a6c0-4bc5-8146-e72ee753f4ab\",\"type\":\"BasicTicker\"},{\"attributes\":{\"below\":[{\"id\":\"2f73e573-4ae8-46b3-a347-46990ae36c6c\",\"type\":\"DatetimeAxis\"}],\"left\":[{\"id\":\"81fc8176-1e75-4f1d-a2ea-88857bf7810c\",\"type\":\"LinearAxis\"}],\"plot_height\":400,\"plot_width\":500,\"renderers\":[{\"id\":\"2f73e573-4ae8-46b3-a347-46990ae36c6c\",\"type\":\"DatetimeAxis\"},{\"id\":\"61cd6e3e-d9e4-4aad-a047-a1889efbe264\",\"type\":\"Grid\"},{\"id\":\"81fc8176-1e75-4f1d-a2ea-88857bf7810c\",\"type\":\"LinearAxis\"},{\"id\":\"407ea5cd-0b78-4742-9df1-263b7f2e4218\",\"type\":\"Grid\"},{\"id\":\"2c41562e-486a-4475-a08d-0416b6753d88\",\"type\":\"BoxAnnotation\"},{\"id\":\"ff79b4b6-cf2d-4095-a75a-4f52da1a61db\",\"type\":\"GlyphRenderer\"},{\"id\":\"9fb20c17-6bcc-4638-aa60-5b20717205fc\",\"type\":\"GlyphRenderer\"}],\"title\":{\"id\":\"e0b08d4f-2783-4b9c-ba59-9eadc96e97a4\",\"type\":\"Title\"},\"toolbar\":{\"id\":\"08947b93-266e-43e4-a00f-923297b9d743\",\"type\":\"Toolbar\"},\"x_range\":{\"id\":\"fddfebcf-ea99-4a7d-bd1d-4ce4b6fe5c7a\",\"type\":\"DataRange1d\"},\"x_scale\":{\"id\":\"f4319be6-c481-4276-b06a-65c07abf28d4\",\"type\":\"LinearScale\"},\"y_range\":{\"id\":\"274ede47-3a2f-468a-a983-d9c94a53fa46\",\"type\":\"Range1d\"},\"y_scale\":{\"id\":\"18e407a7-136d-4bc5-b987-ca817d70d367\",\"type\":\"LinearScale\"}},\"id\":\"6fbd810b-e4b7-4e70-a30e-c7af3e52bb1b\",\"subtype\":\"Figure\",\"type\":\"Plot\"}],\"root_ids\":[\"6fbd810b-e4b7-4e70-a30e-c7af3e52bb1b\"]},\"title\":\"Bokeh Application\",\"version\":\"0.12.16\"}};\n",
       "  var render_items = [{\"docid\":\"79b786bd-c649-482a-a76e-06d432599415\",\"elementid\":\"b2b383be-aa7d-4568-a290-cc638e769fb7\",\"modelid\":\"6fbd810b-e4b7-4e70-a30e-c7af3e52bb1b\"}];\n",
       "  root.Bokeh.embed.embed_items_notebook(docs_json, render_items);\n",
       "\n",
       "  }\n",
       "  if (root.Bokeh !== undefined) {\n",
       "    embed_document(root);\n",
       "  } else {\n",
       "    var attempts = 0;\n",
       "    var timer = setInterval(function(root) {\n",
       "      if (root.Bokeh !== undefined) {\n",
       "        embed_document(root);\n",
       "        clearInterval(timer);\n",
       "      }\n",
       "      attempts++;\n",
       "      if (attempts > 100) {\n",
       "        console.log(\"Bokeh: ERROR: Unable to run BokehJS code because BokehJS library is missing\")\n",
       "        clearInterval(timer);\n",
       "      }\n",
       "    }, 10, root)\n",
       "  }\n",
       "})(window);"
      ],
      "application/vnd.bokehjs_exec.v0+json": ""
     },
     "metadata": {
      "application/vnd.bokehjs_exec.v0+json": {
       "id": "6fbd810b-e4b7-4e70-a30e-c7af3e52bb1b"
      }
     },
     "output_type": "display_data"
    }
   ],
   "source": [
    "top200[top200['album']=='Thriller'].sort_values(by='date')\n",
    "source = ColumnDataSource(top200[top200['album']=='Thriller'].sort_values(by='date')[:104])\n",
    "p = figure(y_range=(200,1), plot_width=500, plot_height=400,x_axis_type=\"datetime\", title=\"Thriller: First 2 Years\")\n",
    "p.circle('date','rank',source=source,size=3,color='black')\n",
    "p.line('date','rank',source=source,color='darkred')\n",
    "p.yaxis.axis_label = \"Chart Ranking\"\n",
    "show(p)"
   ]
  },
  {
   "cell_type": "code",
   "execution_count": 234,
   "metadata": {},
   "outputs": [
    {
     "data": {
      "text/html": [
       "\n",
       "<div class=\"bk-root\">\n",
       "    <div class=\"bk-plotdiv\" id=\"0f05db11-aec7-4e7c-a9bb-d68d72c0388f\"></div>\n",
       "</div>"
      ]
     },
     "metadata": {},
     "output_type": "display_data"
    },
    {
     "data": {
      "application/javascript": [
       "(function(root) {\n",
       "  function embed_document(root) {\n",
       "    \n",
       "  var docs_json = {\"61e9f249-9536-46e5-bd45-dc65d2594563\":{\"roots\":{\"references\":[{\"attributes\":{\"callback\":null,\"data\":{\"Artist_Album\":[\"Pink Floyd-The Dark Side Of The Moon\",\"Pink Floyd-The Dark Side Of The Moon\",\"Pink Floyd-The Dark Side Of The Moon\",\"Pink Floyd-The Dark Side Of The Moon\",\"Pink Floyd-The Dark Side Of The Moon\",\"Pink Floyd-The Dark Side Of The Moon\",\"Pink Floyd-The Dark Side Of The Moon\",\"Pink Floyd-The Dark Side Of The Moon\",\"Pink Floyd-The Dark Side Of The Moon\",\"Pink Floyd-The Dark Side Of The Moon\",\"Pink Floyd-The Dark Side Of The Moon\",\"Pink Floyd-The Dark Side Of The Moon\",\"Pink Floyd-The Dark Side Of The Moon\",\"Pink Floyd-The Dark Side Of The Moon\",\"Pink Floyd-The Dark Side Of The Moon\",\"Pink Floyd-The Dark Side Of The Moon\",\"Pink Floyd-The Dark Side Of The Moon\",\"Pink Floyd-The Dark Side Of The Moon\",\"Pink Floyd-The Dark Side Of The Moon\",\"Pink Floyd-The Dark Side Of The Moon\",\"Pink Floyd-The Dark Side Of The Moon\",\"Pink Floyd-The Dark Side Of The Moon\",\"Pink Floyd-The Dark Side Of The Moon\",\"Pink Floyd-The Dark Side Of The Moon\",\"Pink Floyd-The Dark Side Of The Moon\",\"Pink Floyd-The Dark Side Of The Moon\",\"Pink Floyd-The Dark Side Of The Moon\",\"Pink Floyd-The Dark Side Of The Moon\",\"Pink Floyd-The Dark Side Of The Moon\",\"Pink Floyd-The Dark Side Of The Moon\",\"Pink Floyd-The Dark Side Of The Moon\",\"Pink Floyd-The Dark Side Of The Moon\",\"Pink Floyd-The Dark Side Of The Moon\",\"Pink Floyd-The Dark Side Of The Moon\",\"Pink Floyd-The Dark Side Of The Moon\",\"Pink Floyd-The Dark Side Of The Moon\",\"Pink Floyd-The Dark Side Of The Moon\",\"Pink Floyd-The Dark Side Of The Moon\",\"Pink Floyd-The Dark Side Of The Moon\",\"Pink Floyd-The Dark Side Of The Moon\",\"Pink Floyd-The Dark Side Of The Moon\",\"Pink Floyd-The Dark Side Of The Moon\",\"Pink Floyd-The Dark Side Of The Moon\",\"Pink Floyd-The Dark Side Of The Moon\",\"Pink Floyd-The Dark Side Of The Moon\",\"Pink Floyd-The Dark Side Of The Moon\",\"Pink Floyd-The Dark Side Of The Moon\",\"Pink Floyd-The Dark Side Of The Moon\",\"Pink Floyd-The Dark Side Of The Moon\",\"Pink Floyd-The Dark Side Of The Moon\",\"Pink Floyd-The Dark Side Of The Moon\",\"Pink Floyd-The Dark Side Of The Moon\",\"Pink Floyd-The Dark Side Of The Moon\",\"Pink Floyd-The Dark Side Of The Moon\",\"Pink Floyd-The Dark Side Of The Moon\",\"Pink Floyd-The Dark Side Of The Moon\",\"Pink Floyd-The Dark Side Of The Moon\",\"Pink Floyd-The Dark Side Of The Moon\",\"Pink Floyd-The Dark Side Of The Moon\",\"Pink Floyd-The Dark Side Of The Moon\",\"Pink Floyd-The Dark Side Of The Moon\",\"Pink Floyd-The Dark Side Of The Moon\",\"Pink Floyd-The Dark Side Of The Moon\",\"Pink Floyd-The Dark Side Of The Moon\",\"Pink Floyd-The Dark Side Of The Moon\",\"Pink Floyd-The Dark Side Of The Moon\",\"Pink Floyd-The Dark Side Of The Moon\",\"Pink Floyd-The Dark Side Of The Moon\",\"Pink Floyd-The Dark Side Of The Moon\",\"Pink Floyd-The Dark Side Of The Moon\",\"Pink Floyd-The Dark Side Of The Moon\",\"Pink Floyd-The Dark Side Of The Moon\",\"Pink Floyd-The Dark Side Of The Moon\",\"Pink Floyd-The Dark Side Of The Moon\",\"Pink Floyd-The Dark Side Of The Moon\",\"Pink Floyd-The Dark Side Of The Moon\",\"Pink Floyd-The Dark Side Of The Moon\",\"Pink Floyd-The Dark Side Of The Moon\",\"Pink Floyd-The Dark Side Of The Moon\",\"Pink Floyd-The Dark Side Of The Moon\",\"Pink Floyd-The Dark Side Of The Moon\",\"Pink Floyd-The Dark Side Of The Moon\",\"Pink Floyd-The Dark Side Of The Moon\",\"Pink Floyd-The Dark Side Of The Moon\",\"Pink Floyd-The Dark Side Of The Moon\",\"Pink Floyd-The Dark Side Of The Moon\",\"Pink Floyd-The Dark Side Of The Moon\",\"Pink Floyd-The Dark Side Of The Moon\",\"Pink Floyd-The Dark Side Of The Moon\",\"Pink Floyd-The Dark Side Of The Moon\",\"Pink Floyd-The Dark Side Of The Moon\",\"Pink Floyd-The Dark Side Of The Moon\",\"Pink Floyd-The Dark Side Of The Moon\",\"Pink Floyd-The Dark Side Of The Moon\",\"Pink Floyd-The Dark Side Of The Moon\",\"Pink Floyd-The Dark Side Of The Moon\",\"Pink Floyd-The Dark Side Of The Moon\",\"Pink Floyd-The Dark Side Of The Moon\",\"Pink Floyd-The Dark Side Of The Moon\",\"Pink Floyd-The Dark Side Of The Moon\",\"Pink Floyd-The Dark Side Of The Moon\",\"Pink Floyd-The Dark Side Of The Moon\",\"Pink Floyd-The Dark Side Of The Moon\",\"Pink Floyd-The Dark Side Of The Moon\"],\"album\":[\"The Dark Side Of The Moon\",\"The Dark Side Of The Moon\",\"The Dark Side Of The Moon\",\"The Dark Side Of The Moon\",\"The Dark Side Of The Moon\",\"The Dark Side Of The Moon\",\"The Dark Side Of The Moon\",\"The Dark Side Of The Moon\",\"The Dark Side Of The Moon\",\"The Dark Side Of The Moon\",\"The Dark Side Of The Moon\",\"The Dark Side Of The Moon\",\"The Dark Side Of The Moon\",\"The Dark Side Of The Moon\",\"The Dark Side Of The Moon\",\"The Dark Side Of The Moon\",\"The Dark Side Of The Moon\",\"The Dark Side Of The Moon\",\"The Dark Side Of The Moon\",\"The Dark Side Of The Moon\",\"The Dark Side Of The Moon\",\"The Dark Side Of The Moon\",\"The Dark Side Of The Moon\",\"The Dark Side Of The Moon\",\"The Dark Side Of The Moon\",\"The Dark Side Of The Moon\",\"The Dark Side Of The Moon\",\"The Dark Side Of The Moon\",\"The Dark Side Of The Moon\",\"The Dark Side Of The Moon\",\"The Dark Side Of The Moon\",\"The Dark Side Of The Moon\",\"The Dark Side Of The Moon\",\"The Dark Side Of The Moon\",\"The Dark Side Of The Moon\",\"The Dark Side Of The Moon\",\"The Dark Side Of The Moon\",\"The Dark Side Of The Moon\",\"The Dark Side Of The Moon\",\"The Dark Side Of The Moon\",\"The Dark Side Of The Moon\",\"The Dark Side Of The Moon\",\"The Dark Side Of The Moon\",\"The Dark Side Of The Moon\",\"The Dark Side Of The Moon\",\"The Dark Side Of The Moon\",\"The Dark Side Of The Moon\",\"The Dark Side Of The Moon\",\"The Dark Side Of The Moon\",\"The Dark Side Of The Moon\",\"The Dark Side Of The Moon\",\"The Dark Side Of The Moon\",\"The Dark Side Of The Moon\",\"The Dark Side Of The Moon\",\"The Dark Side Of The Moon\",\"The Dark Side Of The Moon\",\"The Dark Side Of The Moon\",\"The Dark Side Of The Moon\",\"The Dark Side Of The Moon\",\"The Dark Side Of The Moon\",\"The Dark Side Of The Moon\",\"The Dark Side Of The Moon\",\"The Dark Side Of The Moon\",\"The Dark Side Of The Moon\",\"The Dark Side Of The Moon\",\"The Dark Side Of The Moon\",\"The Dark Side Of The Moon\",\"The Dark Side Of The Moon\",\"The Dark Side Of The Moon\",\"The Dark Side Of The Moon\",\"The Dark Side Of The Moon\",\"The Dark Side Of The Moon\",\"The Dark Side Of The Moon\",\"The Dark Side Of The Moon\",\"The Dark Side Of The Moon\",\"The Dark Side Of The Moon\",\"The Dark Side Of The Moon\",\"The Dark Side Of The Moon\",\"The Dark Side Of The Moon\",\"The Dark Side Of The Moon\",\"The Dark Side Of The Moon\",\"The Dark Side Of The Moon\",\"The Dark Side Of The Moon\",\"The Dark Side Of The Moon\",\"The Dark Side Of The Moon\",\"The Dark Side Of The Moon\",\"The Dark Side Of The Moon\",\"The Dark Side Of The Moon\",\"The Dark Side Of The Moon\",\"The Dark Side Of The Moon\",\"The Dark Side Of The Moon\",\"The Dark Side Of The Moon\",\"The Dark Side Of The Moon\",\"The Dark Side Of The Moon\",\"The Dark Side Of The Moon\",\"The Dark Side Of The Moon\",\"The Dark Side Of The Moon\",\"The Dark Side Of The Moon\",\"The Dark Side Of The Moon\",\"The Dark Side Of The Moon\",\"The Dark Side Of The Moon\",\"The Dark Side Of The Moon\",\"The Dark Side Of The Moon\",\"The Dark Side Of The Moon\"],\"artist\":[\"Pink Floyd\",\"Pink Floyd\",\"Pink Floyd\",\"Pink Floyd\",\"Pink Floyd\",\"Pink Floyd\",\"Pink Floyd\",\"Pink Floyd\",\"Pink Floyd\",\"Pink Floyd\",\"Pink Floyd\",\"Pink Floyd\",\"Pink Floyd\",\"Pink Floyd\",\"Pink Floyd\",\"Pink Floyd\",\"Pink Floyd\",\"Pink Floyd\",\"Pink Floyd\",\"Pink Floyd\",\"Pink Floyd\",\"Pink Floyd\",\"Pink Floyd\",\"Pink Floyd\",\"Pink Floyd\",\"Pink Floyd\",\"Pink Floyd\",\"Pink Floyd\",\"Pink Floyd\",\"Pink Floyd\",\"Pink Floyd\",\"Pink Floyd\",\"Pink Floyd\",\"Pink Floyd\",\"Pink Floyd\",\"Pink Floyd\",\"Pink Floyd\",\"Pink Floyd\",\"Pink Floyd\",\"Pink Floyd\",\"Pink Floyd\",\"Pink Floyd\",\"Pink Floyd\",\"Pink Floyd\",\"Pink Floyd\",\"Pink Floyd\",\"Pink Floyd\",\"Pink Floyd\",\"Pink Floyd\",\"Pink Floyd\",\"Pink Floyd\",\"Pink Floyd\",\"Pink Floyd\",\"Pink Floyd\",\"Pink Floyd\",\"Pink Floyd\",\"Pink Floyd\",\"Pink Floyd\",\"Pink Floyd\",\"Pink Floyd\",\"Pink Floyd\",\"Pink Floyd\",\"Pink Floyd\",\"Pink Floyd\",\"Pink Floyd\",\"Pink Floyd\",\"Pink Floyd\",\"Pink Floyd\",\"Pink Floyd\",\"Pink Floyd\",\"Pink Floyd\",\"Pink Floyd\",\"Pink Floyd\",\"Pink Floyd\",\"Pink Floyd\",\"Pink Floyd\",\"Pink Floyd\",\"Pink Floyd\",\"Pink Floyd\",\"Pink Floyd\",\"Pink Floyd\",\"Pink Floyd\",\"Pink Floyd\",\"Pink Floyd\",\"Pink Floyd\",\"Pink Floyd\",\"Pink Floyd\",\"Pink Floyd\",\"Pink Floyd\",\"Pink Floyd\",\"Pink Floyd\",\"Pink Floyd\",\"Pink Floyd\",\"Pink Floyd\",\"Pink Floyd\",\"Pink Floyd\",\"Pink Floyd\",\"Pink Floyd\",\"Pink Floyd\",\"Pink Floyd\",\"Pink Floyd\",\"Pink Floyd\",\"Pink Floyd\",\"Pink Floyd\"],\"date\":[101174400000.0,101779200000.0,102384000000.0,102988800000.0,103593600000.0,104198400000.0,104803200000.0,105408000000.0,106012800000.0,106617600000.0,107222400000.0,107827200000.0,108432000000.0,109036800000.0,109641600000.0,110246400000.0,110851200000.0,111456000000.0,112060800000.0,112665600000.0,113270400000.0,113875200000.0,114480000000.0,115084800000.0,115689600000.0,116294400000.0,116899200000.0,117504000000.0,118108800000.0,118713600000.0,119318400000.0,119923200000.0,120528000000.0,121132800000.0,121737600000.0,122342400000.0,122947200000.0,123552000000.0,124156800000.0,124761600000.0,125366400000.0,125971200000.0,126576000000.0,127180800000.0,127785600000.0,128390400000.0,128995200000.0,129600000000.0,130204800000.0,130809600000.0,131414400000.0,132019200000.0,132624000000.0,133228800000.0,133833600000.0,134438400000.0,135043200000.0,135648000000.0,136252800000.0,136857600000.0,137462400000.0,138067200000.0,138672000000.0,139276800000.0,139881600000.0,140486400000.0,141091200000.0,141696000000.0,142300800000.0,142905600000.0,143510400000.0,144115200000.0,144720000000.0,145324800000.0,145929600000.0,146534400000.0,147139200000.0,147744000000.0,148348800000.0,148953600000.0,149558400000.0,150163200000.0,150768000000.0,151372800000.0,166492800000.0,167097600000.0,167702400000.0,168307200000.0,168912000000.0,169516800000.0,170121600000.0,170726400000.0,171331200000.0,171936000000.0,172540800000.0,173145600000.0,173750400000.0,174355200000.0,174960000000.0,175564800000.0,176169600000.0,176774400000.0,177379200000.0,177984000000.0],\"index\":[469494,469241,469026,468808,468605,468402,468200,468003,467805,467605,467405,467205,467008,466807,466606,466404,466203,466003,465802,465601,465401,465201,465002,464802,464601,464402,464206,464009,463809,463609,463411,463210,463013,462813,462613,462419,462220,462019,461821,461620,461433,461231,461031,460829,460628,460426,460226,460025,459823,459621,459430,459232,459033,458844,458646,458447,458249,458045,457843,457642,457441,457240,457039,456838,456636,456437,456237,456034,455832,455640,455444,455240,455053,454864,454671,454475,454277,454081,453884,453689,453504,453351,453171,452988,447978,447717,447487,447262,447051,446840,446636,446432,446226,446022,445822,445644,445444,445258,445086,444875,444664,444464,444270,444100],\"rank\":[95,42,27,9,6,3,1,4,6,6,6,6,9,8,7,5,4,4,3,2,2,2,3,3,2,3,7,10,10,10,12,11,14,14,14,20,21,20,22,21,34,32,32,30,29,27,27,26,24,22,31,33,34,45,47,48,50,46,44,43,42,41,40,39,37,38,38,35,33,41,45,41,54,65,72,76,78,82,85,90,105,152,172,189,179,118,88,63,52,41,37,33,27,23,23,45,45,59,87,76,65,65,71,101]},\"selected\":{\"id\":\"d8979c50-0ece-4396-ba1b-29927a799f2f\",\"type\":\"Selection\"},\"selection_policy\":{\"id\":\"955b190a-e4a5-4a35-8abc-6dce01cd0357\",\"type\":\"UnionRenderers\"}},\"id\":\"a0a1fd8d-089c-4cd0-83aa-83caea7daf20\",\"type\":\"ColumnDataSource\"},{\"attributes\":{},\"id\":\"adf0d8f3-c8e4-49a5-bebc-c7193e6f43f5\",\"type\":\"LinearScale\"},{\"attributes\":{},\"id\":\"955b190a-e4a5-4a35-8abc-6dce01cd0357\",\"type\":\"UnionRenderers\"},{\"attributes\":{\"callback\":null},\"id\":\"ae42d11c-95ca-4c6c-ba54-162456ba3b14\",\"type\":\"DataRange1d\"},{\"attributes\":{},\"id\":\"f0130e4f-2f25-4eed-8914-1332650c881b\",\"type\":\"LinearScale\"},{\"attributes\":{\"callback\":null,\"start\":200},\"id\":\"75f4a1c9-f147-4c9e-8b29-d3e10d0af6f8\",\"type\":\"Range1d\"},{\"attributes\":{\"active_drag\":\"auto\",\"active_inspect\":\"auto\",\"active_scroll\":\"auto\",\"active_tap\":\"auto\",\"tools\":[{\"id\":\"496d1e45-928d-41b3-b7cc-6471588bfcd8\",\"type\":\"PanTool\"},{\"id\":\"b6eb2938-d5e0-475c-9bd5-c953433c9600\",\"type\":\"WheelZoomTool\"},{\"id\":\"dfaba60f-c19c-492e-b2e8-1e8ea066e930\",\"type\":\"BoxZoomTool\"},{\"id\":\"27217491-f420-4aad-a13c-4fc5798a3fb8\",\"type\":\"SaveTool\"},{\"id\":\"a3bb315d-6a67-45ca-b490-6196f18c1d34\",\"type\":\"ResetTool\"},{\"id\":\"1516028c-0d36-4650-b651-b23916d1601c\",\"type\":\"HelpTool\"}]},\"id\":\"2ff466c0-24d7-4031-8449-673cdf57a524\",\"type\":\"Toolbar\"},{\"attributes\":{\"fill_alpha\":{\"value\":0.1},\"fill_color\":{\"value\":\"#1f77b4\"},\"line_alpha\":{\"value\":0.1},\"line_color\":{\"value\":\"#1f77b4\"},\"size\":{\"units\":\"screen\",\"value\":3},\"x\":{\"field\":\"date\"},\"y\":{\"field\":\"rank\"}},\"id\":\"cdd464fd-dd30-419b-8bdb-691e25116f86\",\"type\":\"Circle\"},{\"attributes\":{\"months\":[0,1,2,3,4,5,6,7,8,9,10,11]},\"id\":\"18345354-9ac1-4348-a9df-4a9ce3f46fa4\",\"type\":\"MonthsTicker\"},{\"attributes\":{},\"id\":\"d8979c50-0ece-4396-ba1b-29927a799f2f\",\"type\":\"Selection\"},{\"attributes\":{\"base\":24,\"mantissas\":[1,2,4,6,8,12],\"max_interval\":43200000.0,\"min_interval\":3600000.0,\"num_minor_ticks\":0},\"id\":\"5afe0d0b-ca41-4504-8a86-64147ef90aed\",\"type\":\"AdaptiveTicker\"},{\"attributes\":{},\"id\":\"e9b9834d-674c-4b7e-88c6-15a832d50de0\",\"type\":\"BasicTickFormatter\"},{\"attributes\":{\"plot\":{\"id\":\"7b9a3ebf-e0c0-410b-8d53-77947331c4b0\",\"subtype\":\"Figure\",\"type\":\"Plot\"},\"ticker\":{\"id\":\"87ffb54c-e20c-4b81-b07f-c0cfb17f787c\",\"type\":\"DatetimeTicker\"}},\"id\":\"05ef3034-b0b4-4154-ba72-30ad03e93650\",\"type\":\"Grid\"},{\"attributes\":{\"days\":[1,4,7,10,13,16,19,22,25,28]},\"id\":\"9100f3a1-54e9-43d4-9188-14b8f8051536\",\"type\":\"DaysTicker\"},{\"attributes\":{\"source\":{\"id\":\"a0a1fd8d-089c-4cd0-83aa-83caea7daf20\",\"type\":\"ColumnDataSource\"}},\"id\":\"84b39663-b15b-4bec-bd98-c1f5e452c305\",\"type\":\"CDSView\"},{\"attributes\":{},\"id\":\"4efc41d9-4f9a-4552-a252-e51ebe39883f\",\"type\":\"YearsTicker\"},{\"attributes\":{\"formatter\":{\"id\":\"ffa43e43-a290-4c2d-92bf-2ac0b71cacf0\",\"type\":\"DatetimeTickFormatter\"},\"plot\":{\"id\":\"7b9a3ebf-e0c0-410b-8d53-77947331c4b0\",\"subtype\":\"Figure\",\"type\":\"Plot\"},\"ticker\":{\"id\":\"87ffb54c-e20c-4b81-b07f-c0cfb17f787c\",\"type\":\"DatetimeTicker\"}},\"id\":\"d2b7bd13-dbe7-43bb-b8ae-bb16c292172d\",\"type\":\"DatetimeAxis\"},{\"attributes\":{\"dimension\":1,\"plot\":{\"id\":\"7b9a3ebf-e0c0-410b-8d53-77947331c4b0\",\"subtype\":\"Figure\",\"type\":\"Plot\"},\"ticker\":{\"id\":\"e9802255-3a40-4db5-9c25-1e54e1af5c16\",\"type\":\"BasicTicker\"}},\"id\":\"e0fb3de3-6693-41de-a65a-b9cd26aa3d17\",\"type\":\"Grid\"},{\"attributes\":{\"days\":[1,15]},\"id\":\"2ed8b222-298b-4a78-b858-954d177168ec\",\"type\":\"DaysTicker\"},{\"attributes\":{},\"id\":\"e9802255-3a40-4db5-9c25-1e54e1af5c16\",\"type\":\"BasicTicker\"},{\"attributes\":{\"axis_label\":\"Chart Ranking\",\"formatter\":{\"id\":\"e9b9834d-674c-4b7e-88c6-15a832d50de0\",\"type\":\"BasicTickFormatter\"},\"plot\":{\"id\":\"7b9a3ebf-e0c0-410b-8d53-77947331c4b0\",\"subtype\":\"Figure\",\"type\":\"Plot\"},\"ticker\":{\"id\":\"e9802255-3a40-4db5-9c25-1e54e1af5c16\",\"type\":\"BasicTicker\"}},\"id\":\"bbc11c02-5d98-4e2f-b90d-896d437db974\",\"type\":\"LinearAxis\"},{\"attributes\":{\"num_minor_ticks\":5,\"tickers\":[{\"id\":\"77877f2f-8e13-4c4b-9031-f66d6b221e2c\",\"type\":\"AdaptiveTicker\"},{\"id\":\"10296ec9-5ea8-4362-aca3-f5705779c45b\",\"type\":\"AdaptiveTicker\"},{\"id\":\"5afe0d0b-ca41-4504-8a86-64147ef90aed\",\"type\":\"AdaptiveTicker\"},{\"id\":\"76a881e8-a113-4c6b-963e-b859d1171e5d\",\"type\":\"DaysTicker\"},{\"id\":\"9100f3a1-54e9-43d4-9188-14b8f8051536\",\"type\":\"DaysTicker\"},{\"id\":\"4b1b2a28-c2cb-4fd9-b23f-d8b52860b499\",\"type\":\"DaysTicker\"},{\"id\":\"2ed8b222-298b-4a78-b858-954d177168ec\",\"type\":\"DaysTicker\"},{\"id\":\"18345354-9ac1-4348-a9df-4a9ce3f46fa4\",\"type\":\"MonthsTicker\"},{\"id\":\"9a1e01d9-1544-435e-baa5-86deb7b89862\",\"type\":\"MonthsTicker\"},{\"id\":\"f0e86707-a411-4266-88b8-82e8c7575fbc\",\"type\":\"MonthsTicker\"},{\"id\":\"d59e617b-3f2b-4c0d-84ea-6081340b5159\",\"type\":\"MonthsTicker\"},{\"id\":\"4efc41d9-4f9a-4552-a252-e51ebe39883f\",\"type\":\"YearsTicker\"}]},\"id\":\"87ffb54c-e20c-4b81-b07f-c0cfb17f787c\",\"type\":\"DatetimeTicker\"},{\"attributes\":{\"data_source\":{\"id\":\"a0a1fd8d-089c-4cd0-83aa-83caea7daf20\",\"type\":\"ColumnDataSource\"},\"glyph\":{\"id\":\"1125fc2d-3365-4eb0-8cbe-1be75cf23580\",\"type\":\"Line\"},\"hover_glyph\":null,\"muted_glyph\":null,\"nonselection_glyph\":{\"id\":\"7140aa83-fd2b-4d86-9815-c94af3ad0e23\",\"type\":\"Line\"},\"selection_glyph\":null,\"view\":{\"id\":\"8817ffa9-e4a8-4fc7-93a4-8adc0eecabf5\",\"type\":\"CDSView\"}},\"id\":\"eae9e340-73b7-4c0b-a24b-5c8470daeab9\",\"type\":\"GlyphRenderer\"},{\"attributes\":{\"months\":[0,4,8]},\"id\":\"f0e86707-a411-4266-88b8-82e8c7575fbc\",\"type\":\"MonthsTicker\"},{\"attributes\":{\"source\":{\"id\":\"a0a1fd8d-089c-4cd0-83aa-83caea7daf20\",\"type\":\"ColumnDataSource\"}},\"id\":\"8817ffa9-e4a8-4fc7-93a4-8adc0eecabf5\",\"type\":\"CDSView\"},{\"attributes\":{\"days\":[1,2,3,4,5,6,7,8,9,10,11,12,13,14,15,16,17,18,19,20,21,22,23,24,25,26,27,28,29,30,31]},\"id\":\"76a881e8-a113-4c6b-963e-b859d1171e5d\",\"type\":\"DaysTicker\"},{\"attributes\":{},\"id\":\"496d1e45-928d-41b3-b7cc-6471588bfcd8\",\"type\":\"PanTool\"},{\"attributes\":{\"months\":[0,6]},\"id\":\"d59e617b-3f2b-4c0d-84ea-6081340b5159\",\"type\":\"MonthsTicker\"},{\"attributes\":{\"bottom_units\":\"screen\",\"fill_alpha\":{\"value\":0.5},\"fill_color\":{\"value\":\"lightgrey\"},\"left_units\":\"screen\",\"level\":\"overlay\",\"line_alpha\":{\"value\":1.0},\"line_color\":{\"value\":\"black\"},\"line_dash\":[4,4],\"line_width\":{\"value\":2},\"plot\":null,\"render_mode\":\"css\",\"right_units\":\"screen\",\"top_units\":\"screen\"},\"id\":\"12413b0e-8727-44fb-b185-f6735b1eec44\",\"type\":\"BoxAnnotation\"},{\"attributes\":{},\"id\":\"a3bb315d-6a67-45ca-b490-6196f18c1d34\",\"type\":\"ResetTool\"},{\"attributes\":{\"fill_color\":{\"value\":\"black\"},\"size\":{\"units\":\"screen\",\"value\":3},\"x\":{\"field\":\"date\"},\"y\":{\"field\":\"rank\"}},\"id\":\"eea6a3d7-cce4-4182-9c32-766067952943\",\"type\":\"Circle\"},{\"attributes\":{\"plot\":null,\"text\":\"Dark Side Of The Moon: First 2 Years\"},\"id\":\"0e0219bc-8435-489d-951d-e506add99061\",\"type\":\"Title\"},{\"attributes\":{\"data_source\":{\"id\":\"a0a1fd8d-089c-4cd0-83aa-83caea7daf20\",\"type\":\"ColumnDataSource\"},\"glyph\":{\"id\":\"eea6a3d7-cce4-4182-9c32-766067952943\",\"type\":\"Circle\"},\"hover_glyph\":null,\"muted_glyph\":null,\"nonselection_glyph\":{\"id\":\"cdd464fd-dd30-419b-8bdb-691e25116f86\",\"type\":\"Circle\"},\"selection_glyph\":null,\"view\":{\"id\":\"84b39663-b15b-4bec-bd98-c1f5e452c305\",\"type\":\"CDSView\"}},\"id\":\"df37a6b5-25d8-40ca-a1ea-df4df2c0829b\",\"type\":\"GlyphRenderer\"},{\"attributes\":{\"line_color\":\"darkred\",\"x\":{\"field\":\"date\"},\"y\":{\"field\":\"rank\"}},\"id\":\"1125fc2d-3365-4eb0-8cbe-1be75cf23580\",\"type\":\"Line\"},{\"attributes\":{\"mantissas\":[1,2,5],\"max_interval\":500.0,\"num_minor_ticks\":0},\"id\":\"77877f2f-8e13-4c4b-9031-f66d6b221e2c\",\"type\":\"AdaptiveTicker\"},{\"attributes\":{\"months\":[0,2,4,6,8,10]},\"id\":\"9a1e01d9-1544-435e-baa5-86deb7b89862\",\"type\":\"MonthsTicker\"},{\"attributes\":{},\"id\":\"b6eb2938-d5e0-475c-9bd5-c953433c9600\",\"type\":\"WheelZoomTool\"},{\"attributes\":{\"days\":[1,8,15,22]},\"id\":\"4b1b2a28-c2cb-4fd9-b23f-d8b52860b499\",\"type\":\"DaysTicker\"},{\"attributes\":{},\"id\":\"27217491-f420-4aad-a13c-4fc5798a3fb8\",\"type\":\"SaveTool\"},{\"attributes\":{\"overlay\":{\"id\":\"12413b0e-8727-44fb-b185-f6735b1eec44\",\"type\":\"BoxAnnotation\"}},\"id\":\"dfaba60f-c19c-492e-b2e8-1e8ea066e930\",\"type\":\"BoxZoomTool\"},{\"attributes\":{},\"id\":\"ffa43e43-a290-4c2d-92bf-2ac0b71cacf0\",\"type\":\"DatetimeTickFormatter\"},{\"attributes\":{},\"id\":\"1516028c-0d36-4650-b651-b23916d1601c\",\"type\":\"HelpTool\"},{\"attributes\":{\"below\":[{\"id\":\"d2b7bd13-dbe7-43bb-b8ae-bb16c292172d\",\"type\":\"DatetimeAxis\"}],\"left\":[{\"id\":\"bbc11c02-5d98-4e2f-b90d-896d437db974\",\"type\":\"LinearAxis\"}],\"plot_height\":400,\"plot_width\":500,\"renderers\":[{\"id\":\"d2b7bd13-dbe7-43bb-b8ae-bb16c292172d\",\"type\":\"DatetimeAxis\"},{\"id\":\"05ef3034-b0b4-4154-ba72-30ad03e93650\",\"type\":\"Grid\"},{\"id\":\"bbc11c02-5d98-4e2f-b90d-896d437db974\",\"type\":\"LinearAxis\"},{\"id\":\"e0fb3de3-6693-41de-a65a-b9cd26aa3d17\",\"type\":\"Grid\"},{\"id\":\"12413b0e-8727-44fb-b185-f6735b1eec44\",\"type\":\"BoxAnnotation\"},{\"id\":\"df37a6b5-25d8-40ca-a1ea-df4df2c0829b\",\"type\":\"GlyphRenderer\"},{\"id\":\"eae9e340-73b7-4c0b-a24b-5c8470daeab9\",\"type\":\"GlyphRenderer\"}],\"title\":{\"id\":\"0e0219bc-8435-489d-951d-e506add99061\",\"type\":\"Title\"},\"toolbar\":{\"id\":\"2ff466c0-24d7-4031-8449-673cdf57a524\",\"type\":\"Toolbar\"},\"x_range\":{\"id\":\"ae42d11c-95ca-4c6c-ba54-162456ba3b14\",\"type\":\"DataRange1d\"},\"x_scale\":{\"id\":\"adf0d8f3-c8e4-49a5-bebc-c7193e6f43f5\",\"type\":\"LinearScale\"},\"y_range\":{\"id\":\"75f4a1c9-f147-4c9e-8b29-d3e10d0af6f8\",\"type\":\"Range1d\"},\"y_scale\":{\"id\":\"f0130e4f-2f25-4eed-8914-1332650c881b\",\"type\":\"LinearScale\"}},\"id\":\"7b9a3ebf-e0c0-410b-8d53-77947331c4b0\",\"subtype\":\"Figure\",\"type\":\"Plot\"},{\"attributes\":{\"line_alpha\":0.1,\"line_color\":\"#1f77b4\",\"x\":{\"field\":\"date\"},\"y\":{\"field\":\"rank\"}},\"id\":\"7140aa83-fd2b-4d86-9815-c94af3ad0e23\",\"type\":\"Line\"},{\"attributes\":{\"base\":60,\"mantissas\":[1,2,5,10,15,20,30],\"max_interval\":1800000.0,\"min_interval\":1000.0,\"num_minor_ticks\":0},\"id\":\"10296ec9-5ea8-4362-aca3-f5705779c45b\",\"type\":\"AdaptiveTicker\"}],\"root_ids\":[\"7b9a3ebf-e0c0-410b-8d53-77947331c4b0\"]},\"title\":\"Bokeh Application\",\"version\":\"0.12.16\"}};\n",
       "  var render_items = [{\"docid\":\"61e9f249-9536-46e5-bd45-dc65d2594563\",\"elementid\":\"0f05db11-aec7-4e7c-a9bb-d68d72c0388f\",\"modelid\":\"7b9a3ebf-e0c0-410b-8d53-77947331c4b0\"}];\n",
       "  root.Bokeh.embed.embed_items_notebook(docs_json, render_items);\n",
       "\n",
       "  }\n",
       "  if (root.Bokeh !== undefined) {\n",
       "    embed_document(root);\n",
       "  } else {\n",
       "    var attempts = 0;\n",
       "    var timer = setInterval(function(root) {\n",
       "      if (root.Bokeh !== undefined) {\n",
       "        embed_document(root);\n",
       "        clearInterval(timer);\n",
       "      }\n",
       "      attempts++;\n",
       "      if (attempts > 100) {\n",
       "        console.log(\"Bokeh: ERROR: Unable to run BokehJS code because BokehJS library is missing\")\n",
       "        clearInterval(timer);\n",
       "      }\n",
       "    }, 10, root)\n",
       "  }\n",
       "})(window);"
      ],
      "application/vnd.bokehjs_exec.v0+json": ""
     },
     "metadata": {
      "application/vnd.bokehjs_exec.v0+json": {
       "id": "7b9a3ebf-e0c0-410b-8d53-77947331c4b0"
      }
     },
     "output_type": "display_data"
    }
   ],
   "source": [
    "top200[top200['album']=='The Dark Side Of The Moon'].sort_values(by='date')\n",
    "source = ColumnDataSource(top200[top200['album']=='The Dark Side Of The Moon'].sort_values(by='date')[:104])\n",
    "p = figure(y_range=(200,1), plot_width=500, plot_height=400,x_axis_type=\"datetime\", title=\"Dark Side Of The Moon: First 2 Years\")\n",
    "p.circle('date','rank',source=source,size=3,color='black')\n",
    "p.line('date','rank',source=source,color='darkred')\n",
    "p.yaxis.axis_label = \"Chart Ranking\"\n",
    "show(p)"
   ]
  },
  {
   "cell_type": "markdown",
   "metadata": {},
   "source": [
    "####################\n",
    "# CATALOG ANALYSIS #\n",
    "####################"
   ]
  },
  {
   "cell_type": "code",
   "execution_count": 242,
   "metadata": {},
   "outputs": [],
   "source": [
    "#most appearances as 1 on catalog\n",
    "plot2 = catalog[catalog['rank']==1].groupby('Artist_Album').agg({'date':'count'})\\\n",
    ".sort_values('date',ascending=False)[:10].reset_index()"
   ]
  },
  {
   "cell_type": "code",
   "execution_count": 252,
   "metadata": {},
   "outputs": [
    {
     "data": {
      "text/html": [
       "\n",
       "<div class=\"bk-root\">\n",
       "    <div class=\"bk-plotdiv\" id=\"829a6397-8341-46ee-bf3b-7b0d541d00fb\"></div>\n",
       "</div>"
      ]
     },
     "metadata": {},
     "output_type": "display_data"
    },
    {
     "data": {
      "application/javascript": [
       "(function(root) {\n",
       "  function embed_document(root) {\n",
       "    \n",
       "  var docs_json = {\"e6b7c482-38bd-423c-8897-576e62cc9d3d\":{\"roots\":{\"references\":[{\"attributes\":{},\"id\":\"e4e94597-39aa-4424-b9b3-9cde5203b164\",\"type\":\"CategoricalScale\"},{\"attributes\":{\"overlay\":{\"id\":\"d6551d67-4e6a-4834-8be2-3b6ad24c4744\",\"type\":\"BoxAnnotation\"}},\"id\":\"539ee29d-d4f5-4036-8173-62f80c14b5ac\",\"type\":\"BoxZoomTool\"},{\"attributes\":{\"data_source\":{\"id\":\"60a77728-8366-453d-805f-a6c75be4f2d9\",\"type\":\"ColumnDataSource\"},\"glyph\":{\"id\":\"533cf163-cd20-428f-97d8-ab90a6f2b54e\",\"type\":\"VBar\"},\"hover_glyph\":null,\"muted_glyph\":null,\"nonselection_glyph\":{\"id\":\"3a8e58ea-fce7-40c1-8576-a9dea79a56e5\",\"type\":\"VBar\"},\"selection_glyph\":null,\"view\":{\"id\":\"3f61f75c-8023-4064-9b09-b08767a9e00c\",\"type\":\"CDSView\"}},\"id\":\"0af93054-87cf-437c-8eac-60e99a3ed066\",\"type\":\"GlyphRenderer\"},{\"attributes\":{},\"id\":\"dccea520-5e5e-49ba-9daf-ecf82bab585e\",\"type\":\"PanTool\"},{\"attributes\":{\"below\":[{\"id\":\"6488e8de-afe5-45d4-9fbf-640b7f40f232\",\"type\":\"CategoricalAxis\"}],\"left\":[{\"id\":\"109edd1e-a131-4ddd-a916-b6a3f00a65ed\",\"type\":\"LinearAxis\"}],\"plot_height\":500,\"renderers\":[{\"id\":\"6488e8de-afe5-45d4-9fbf-640b7f40f232\",\"type\":\"CategoricalAxis\"},{\"id\":\"2f94447c-e312-462e-ac44-ef2cc97d9557\",\"type\":\"Grid\"},{\"id\":\"109edd1e-a131-4ddd-a916-b6a3f00a65ed\",\"type\":\"LinearAxis\"},{\"id\":\"19c5dfcd-15e2-4f25-b8ff-5379f714e773\",\"type\":\"Grid\"},{\"id\":\"d6551d67-4e6a-4834-8be2-3b6ad24c4744\",\"type\":\"BoxAnnotation\"},{\"id\":\"0af93054-87cf-437c-8eac-60e99a3ed066\",\"type\":\"GlyphRenderer\"}],\"title\":{\"id\":\"df285b57-2630-4e02-87e4-88b4b12ea8df\",\"type\":\"Title\"},\"toolbar\":{\"id\":\"026974e6-c724-4c95-ae4a-98cf89605f91\",\"type\":\"Toolbar\"},\"x_range\":{\"id\":\"751304a1-e7ea-40b9-bb65-69d6ff6c2433\",\"type\":\"FactorRange\"},\"x_scale\":{\"id\":\"e4e94597-39aa-4424-b9b3-9cde5203b164\",\"type\":\"CategoricalScale\"},\"y_range\":{\"id\":\"1244d5b9-a374-4da9-886b-e3d5dd326fb8\",\"type\":\"DataRange1d\"},\"y_scale\":{\"id\":\"b4748631-94eb-41ab-9dd2-c3fa90253f4e\",\"type\":\"LinearScale\"}},\"id\":\"60cced55-a116-4c35-af81-2192d292f270\",\"subtype\":\"Figure\",\"type\":\"Plot\"},{\"attributes\":{},\"id\":\"e221b3c1-3bcc-47a7-98b6-6792889cdb77\",\"type\":\"HelpTool\"},{\"attributes\":{\"callback\":null,\"factors\":[\"Bob Marley And The Wailers-Legend: The Best Of...\",\"Creed-My Own Prison\",\"Soundtrack-Grease\",\"Metallica-Metallica\",\"Adele-19\",\"Eric Clapton-Time Pieces -- The Best Of Eric Clapton\",\"Michael Jackson-Number Ones\",\"Kenny G-Miracles: The Holiday Album\",\"Beastie Boys-Licensed To Ill\",\"Johnny Cash-16 Biggest Hits\"]},\"id\":\"751304a1-e7ea-40b9-bb65-69d6ff6c2433\",\"type\":\"FactorRange\"},{\"attributes\":{},\"id\":\"f04db631-afa4-4132-94a5-5bd0e310baa9\",\"type\":\"ResetTool\"},{\"attributes\":{\"fill_color\":{\"value\":\"darkred\"},\"line_color\":{\"value\":\"darkred\"},\"top\":{\"field\":\"date\"},\"width\":{\"value\":0.9},\"x\":{\"field\":\"Artist_Album\"}},\"id\":\"533cf163-cd20-428f-97d8-ab90a6f2b54e\",\"type\":\"VBar\"},{\"attributes\":{\"bottom_units\":\"screen\",\"fill_alpha\":{\"value\":0.5},\"fill_color\":{\"value\":\"lightgrey\"},\"left_units\":\"screen\",\"level\":\"overlay\",\"line_alpha\":{\"value\":1.0},\"line_color\":{\"value\":\"black\"},\"line_dash\":[4,4],\"line_width\":{\"value\":2},\"plot\":null,\"render_mode\":\"css\",\"right_units\":\"screen\",\"top_units\":\"screen\"},\"id\":\"d6551d67-4e6a-4834-8be2-3b6ad24c4744\",\"type\":\"BoxAnnotation\"},{\"attributes\":{\"callback\":null,\"data\":{\"Artist_Album\":[\"Bob Marley And The Wailers-Legend: The Best Of...\",\"Creed-My Own Prison\",\"Soundtrack-Grease\",\"Metallica-Metallica\",\"Adele-19\",\"Eric Clapton-Time Pieces -- The Best Of Eric Clapton\",\"Michael Jackson-Number Ones\",\"Kenny G-Miracles: The Holiday Album\",\"Beastie Boys-Licensed To Ill\",\"Johnny Cash-16 Biggest Hits\"],\"date\":[122,54,52,43,41,37,31,27,27,26],\"index\":[0,1,2,3,4,5,6,7,8,9]},\"selected\":{\"id\":\"68bac741-0e05-4c58-adc8-1ee6e4a35aa8\",\"type\":\"Selection\"},\"selection_policy\":{\"id\":\"d4a35fda-71b2-4f4f-a5af-7960b8426837\",\"type\":\"UnionRenderers\"}},\"id\":\"60a77728-8366-453d-805f-a6c75be4f2d9\",\"type\":\"ColumnDataSource\"},{\"attributes\":{},\"id\":\"d4a35fda-71b2-4f4f-a5af-7960b8426837\",\"type\":\"UnionRenderers\"},{\"attributes\":{},\"id\":\"152cf05f-d88b-4ca0-9b2f-f95e27698dfd\",\"type\":\"WheelZoomTool\"},{\"attributes\":{},\"id\":\"38db7abe-ff28-4fe2-9e8e-004b108d5769\",\"type\":\"CategoricalTicker\"},{\"attributes\":{},\"id\":\"f456ce13-3d23-4578-b303-db4de5def995\",\"type\":\"BasicTicker\"},{\"attributes\":{\"fill_alpha\":{\"value\":0.1},\"fill_color\":{\"value\":\"#1f77b4\"},\"line_alpha\":{\"value\":0.1},\"line_color\":{\"value\":\"#1f77b4\"},\"top\":{\"field\":\"date\"},\"width\":{\"value\":0.9},\"x\":{\"field\":\"Artist_Album\"}},\"id\":\"3a8e58ea-fce7-40c1-8576-a9dea79a56e5\",\"type\":\"VBar\"},{\"attributes\":{},\"id\":\"1db5965c-cf30-4b3e-972e-ffa06998d6ab\",\"type\":\"CategoricalTickFormatter\"},{\"attributes\":{},\"id\":\"f143b43c-2d74-459c-8733-4f4feb57e681\",\"type\":\"BasicTickFormatter\"},{\"attributes\":{},\"id\":\"68bac741-0e05-4c58-adc8-1ee6e4a35aa8\",\"type\":\"Selection\"},{\"attributes\":{\"formatter\":{\"id\":\"1db5965c-cf30-4b3e-972e-ffa06998d6ab\",\"type\":\"CategoricalTickFormatter\"},\"major_label_orientation\":-0.3333333333333333,\"plot\":{\"id\":\"60cced55-a116-4c35-af81-2192d292f270\",\"subtype\":\"Figure\",\"type\":\"Plot\"},\"ticker\":{\"id\":\"38db7abe-ff28-4fe2-9e8e-004b108d5769\",\"type\":\"CategoricalTicker\"}},\"id\":\"6488e8de-afe5-45d4-9fbf-640b7f40f232\",\"type\":\"CategoricalAxis\"},{\"attributes\":{\"source\":{\"id\":\"60a77728-8366-453d-805f-a6c75be4f2d9\",\"type\":\"ColumnDataSource\"}},\"id\":\"3f61f75c-8023-4064-9b09-b08767a9e00c\",\"type\":\"CDSView\"},{\"attributes\":{\"axis_label\":\"Weeks\",\"formatter\":{\"id\":\"f143b43c-2d74-459c-8733-4f4feb57e681\",\"type\":\"BasicTickFormatter\"},\"plot\":{\"id\":\"60cced55-a116-4c35-af81-2192d292f270\",\"subtype\":\"Figure\",\"type\":\"Plot\"},\"ticker\":{\"id\":\"f456ce13-3d23-4578-b303-db4de5def995\",\"type\":\"BasicTicker\"}},\"id\":\"109edd1e-a131-4ddd-a916-b6a3f00a65ed\",\"type\":\"LinearAxis\"},{\"attributes\":{\"plot\":{\"id\":\"60cced55-a116-4c35-af81-2192d292f270\",\"subtype\":\"Figure\",\"type\":\"Plot\"},\"ticker\":{\"id\":\"38db7abe-ff28-4fe2-9e8e-004b108d5769\",\"type\":\"CategoricalTicker\"}},\"id\":\"2f94447c-e312-462e-ac44-ef2cc97d9557\",\"type\":\"Grid\"},{\"attributes\":{\"dimension\":1,\"plot\":{\"id\":\"60cced55-a116-4c35-af81-2192d292f270\",\"subtype\":\"Figure\",\"type\":\"Plot\"},\"ticker\":{\"id\":\"f456ce13-3d23-4578-b303-db4de5def995\",\"type\":\"BasicTicker\"}},\"id\":\"19c5dfcd-15e2-4f25-b8ff-5379f714e773\",\"type\":\"Grid\"},{\"attributes\":{},\"id\":\"b4748631-94eb-41ab-9dd2-c3fa90253f4e\",\"type\":\"LinearScale\"},{\"attributes\":{\"callback\":null},\"id\":\"1244d5b9-a374-4da9-886b-e3d5dd326fb8\",\"type\":\"DataRange1d\"},{\"attributes\":{},\"id\":\"786e56b7-6291-4ef9-9a41-8bc17e48517e\",\"type\":\"SaveTool\"},{\"attributes\":{\"active_drag\":\"auto\",\"active_inspect\":\"auto\",\"active_scroll\":\"auto\",\"active_tap\":\"auto\",\"tools\":[{\"id\":\"dccea520-5e5e-49ba-9daf-ecf82bab585e\",\"type\":\"PanTool\"},{\"id\":\"152cf05f-d88b-4ca0-9b2f-f95e27698dfd\",\"type\":\"WheelZoomTool\"},{\"id\":\"539ee29d-d4f5-4036-8173-62f80c14b5ac\",\"type\":\"BoxZoomTool\"},{\"id\":\"786e56b7-6291-4ef9-9a41-8bc17e48517e\",\"type\":\"SaveTool\"},{\"id\":\"f04db631-afa4-4132-94a5-5bd0e310baa9\",\"type\":\"ResetTool\"},{\"id\":\"e221b3c1-3bcc-47a7-98b6-6792889cdb77\",\"type\":\"HelpTool\"}]},\"id\":\"026974e6-c724-4c95-ae4a-98cf89605f91\",\"type\":\"Toolbar\"},{\"attributes\":{\"plot\":null,\"text\":\"Most Weeks at 1 on Catalog Chart\"},\"id\":\"df285b57-2630-4e02-87e4-88b4b12ea8df\",\"type\":\"Title\"}],\"root_ids\":[\"60cced55-a116-4c35-af81-2192d292f270\"]},\"title\":\"Bokeh Application\",\"version\":\"0.12.16\"}};\n",
       "  var render_items = [{\"docid\":\"e6b7c482-38bd-423c-8897-576e62cc9d3d\",\"elementid\":\"829a6397-8341-46ee-bf3b-7b0d541d00fb\",\"modelid\":\"60cced55-a116-4c35-af81-2192d292f270\"}];\n",
       "  root.Bokeh.embed.embed_items_notebook(docs_json, render_items);\n",
       "\n",
       "  }\n",
       "  if (root.Bokeh !== undefined) {\n",
       "    embed_document(root);\n",
       "  } else {\n",
       "    var attempts = 0;\n",
       "    var timer = setInterval(function(root) {\n",
       "      if (root.Bokeh !== undefined) {\n",
       "        embed_document(root);\n",
       "        clearInterval(timer);\n",
       "      }\n",
       "      attempts++;\n",
       "      if (attempts > 100) {\n",
       "        console.log(\"Bokeh: ERROR: Unable to run BokehJS code because BokehJS library is missing\")\n",
       "        clearInterval(timer);\n",
       "      }\n",
       "    }, 10, root)\n",
       "  }\n",
       "})(window);"
      ],
      "application/vnd.bokehjs_exec.v0+json": ""
     },
     "metadata": {
      "application/vnd.bokehjs_exec.v0+json": {
       "id": "60cced55-a116-4c35-af81-2192d292f270"
      }
     },
     "output_type": "display_data"
    }
   ],
   "source": [
    "source = ColumnDataSource(plot2)\n",
    "p = figure(x_range=list(plot2['Artist_Album']), title = \"Most Weeks at 1 on Catalog Chart\",plot_height=500)\n",
    "p.vbar(x='Artist_Album', top='date', source=source, width=0.9, color='darkred')\n",
    "p.xaxis.major_label_orientation = -1/3\n",
    "p.yaxis.axis_label=\"Weeks\"\n",
    "show(p)"
   ]
  },
  {
   "cell_type": "code",
   "execution_count": 250,
   "metadata": {},
   "outputs": [],
   "source": [
    "#most appearances on catalog chart\n",
    "plot3 = catalog.groupby('Artist_Album').agg({'date':'count'}).sort_values('date',ascending=False)[:10].reset_index()"
   ]
  },
  {
   "cell_type": "code",
   "execution_count": 261,
   "metadata": {},
   "outputs": [
    {
     "data": {
      "text/html": [
       "\n",
       "<div class=\"bk-root\">\n",
       "    <div class=\"bk-plotdiv\" id=\"27f858d4-7c3a-4300-b60b-9e7a238f29f9\"></div>\n",
       "</div>"
      ]
     },
     "metadata": {},
     "output_type": "display_data"
    },
    {
     "data": {
      "application/javascript": [
       "(function(root) {\n",
       "  function embed_document(root) {\n",
       "    \n",
       "  var docs_json = {\"db5c128d-e1b1-40a3-9dc0-7f187e2446ae\":{\"roots\":{\"references\":[{\"attributes\":{\"plot\":{\"id\":\"178f219b-cad0-46ea-a23a-77f5736a3058\",\"subtype\":\"Figure\",\"type\":\"Plot\"},\"ticker\":{\"id\":\"5e3eff41-2223-467c-9c30-612db57227b6\",\"type\":\"CategoricalTicker\"}},\"id\":\"885d92d7-086f-4aed-9298-4d32cf1f3929\",\"type\":\"Grid\"},{\"attributes\":{\"fill_alpha\":{\"value\":0.1},\"fill_color\":{\"value\":\"#1f77b4\"},\"line_alpha\":{\"value\":0.1},\"line_color\":{\"value\":\"#1f77b4\"},\"top\":{\"field\":\"date\"},\"width\":{\"value\":0.9},\"x\":{\"field\":\"Artist_Album\"}},\"id\":\"b6c5e94d-67b7-4382-89f4-c7904af05f01\",\"type\":\"VBar\"},{\"attributes\":{},\"id\":\"d74469d7-e196-49a2-baa0-0a7e4717b986\",\"type\":\"SaveTool\"},{\"attributes\":{},\"id\":\"74ce39b4-dcd9-4479-8a4f-740a1949d281\",\"type\":\"Selection\"},{\"attributes\":{\"active_drag\":\"auto\",\"active_inspect\":\"auto\",\"active_scroll\":\"auto\",\"active_tap\":\"auto\",\"tools\":[{\"id\":\"d319fb1d-bf3d-4008-bd8c-00374536b0bf\",\"type\":\"PanTool\"},{\"id\":\"37b789cd-403e-43c4-a5c8-f7bc5a614376\",\"type\":\"WheelZoomTool\"},{\"id\":\"68d70f92-3dc2-482b-9d71-2d171e399f5c\",\"type\":\"BoxZoomTool\"},{\"id\":\"d74469d7-e196-49a2-baa0-0a7e4717b986\",\"type\":\"SaveTool\"},{\"id\":\"15521a56-fdbe-47cf-8ca0-6d4d009ea146\",\"type\":\"ResetTool\"},{\"id\":\"5854987a-7209-4dac-a995-d2915af84bf7\",\"type\":\"HelpTool\"}]},\"id\":\"bf20ee11-0428-47e1-8637-b8b0c9cd5c05\",\"type\":\"Toolbar\"},{\"attributes\":{\"overlay\":{\"id\":\"6c6e374d-a915-4412-ac80-6f5531333c6d\",\"type\":\"BoxAnnotation\"}},\"id\":\"68d70f92-3dc2-482b-9d71-2d171e399f5c\",\"type\":\"BoxZoomTool\"},{\"attributes\":{\"dimension\":1,\"plot\":{\"id\":\"178f219b-cad0-46ea-a23a-77f5736a3058\",\"subtype\":\"Figure\",\"type\":\"Plot\"},\"ticker\":{\"id\":\"bad446ea-8772-42ca-9508-c1442e237d86\",\"type\":\"BasicTicker\"}},\"id\":\"53c2b8a5-6192-4d30-af97-437eea1d8f57\",\"type\":\"Grid\"},{\"attributes\":{\"source\":{\"id\":\"eefca28c-c558-4a52-91c2-92201f314da7\",\"type\":\"ColumnDataSource\"}},\"id\":\"2c245af9-6822-43c6-bd34-2666df2627ce\",\"type\":\"CDSView\"},{\"attributes\":{\"data_source\":{\"id\":\"eefca28c-c558-4a52-91c2-92201f314da7\",\"type\":\"ColumnDataSource\"},\"glyph\":{\"id\":\"1f5d67ea-0255-40c0-b507-5ed1a4d097c5\",\"type\":\"VBar\"},\"hover_glyph\":null,\"muted_glyph\":null,\"nonselection_glyph\":{\"id\":\"b6c5e94d-67b7-4382-89f4-c7904af05f01\",\"type\":\"VBar\"},\"selection_glyph\":null,\"view\":{\"id\":\"2c245af9-6822-43c6-bd34-2666df2627ce\",\"type\":\"CDSView\"}},\"id\":\"5d266025-f2fc-4084-9362-3bf4d6cebc01\",\"type\":\"GlyphRenderer\"},{\"attributes\":{},\"id\":\"15521a56-fdbe-47cf-8ca0-6d4d009ea146\",\"type\":\"ResetTool\"},{\"attributes\":{\"plot\":null,\"text\":\"Most Weeks on Catalog Chart\"},\"id\":\"cbd9fc68-aac1-4960-bb4c-66460feaf19a\",\"type\":\"Title\"},{\"attributes\":{\"below\":[{\"id\":\"88356ac7-f7e4-425f-bc4d-d12b11c99e16\",\"type\":\"CategoricalAxis\"}],\"left\":[{\"id\":\"0ccd3bea-a496-4275-8485-9e6867ea206e\",\"type\":\"LinearAxis\"}],\"plot_height\":500,\"renderers\":[{\"id\":\"88356ac7-f7e4-425f-bc4d-d12b11c99e16\",\"type\":\"CategoricalAxis\"},{\"id\":\"885d92d7-086f-4aed-9298-4d32cf1f3929\",\"type\":\"Grid\"},{\"id\":\"0ccd3bea-a496-4275-8485-9e6867ea206e\",\"type\":\"LinearAxis\"},{\"id\":\"53c2b8a5-6192-4d30-af97-437eea1d8f57\",\"type\":\"Grid\"},{\"id\":\"6c6e374d-a915-4412-ac80-6f5531333c6d\",\"type\":\"BoxAnnotation\"},{\"id\":\"5d266025-f2fc-4084-9362-3bf4d6cebc01\",\"type\":\"GlyphRenderer\"}],\"title\":{\"id\":\"cbd9fc68-aac1-4960-bb4c-66460feaf19a\",\"type\":\"Title\"},\"toolbar\":{\"id\":\"bf20ee11-0428-47e1-8637-b8b0c9cd5c05\",\"type\":\"Toolbar\"},\"x_range\":{\"id\":\"c94e3960-11a9-4d72-bfaf-05f6a075f9bc\",\"type\":\"FactorRange\"},\"x_scale\":{\"id\":\"cf3445f7-8f68-459b-b886-e0cc2ae3fca3\",\"type\":\"CategoricalScale\"},\"y_range\":{\"id\":\"e87c8517-d9bb-424f-8d80-2e8ed4cb6a93\",\"type\":\"DataRange1d\"},\"y_scale\":{\"id\":\"ee0bb73e-63ac-45d9-ae3a-b78cfda41d5c\",\"type\":\"LinearScale\"}},\"id\":\"178f219b-cad0-46ea-a23a-77f5736a3058\",\"subtype\":\"Figure\",\"type\":\"Plot\"},{\"attributes\":{},\"id\":\"d319fb1d-bf3d-4008-bd8c-00374536b0bf\",\"type\":\"PanTool\"},{\"attributes\":{\"callback\":null,\"data\":{\"Artist_Album\":[\"Bob Marley And The Wailers-Legend: The Best Of...\",\"Pink Floyd-The Dark Side Of The Moon\",\"Journey-Journey's Greatest Hits\",\"Creedence Clearwater Revival Featuring John Fogerty-Chronicle The 20 Greatest Hits\",\"AC/DC-Back In Black\",\"Metallica-Metallica\",\"Bob Seger & The Silver Bullet Band-Greatest Hits\",\"James Taylor-Greatest Hits\",\"Tom Petty And The Heartbreakers-Greatest Hits\",\"Queen-Greatest Hits\"],\"date\":[1313,1196,1156,952,932,859,811,694,675,627],\"index\":[0,1,2,3,4,5,6,7,8,9]},\"selected\":{\"id\":\"74ce39b4-dcd9-4479-8a4f-740a1949d281\",\"type\":\"Selection\"},\"selection_policy\":{\"id\":\"6ff8fc42-d434-42dc-a647-77218bd95798\",\"type\":\"UnionRenderers\"}},\"id\":\"eefca28c-c558-4a52-91c2-92201f314da7\",\"type\":\"ColumnDataSource\"},{\"attributes\":{},\"id\":\"6ff8fc42-d434-42dc-a647-77218bd95798\",\"type\":\"UnionRenderers\"},{\"attributes\":{\"axis_label\":\"Weeks\",\"formatter\":{\"id\":\"8f45da5f-e4d2-44e9-86ed-a61721b3f2a5\",\"type\":\"BasicTickFormatter\"},\"plot\":{\"id\":\"178f219b-cad0-46ea-a23a-77f5736a3058\",\"subtype\":\"Figure\",\"type\":\"Plot\"},\"ticker\":{\"id\":\"bad446ea-8772-42ca-9508-c1442e237d86\",\"type\":\"BasicTicker\"}},\"id\":\"0ccd3bea-a496-4275-8485-9e6867ea206e\",\"type\":\"LinearAxis\"},{\"attributes\":{\"callback\":null,\"factors\":[\"Bob Marley And The Wailers-Legend: The Best Of...\",\"Pink Floyd-The Dark Side Of The Moon\",\"Journey-Journey's Greatest Hits\",\"Creedence Clearwater Revival Featuring John Fogerty-Chronicle The 20 Greatest Hits\",\"AC/DC-Back In Black\",\"Metallica-Metallica\",\"Bob Seger & The Silver Bullet Band-Greatest Hits\",\"James Taylor-Greatest Hits\",\"Tom Petty And The Heartbreakers-Greatest Hits\",\"Queen-Greatest Hits\"]},\"id\":\"c94e3960-11a9-4d72-bfaf-05f6a075f9bc\",\"type\":\"FactorRange\"},{\"attributes\":{},\"id\":\"ee0bb73e-63ac-45d9-ae3a-b78cfda41d5c\",\"type\":\"LinearScale\"},{\"attributes\":{\"fill_color\":{\"value\":\"darkred\"},\"line_color\":{\"value\":\"darkred\"},\"top\":{\"field\":\"date\"},\"width\":{\"value\":0.9},\"x\":{\"field\":\"Artist_Album\"}},\"id\":\"1f5d67ea-0255-40c0-b507-5ed1a4d097c5\",\"type\":\"VBar\"},{\"attributes\":{},\"id\":\"8f45da5f-e4d2-44e9-86ed-a61721b3f2a5\",\"type\":\"BasicTickFormatter\"},{\"attributes\":{},\"id\":\"bad446ea-8772-42ca-9508-c1442e237d86\",\"type\":\"BasicTicker\"},{\"attributes\":{\"formatter\":{\"id\":\"960c2b29-aa45-4465-9c6c-6635ddfdfdc9\",\"type\":\"CategoricalTickFormatter\"},\"major_label_orientation\":-0.3333333333333333,\"plot\":{\"id\":\"178f219b-cad0-46ea-a23a-77f5736a3058\",\"subtype\":\"Figure\",\"type\":\"Plot\"},\"ticker\":{\"id\":\"5e3eff41-2223-467c-9c30-612db57227b6\",\"type\":\"CategoricalTicker\"}},\"id\":\"88356ac7-f7e4-425f-bc4d-d12b11c99e16\",\"type\":\"CategoricalAxis\"},{\"attributes\":{\"bottom_units\":\"screen\",\"fill_alpha\":{\"value\":0.5},\"fill_color\":{\"value\":\"lightgrey\"},\"left_units\":\"screen\",\"level\":\"overlay\",\"line_alpha\":{\"value\":1.0},\"line_color\":{\"value\":\"black\"},\"line_dash\":[4,4],\"line_width\":{\"value\":2},\"plot\":null,\"render_mode\":\"css\",\"right_units\":\"screen\",\"top_units\":\"screen\"},\"id\":\"6c6e374d-a915-4412-ac80-6f5531333c6d\",\"type\":\"BoxAnnotation\"},{\"attributes\":{},\"id\":\"960c2b29-aa45-4465-9c6c-6635ddfdfdc9\",\"type\":\"CategoricalTickFormatter\"},{\"attributes\":{},\"id\":\"37b789cd-403e-43c4-a5c8-f7bc5a614376\",\"type\":\"WheelZoomTool\"},{\"attributes\":{},\"id\":\"cf3445f7-8f68-459b-b886-e0cc2ae3fca3\",\"type\":\"CategoricalScale\"},{\"attributes\":{},\"id\":\"5854987a-7209-4dac-a995-d2915af84bf7\",\"type\":\"HelpTool\"},{\"attributes\":{},\"id\":\"5e3eff41-2223-467c-9c30-612db57227b6\",\"type\":\"CategoricalTicker\"},{\"attributes\":{\"callback\":null},\"id\":\"e87c8517-d9bb-424f-8d80-2e8ed4cb6a93\",\"type\":\"DataRange1d\"}],\"root_ids\":[\"178f219b-cad0-46ea-a23a-77f5736a3058\"]},\"title\":\"Bokeh Application\",\"version\":\"0.12.16\"}};\n",
       "  var render_items = [{\"docid\":\"db5c128d-e1b1-40a3-9dc0-7f187e2446ae\",\"elementid\":\"27f858d4-7c3a-4300-b60b-9e7a238f29f9\",\"modelid\":\"178f219b-cad0-46ea-a23a-77f5736a3058\"}];\n",
       "  root.Bokeh.embed.embed_items_notebook(docs_json, render_items);\n",
       "\n",
       "  }\n",
       "  if (root.Bokeh !== undefined) {\n",
       "    embed_document(root);\n",
       "  } else {\n",
       "    var attempts = 0;\n",
       "    var timer = setInterval(function(root) {\n",
       "      if (root.Bokeh !== undefined) {\n",
       "        embed_document(root);\n",
       "        clearInterval(timer);\n",
       "      }\n",
       "      attempts++;\n",
       "      if (attempts > 100) {\n",
       "        console.log(\"Bokeh: ERROR: Unable to run BokehJS code because BokehJS library is missing\")\n",
       "        clearInterval(timer);\n",
       "      }\n",
       "    }, 10, root)\n",
       "  }\n",
       "})(window);"
      ],
      "application/vnd.bokehjs_exec.v0+json": ""
     },
     "metadata": {
      "application/vnd.bokehjs_exec.v0+json": {
       "id": "178f219b-cad0-46ea-a23a-77f5736a3058"
      }
     },
     "output_type": "display_data"
    }
   ],
   "source": [
    "source = ColumnDataSource(plot3)\n",
    "p = figure(x_range=list(plot3['Artist_Album']), title = \"Most Weeks on Catalog Chart\",plot_height=500)\n",
    "p.vbar(x='Artist_Album', top='date', source=source, width=0.9, color='darkred')\n",
    "p.xaxis.major_label_orientation = -1/3\n",
    "p.yaxis.axis_label=\"Weeks\"\n",
    "show(p)"
   ]
  },
  {
   "cell_type": "markdown",
   "metadata": {},
   "source": [
    "##################\n",
    "# CROSS ANALYSIS #\n",
    "##################"
   ]
  },
  {
   "cell_type": "code",
   "execution_count": 266,
   "metadata": {},
   "outputs": [
    {
     "data": {
      "text/plain": [
       "2020"
      ]
     },
     "execution_count": 266,
     "metadata": {},
     "output_type": "execute_result"
    }
   ],
   "source": [
    "\n",
    "#t200 = top200.groupby('Artist_Album').agg({'album':'count','date':['min','max'],'rank':['min','max']})\n",
    "joined = top200.merge(catalog, on='Artist_Album', how='inner')\n",
    "len(joined.groupby('Artist_Album')\\\n",
    ".agg({'album_x':'count','rank_x':['min','max'],'date_x':['min','max'],'rank_y':['min','max'],'date_y':['min','max']})\\\n",
    ".sort_values([('album_x','count')],ascending=True))"
   ]
  },
  {
   "cell_type": "code",
   "execution_count": 281,
   "metadata": {},
   "outputs": [
    {
     "data": {
      "text/plain": [
       "4077"
      ]
     },
     "execution_count": 281,
     "metadata": {},
     "output_type": "execute_result"
    }
   ],
   "source": [
    "antij = pd.merge(top200, catalog, on='Artist_Album', how='outer', indicator=True).query('_merge == \"right_only\"')"
   ]
  },
  {
   "cell_type": "code",
   "execution_count": null,
   "metadata": {},
   "outputs": [],
   "source": [
    "antij = antij.groupby('Artist_Album').agg({'date_y':['count','min','max'],'rank_y':['min','max','mean']})\\\n",
    ".sort_values([('date_y','count')],ascending=False)"
   ]
  },
  {
   "cell_type": "code",
   "execution_count": 310,
   "metadata": {},
   "outputs": [
    {
     "data": {
      "text/plain": [
       "67"
      ]
     },
     "execution_count": 310,
     "metadata": {},
     "output_type": "execute_result"
    }
   ],
   "source": [
    "len(antij[antij['date_y']['max']>datetime(2010,1,1).date()])"
   ]
  },
  {
   "cell_type": "code",
   "execution_count": 296,
   "metadata": {},
   "outputs": [
    {
     "data": {
      "text/html": [
       "<div>\n",
       "<style scoped>\n",
       "    .dataframe tbody tr th:only-of-type {\n",
       "        vertical-align: middle;\n",
       "    }\n",
       "\n",
       "    .dataframe tbody tr th {\n",
       "        vertical-align: top;\n",
       "    }\n",
       "\n",
       "    .dataframe thead tr th {\n",
       "        text-align: left;\n",
       "    }\n",
       "\n",
       "    .dataframe thead tr:last-of-type th {\n",
       "        text-align: right;\n",
       "    }\n",
       "</style>\n",
       "<table border=\"1\" class=\"dataframe\">\n",
       "  <thead>\n",
       "    <tr>\n",
       "      <th></th>\n",
       "      <th colspan=\"3\" halign=\"left\">date_y</th>\n",
       "      <th colspan=\"3\" halign=\"left\">rank_y</th>\n",
       "    </tr>\n",
       "    <tr>\n",
       "      <th></th>\n",
       "      <th>count</th>\n",
       "      <th>min</th>\n",
       "      <th>max</th>\n",
       "      <th>min</th>\n",
       "      <th>max</th>\n",
       "      <th>mean</th>\n",
       "    </tr>\n",
       "    <tr>\n",
       "      <th>Artist_Album</th>\n",
       "      <th></th>\n",
       "      <th></th>\n",
       "      <th></th>\n",
       "      <th></th>\n",
       "      <th></th>\n",
       "      <th></th>\n",
       "    </tr>\n",
       "  </thead>\n",
       "  <tbody>\n",
       "    <tr>\n",
       "      <th>Patsy Cline-12 Greatest Hits</th>\n",
       "      <td>290</td>\n",
       "      <td>1991-05-25</td>\n",
       "      <td>2003-11-15</td>\n",
       "      <td>6.0</td>\n",
       "      <td>50.0</td>\n",
       "      <td>26.868966</td>\n",
       "    </tr>\n",
       "    <tr>\n",
       "      <th>Lynyrd Skynyrd-Skynyrd's Innyrds/Their Greatest Hits</th>\n",
       "      <td>198</td>\n",
       "      <td>1991-07-27</td>\n",
       "      <td>1999-02-27</td>\n",
       "      <td>11.0</td>\n",
       "      <td>50.0</td>\n",
       "      <td>35.323232</td>\n",
       "    </tr>\n",
       "    <tr>\n",
       "      <th>Miles Davis-Kind Of Blue</th>\n",
       "      <td>173</td>\n",
       "      <td>1997-06-14</td>\n",
       "      <td>2015-10-24</td>\n",
       "      <td>2.0</td>\n",
       "      <td>50.0</td>\n",
       "      <td>32.069364</td>\n",
       "    </tr>\n",
       "    <tr>\n",
       "      <th>Poison-Greatest Hits 1986--1996</th>\n",
       "      <td>124</td>\n",
       "      <td>1999-02-06</td>\n",
       "      <td>2005-05-07</td>\n",
       "      <td>2.0</td>\n",
       "      <td>50.0</td>\n",
       "      <td>36.250000</td>\n",
       "    </tr>\n",
       "    <tr>\n",
       "      <th>The Police-Every Breath You Take - The Singles</th>\n",
       "      <td>110</td>\n",
       "      <td>1991-06-08</td>\n",
       "      <td>1994-02-12</td>\n",
       "      <td>23.0</td>\n",
       "      <td>50.0</td>\n",
       "      <td>35.536364</td>\n",
       "    </tr>\n",
       "  </tbody>\n",
       "</table>\n",
       "</div>"
      ],
      "text/plain": [
       "                                                   date_y              \\\n",
       "                                                    count         min   \n",
       "Artist_Album                                                            \n",
       "Patsy Cline-12 Greatest Hits                          290  1991-05-25   \n",
       "Lynyrd Skynyrd-Skynyrd's Innyrds/Their Greatest...    198  1991-07-27   \n",
       "Miles Davis-Kind Of Blue                              173  1997-06-14   \n",
       "Poison-Greatest Hits 1986--1996                       124  1999-02-06   \n",
       "The Police-Every Breath You Take - The Singles        110  1991-06-08   \n",
       "\n",
       "                                                               rank_y        \\\n",
       "                                                           max    min   max   \n",
       "Artist_Album                                                                  \n",
       "Patsy Cline-12 Greatest Hits                        2003-11-15    6.0  50.0   \n",
       "Lynyrd Skynyrd-Skynyrd's Innyrds/Their Greatest...  1999-02-27   11.0  50.0   \n",
       "Miles Davis-Kind Of Blue                            2015-10-24    2.0  50.0   \n",
       "Poison-Greatest Hits 1986--1996                     2005-05-07    2.0  50.0   \n",
       "The Police-Every Breath You Take - The Singles      1994-02-12   23.0  50.0   \n",
       "\n",
       "                                                               \n",
       "                                                         mean  \n",
       "Artist_Album                                                   \n",
       "Patsy Cline-12 Greatest Hits                        26.868966  \n",
       "Lynyrd Skynyrd-Skynyrd's Innyrds/Their Greatest...  35.323232  \n",
       "Miles Davis-Kind Of Blue                            32.069364  \n",
       "Poison-Greatest Hits 1986--1996                     36.250000  \n",
       "The Police-Every Breath You Take - The Singles      35.536364  "
      ]
     },
     "execution_count": 296,
     "metadata": {},
     "output_type": "execute_result"
    }
   ],
   "source": [
    "antij.head()"
   ]
  },
  {
   "cell_type": "code",
   "execution_count": 275,
   "metadata": {},
   "outputs": [
    {
     "data": {
      "text/plain": [
       "34486"
      ]
     },
     "execution_count": 275,
     "metadata": {},
     "output_type": "execute_result"
    }
   ],
   "source": [
    "top200.Artist_Album.nunique()"
   ]
  },
  {
   "cell_type": "code",
   "execution_count": 276,
   "metadata": {},
   "outputs": [
    {
     "data": {
      "text/plain": [
       "2368"
      ]
     },
     "execution_count": 276,
     "metadata": {},
     "output_type": "execute_result"
    }
   ],
   "source": [
    "catalog.Artist_Album.nunique()"
   ]
  },
  {
   "cell_type": "code",
   "execution_count": null,
   "metadata": {},
   "outputs": [],
   "source": [
    "# there should be 2368-2020 = 348 unique albums on the anti-join"
   ]
  },
  {
   "cell_type": "code",
   "execution_count": 279,
   "metadata": {},
   "outputs": [
    {
     "data": {
      "text/plain": [
       "85.30405405405406"
      ]
     },
     "execution_count": 279,
     "metadata": {},
     "output_type": "execute_result"
    }
   ],
   "source": [
    "2020/2368*100"
   ]
  },
  {
   "cell_type": "code",
   "execution_count": null,
   "metadata": {},
   "outputs": [],
   "source": [
    "# IDEA: create a table "
   ]
  },
  {
   "cell_type": "code",
   "execution_count": 68,
   "metadata": {},
   "outputs": [
    {
     "data": {
      "text/html": [
       "<div>\n",
       "<style scoped>\n",
       "    .dataframe tbody tr th:only-of-type {\n",
       "        vertical-align: middle;\n",
       "    }\n",
       "\n",
       "    .dataframe tbody tr th {\n",
       "        vertical-align: top;\n",
       "    }\n",
       "\n",
       "    .dataframe thead th {\n",
       "        text-align: right;\n",
       "    }\n",
       "</style>\n",
       "<table border=\"1\" class=\"dataframe\">\n",
       "  <thead>\n",
       "    <tr style=\"text-align: right;\">\n",
       "      <th></th>\n",
       "      <th>date</th>\n",
       "    </tr>\n",
       "    <tr>\n",
       "      <th>Artist_Album</th>\n",
       "      <th></th>\n",
       "    </tr>\n",
       "  </thead>\n",
       "  <tbody>\n",
       "    <tr>\n",
       "      <th>Bruce Springsteen-Born In The U.S.A.</th>\n",
       "      <td>84</td>\n",
       "    </tr>\n",
       "    <tr>\n",
       "      <th>Adele-21</th>\n",
       "      <td>82</td>\n",
       "    </tr>\n",
       "    <tr>\n",
       "      <th>Michael Jackson-Thriller</th>\n",
       "      <td>78</td>\n",
       "    </tr>\n",
       "    <tr>\n",
       "      <th>Def Leppard-Hysteria</th>\n",
       "      <td>78</td>\n",
       "    </tr>\n",
       "    <tr>\n",
       "      <th>Alanis Morissette-Jagged Little Pill</th>\n",
       "      <td>72</td>\n",
       "    </tr>\n",
       "    <tr>\n",
       "      <th>Paula Abdul-Forever Your Girl</th>\n",
       "      <td>64</td>\n",
       "    </tr>\n",
       "    <tr>\n",
       "      <th>Celine Dion-Falling Into You</th>\n",
       "      <td>61</td>\n",
       "    </tr>\n",
       "    <tr>\n",
       "      <th>Taylor Swift-1989</th>\n",
       "      <td>59</td>\n",
       "    </tr>\n",
       "    <tr>\n",
       "      <th>Lionel Richie-Can't Slow Down</th>\n",
       "      <td>59</td>\n",
       "    </tr>\n",
       "    <tr>\n",
       "      <th>Taylor Swift-Fearless</th>\n",
       "      <td>57</td>\n",
       "    </tr>\n",
       "  </tbody>\n",
       "</table>\n",
       "</div>"
      ],
      "text/plain": [
       "                                      date\n",
       "Artist_Album                              \n",
       "Bruce Springsteen-Born In The U.S.A.    84\n",
       "Adele-21                                82\n",
       "Michael Jackson-Thriller                78\n",
       "Def Leppard-Hysteria                    78\n",
       "Alanis Morissette-Jagged Little Pill    72\n",
       "Paula Abdul-Forever Your Girl           64\n",
       "Celine Dion-Falling Into You            61\n",
       "Taylor Swift-1989                       59\n",
       "Lionel Richie-Can't Slow Down           59\n",
       "Taylor Swift-Fearless                   57"
      ]
     },
     "execution_count": 68,
     "metadata": {},
     "output_type": "execute_result"
    }
   ],
   "source": [
    "#albums by number of weeks within top 10\n",
    "top200[top200['rank']<=10].groupby(\"Artist_Album\").agg({'date':'count'}).sort_values(by='date',ascending = False)[:10]"
   ]
  },
  {
   "cell_type": "code",
   "execution_count": 85,
   "metadata": {},
   "outputs": [
    {
     "name": "stdout",
     "output_type": "stream",
     "text": [
      "4.8915945743885505\n"
     ]
    },
    {
     "data": {
      "text/plain": [
       "0.18970047293746717"
      ]
     },
     "execution_count": 85,
     "metadata": {},
     "output_type": "execute_result"
    }
   ],
   "source": [
    "#artists and their peak rank\n",
    "chartboys=top200.groupby(\"artist\").agg({'album':'nunique','rank':'min'}).sort_values('album',ascending=False)\n",
    "#proportion of artists who have at least 1 album peak: 4.9%\n",
    "print(len(chartboys[chartboys['rank']==1])/len(chartboys)*100)\n",
    "#proportion of artists with at least 5 entries and did rank 1: ~19%\n",
    "chartboys[(chartboys['album']>=5) & (chartboys['rank']==1)]\n",
    "len(chartboys[(chartboys['album']>=5) & (chartboys['rank']==1)]) / len(chartboys[chartboys['album']>=5])*100\n",
    "# IDEA: create a table with 3 columns: min no. of entries on poll, avg of artists that peaked at 1,avg to make top 10\n",
    "# IDEA: create a table with 3 columns: exact no. of entries on poll, avg of artists that peaked at 1, avg to make top 10"
   ]
  },
  {
   "cell_type": "code",
   "execution_count": 100,
   "metadata": {},
   "outputs": [
    {
     "data": {
      "text/plain": [
       "date    2.623377\n",
       "dtype: float64"
      ]
     },
     "execution_count": 100,
     "metadata": {},
     "output_type": "execute_result"
    }
   ],
   "source": [
    "#albums and their peak rank\n",
    "chartgirls=top200.groupby(\"Artist_Album\").agg({'rank':['min','count']}).sort_values([('rank','min')],ascending=True)\n",
    "# avg number of weeks on the charts for an album that peaks at 1: 64\n",
    "chartgirls[chartgirls[('rank','min')]==1][('rank','count')].mean()\n",
    "# avg number of weeks at number 1: 2.623\n",
    "top200[top200['rank']==1].groupby('Artist_Album').agg({'date':'count'}).sort_values('date',ascending=False).mean()"
   ]
  },
  {
   "cell_type": "code",
   "execution_count": 123,
   "metadata": {},
   "outputs": [
    {
     "data": {
      "text/html": [
       "<div>\n",
       "<style scoped>\n",
       "    .dataframe tbody tr th:only-of-type {\n",
       "        vertical-align: middle;\n",
       "    }\n",
       "\n",
       "    .dataframe tbody tr th {\n",
       "        vertical-align: top;\n",
       "    }\n",
       "\n",
       "    .dataframe thead th {\n",
       "        text-align: right;\n",
       "    }\n",
       "</style>\n",
       "<table border=\"1\" class=\"dataframe\">\n",
       "  <thead>\n",
       "    <tr style=\"text-align: right;\">\n",
       "      <th></th>\n",
       "      <th>artist</th>\n",
       "      <th>date</th>\n",
       "    </tr>\n",
       "    <tr>\n",
       "      <th>Artist_Album</th>\n",
       "      <th></th>\n",
       "      <th></th>\n",
       "    </tr>\n",
       "  </thead>\n",
       "  <tbody>\n",
       "    <tr>\n",
       "      <th>Pink Floyd-The Dark Side Of The Moon</th>\n",
       "      <td>Pink Floyd</td>\n",
       "      <td>927</td>\n",
       "    </tr>\n",
       "    <tr>\n",
       "      <th>Metallica-Metallica</th>\n",
       "      <td>Metallica</td>\n",
       "      <td>491</td>\n",
       "    </tr>\n",
       "    <tr>\n",
       "      <th>Eminem-Curtain Call: The Hits</th>\n",
       "      <td>Eminem</td>\n",
       "      <td>399</td>\n",
       "    </tr>\n",
       "    <tr>\n",
       "      <th>Nirvana-Nevermind</th>\n",
       "      <td>Nirvana</td>\n",
       "      <td>397</td>\n",
       "    </tr>\n",
       "    <tr>\n",
       "      <th>Adele-21</th>\n",
       "      <td>Adele</td>\n",
       "      <td>370</td>\n",
       "    </tr>\n",
       "    <tr>\n",
       "      <th>Eminem-The Eminem Show</th>\n",
       "      <td>Eminem</td>\n",
       "      <td>352</td>\n",
       "    </tr>\n",
       "    <tr>\n",
       "      <th>Michael Jackson-Thriller</th>\n",
       "      <td>Michael Jackson</td>\n",
       "      <td>331</td>\n",
       "    </tr>\n",
       "    <tr>\n",
       "      <th>The Beatles-1</th>\n",
       "      <td>The Beatles</td>\n",
       "      <td>326</td>\n",
       "    </tr>\n",
       "    <tr>\n",
       "      <th>Carole King-Tapestry</th>\n",
       "      <td>Carole King</td>\n",
       "      <td>318</td>\n",
       "    </tr>\n",
       "    <tr>\n",
       "      <th>Eminem-Recovery</th>\n",
       "      <td>Eminem</td>\n",
       "      <td>310</td>\n",
       "    </tr>\n",
       "    <tr>\n",
       "      <th>Drake-Take Care</th>\n",
       "      <td>Drake</td>\n",
       "      <td>281</td>\n",
       "    </tr>\n",
       "    <tr>\n",
       "      <th>Fleetwood Mac-Rumours</th>\n",
       "      <td>Fleetwood Mac</td>\n",
       "      <td>279</td>\n",
       "    </tr>\n",
       "    <tr>\n",
       "      <th>The Beatles-Abbey Road</th>\n",
       "      <td>The Beatles</td>\n",
       "      <td>263</td>\n",
       "    </tr>\n",
       "    <tr>\n",
       "      <th>Taylor Swift-Fearless</th>\n",
       "      <td>Taylor Swift</td>\n",
       "      <td>252</td>\n",
       "    </tr>\n",
       "    <tr>\n",
       "      <th>Drake-Nothing Was The Same</th>\n",
       "      <td>Drake</td>\n",
       "      <td>246</td>\n",
       "    </tr>\n",
       "    <tr>\n",
       "      <th>Katy Perry-Teenage Dream</th>\n",
       "      <td>Katy Perry</td>\n",
       "      <td>234</td>\n",
       "    </tr>\n",
       "    <tr>\n",
       "      <th>Eagles-Their Greatest Hits 1971-1975</th>\n",
       "      <td>Eagles</td>\n",
       "      <td>234</td>\n",
       "    </tr>\n",
       "    <tr>\n",
       "      <th>Luke Bryan-Crash My Party</th>\n",
       "      <td>Luke Bryan</td>\n",
       "      <td>227</td>\n",
       "    </tr>\n",
       "    <tr>\n",
       "      <th>Ed Sheeran-x</th>\n",
       "      <td>Ed Sheeran</td>\n",
       "      <td>212</td>\n",
       "    </tr>\n",
       "    <tr>\n",
       "      <th>Nickelback-All The Right Reasons</th>\n",
       "      <td>Nickelback</td>\n",
       "      <td>205</td>\n",
       "    </tr>\n",
       "    <tr>\n",
       "      <th>Bruno Mars-Unorthodox Jukebox</th>\n",
       "      <td>Bruno Mars</td>\n",
       "      <td>202</td>\n",
       "    </tr>\n",
       "    <tr>\n",
       "      <th>Guns N' Roses-Appetite For Destruction</th>\n",
       "      <td>Guns N' Roses</td>\n",
       "      <td>191</td>\n",
       "    </tr>\n",
       "    <tr>\n",
       "      <th>J. Cole-2014 Forest Hills Drive</th>\n",
       "      <td>J. Cole</td>\n",
       "      <td>189</td>\n",
       "    </tr>\n",
       "    <tr>\n",
       "      <th>Taylor Swift-1989</th>\n",
       "      <td>Taylor Swift</td>\n",
       "      <td>188</td>\n",
       "    </tr>\n",
       "    <tr>\n",
       "      <th>Eminem-The Marshall Mathers LP 2</th>\n",
       "      <td>Eminem</td>\n",
       "      <td>186</td>\n",
       "    </tr>\n",
       "    <tr>\n",
       "      <th>Bonnie Raitt-Nick Of Time</th>\n",
       "      <td>Bonnie Raitt</td>\n",
       "      <td>185</td>\n",
       "    </tr>\n",
       "    <tr>\n",
       "      <th>Beyonce-Beyonce</th>\n",
       "      <td>Beyonce</td>\n",
       "      <td>182</td>\n",
       "    </tr>\n",
       "    <tr>\n",
       "      <th>Drake-If You're Reading This It's Too Late</th>\n",
       "      <td>Drake</td>\n",
       "      <td>179</td>\n",
       "    </tr>\n",
       "    <tr>\n",
       "      <th>The Beatles-The Beatles [White Album]</th>\n",
       "      <td>The Beatles</td>\n",
       "      <td>179</td>\n",
       "    </tr>\n",
       "    <tr>\n",
       "      <th>The Beatles-The Beatles 1967-1970</th>\n",
       "      <td>The Beatles</td>\n",
       "      <td>177</td>\n",
       "    </tr>\n",
       "    <tr>\n",
       "      <th>...</th>\n",
       "      <td>...</td>\n",
       "      <td>...</td>\n",
       "    </tr>\n",
       "    <tr>\n",
       "      <th>Barbra Streisand-Encore: Movie Partners Sing Broadway</th>\n",
       "      <td>Barbra Streisand</td>\n",
       "      <td>11</td>\n",
       "    </tr>\n",
       "    <tr>\n",
       "      <th>The Game-The R.E.D. Album</th>\n",
       "      <td>The Game</td>\n",
       "      <td>11</td>\n",
       "    </tr>\n",
       "    <tr>\n",
       "      <th>\"Weird Al\" Yankovic-Mandatory Fun</th>\n",
       "      <td>\"Weird Al\" Yankovic</td>\n",
       "      <td>11</td>\n",
       "    </tr>\n",
       "    <tr>\n",
       "      <th>Kings Of Leon-Walls</th>\n",
       "      <td>Kings Of Leon</td>\n",
       "      <td>11</td>\n",
       "    </tr>\n",
       "    <tr>\n",
       "      <th>Janet-Unbreakable</th>\n",
       "      <td>Janet</td>\n",
       "      <td>11</td>\n",
       "    </tr>\n",
       "    <tr>\n",
       "      <th>Cake-Showroom Of Compassion</th>\n",
       "      <td>Cake</td>\n",
       "      <td>10</td>\n",
       "    </tr>\n",
       "    <tr>\n",
       "      <th>Bon Jovi-What About Now</th>\n",
       "      <td>Bon Jovi</td>\n",
       "      <td>10</td>\n",
       "    </tr>\n",
       "    <tr>\n",
       "      <th>Jill Scott-Woman</th>\n",
       "      <td>Jill Scott</td>\n",
       "      <td>10</td>\n",
       "    </tr>\n",
       "    <tr>\n",
       "      <th>Adam Lambert-Trespassing</th>\n",
       "      <td>Adam Lambert</td>\n",
       "      <td>10</td>\n",
       "    </tr>\n",
       "    <tr>\n",
       "      <th>BTS-Love Yourself: Tear</th>\n",
       "      <td>BTS</td>\n",
       "      <td>10</td>\n",
       "    </tr>\n",
       "    <tr>\n",
       "      <th>Bon Jovi-This House Is Not For Sale</th>\n",
       "      <td>Bon Jovi</td>\n",
       "      <td>9</td>\n",
       "    </tr>\n",
       "    <tr>\n",
       "      <th>Shawn Mendes-Shawn Mendes</th>\n",
       "      <td>Shawn Mendes</td>\n",
       "      <td>9</td>\n",
       "    </tr>\n",
       "    <tr>\n",
       "      <th>Soundtrack-Howard Stern Private Parts: The Album</th>\n",
       "      <td>Soundtrack</td>\n",
       "      <td>9</td>\n",
       "    </tr>\n",
       "    <tr>\n",
       "      <th>Kanye West-ye</th>\n",
       "      <td>Kanye West</td>\n",
       "      <td>8</td>\n",
       "    </tr>\n",
       "    <tr>\n",
       "      <th>Fall Out Boy-M A N I A</th>\n",
       "      <td>Fall Out Boy</td>\n",
       "      <td>8</td>\n",
       "    </tr>\n",
       "    <tr>\n",
       "      <th>U2-Songs Of Experience</th>\n",
       "      <td>U2</td>\n",
       "      <td>8</td>\n",
       "    </tr>\n",
       "    <tr>\n",
       "      <th>Shania Twain-Now</th>\n",
       "      <td>Shania Twain</td>\n",
       "      <td>7</td>\n",
       "    </tr>\n",
       "    <tr>\n",
       "      <th>Dave Matthews Band-Come Tomorrow</th>\n",
       "      <td>Dave Matthews Band</td>\n",
       "      <td>7</td>\n",
       "    </tr>\n",
       "    <tr>\n",
       "      <th>Various Artists-Hope For Haiti Now</th>\n",
       "      <td>Various Artists</td>\n",
       "      <td>6</td>\n",
       "    </tr>\n",
       "    <tr>\n",
       "      <th>5 Seconds Of Summer-Youngblood</th>\n",
       "      <td>5 Seconds Of Summer</td>\n",
       "      <td>6</td>\n",
       "    </tr>\n",
       "    <tr>\n",
       "      <th>Arcade Fire-Everything Now</th>\n",
       "      <td>Arcade Fire</td>\n",
       "      <td>6</td>\n",
       "    </tr>\n",
       "    <tr>\n",
       "      <th>Jeezy-Trap Or Die 3</th>\n",
       "      <td>Jeezy</td>\n",
       "      <td>6</td>\n",
       "    </tr>\n",
       "    <tr>\n",
       "      <th>The Killers-Wonderful Wonderful</th>\n",
       "      <td>The Killers</td>\n",
       "      <td>5</td>\n",
       "    </tr>\n",
       "    <tr>\n",
       "      <th>Jack White-Boarding House Reach</th>\n",
       "      <td>Jack White</td>\n",
       "      <td>5</td>\n",
       "    </tr>\n",
       "    <tr>\n",
       "      <th>Panic! At The Disco-Pray For The Wicked</th>\n",
       "      <td>Panic! At The Disco</td>\n",
       "      <td>5</td>\n",
       "    </tr>\n",
       "    <tr>\n",
       "      <th>Drake-Scorpion</th>\n",
       "      <td>Drake</td>\n",
       "      <td>4</td>\n",
       "    </tr>\n",
       "    <tr>\n",
       "      <th>Brand New-Science Fiction</th>\n",
       "      <td>Brand New</td>\n",
       "      <td>3</td>\n",
       "    </tr>\n",
       "    <tr>\n",
       "      <th>LCD Soundsystem-American Dream</th>\n",
       "      <td>LCD Soundsystem</td>\n",
       "      <td>3</td>\n",
       "    </tr>\n",
       "    <tr>\n",
       "      <th>JAY-Z-The Dynasty Roc La Familia (2000 -- )</th>\n",
       "      <td>JAY-Z</td>\n",
       "      <td>1</td>\n",
       "    </tr>\n",
       "    <tr>\n",
       "      <th>Michael Bolton-Timeless (The Classics)</th>\n",
       "      <td>Michael Bolton</td>\n",
       "      <td>1</td>\n",
       "    </tr>\n",
       "  </tbody>\n",
       "</table>\n",
       "<p>1001 rows × 2 columns</p>\n",
       "</div>"
      ],
      "text/plain": [
       "                                                                 artist  date\n",
       "Artist_Album                                                                 \n",
       "Pink Floyd-The Dark Side Of The Moon                         Pink Floyd   927\n",
       "Metallica-Metallica                                           Metallica   491\n",
       "Eminem-Curtain Call: The Hits                                    Eminem   399\n",
       "Nirvana-Nevermind                                               Nirvana   397\n",
       "Adele-21                                                          Adele   370\n",
       "Eminem-The Eminem Show                                           Eminem   352\n",
       "Michael Jackson-Thriller                                Michael Jackson   331\n",
       "The Beatles-1                                               The Beatles   326\n",
       "Carole King-Tapestry                                        Carole King   318\n",
       "Eminem-Recovery                                                  Eminem   310\n",
       "Drake-Take Care                                                   Drake   281\n",
       "Fleetwood Mac-Rumours                                     Fleetwood Mac   279\n",
       "The Beatles-Abbey Road                                      The Beatles   263\n",
       "Taylor Swift-Fearless                                      Taylor Swift   252\n",
       "Drake-Nothing Was The Same                                        Drake   246\n",
       "Katy Perry-Teenage Dream                                     Katy Perry   234\n",
       "Eagles-Their Greatest Hits 1971-1975                             Eagles   234\n",
       "Luke Bryan-Crash My Party                                    Luke Bryan   227\n",
       "Ed Sheeran-x                                                 Ed Sheeran   212\n",
       "Nickelback-All The Right Reasons                             Nickelback   205\n",
       "Bruno Mars-Unorthodox Jukebox                                Bruno Mars   202\n",
       "Guns N' Roses-Appetite For Destruction                    Guns N' Roses   191\n",
       "J. Cole-2014 Forest Hills Drive                                 J. Cole   189\n",
       "Taylor Swift-1989                                          Taylor Swift   188\n",
       "Eminem-The Marshall Mathers LP 2                                 Eminem   186\n",
       "Bonnie Raitt-Nick Of Time                                  Bonnie Raitt   185\n",
       "Beyonce-Beyonce                                                 Beyonce   182\n",
       "Drake-If You're Reading This It's Too Late                        Drake   179\n",
       "The Beatles-The Beatles [White Album]                       The Beatles   179\n",
       "The Beatles-The Beatles 1967-1970                           The Beatles   177\n",
       "...                                                                 ...   ...\n",
       "Barbra Streisand-Encore: Movie Partners Sing Br...     Barbra Streisand    11\n",
       "The Game-The R.E.D. Album                                      The Game    11\n",
       "\"Weird Al\" Yankovic-Mandatory Fun                   \"Weird Al\" Yankovic    11\n",
       "Kings Of Leon-Walls                                       Kings Of Leon    11\n",
       "Janet-Unbreakable                                                 Janet    11\n",
       "Cake-Showroom Of Compassion                                        Cake    10\n",
       "Bon Jovi-What About Now                                        Bon Jovi    10\n",
       "Jill Scott-Woman                                             Jill Scott    10\n",
       "Adam Lambert-Trespassing                                   Adam Lambert    10\n",
       "BTS-Love Yourself: Tear                                             BTS    10\n",
       "Bon Jovi-This House Is Not For Sale                            Bon Jovi     9\n",
       "Shawn Mendes-Shawn Mendes                                  Shawn Mendes     9\n",
       "Soundtrack-Howard Stern Private Parts: The Album             Soundtrack     9\n",
       "Kanye West-ye                                                Kanye West     8\n",
       "Fall Out Boy-M A N I A                                     Fall Out Boy     8\n",
       "U2-Songs Of Experience                                               U2     8\n",
       "Shania Twain-Now                                           Shania Twain     7\n",
       "Dave Matthews Band-Come Tomorrow                     Dave Matthews Band     7\n",
       "Various Artists-Hope For Haiti Now                      Various Artists     6\n",
       "5 Seconds Of Summer-Youngblood                      5 Seconds Of Summer     6\n",
       "Arcade Fire-Everything Now                                  Arcade Fire     6\n",
       "Jeezy-Trap Or Die 3                                               Jeezy     6\n",
       "The Killers-Wonderful Wonderful                             The Killers     5\n",
       "Jack White-Boarding House Reach                              Jack White     5\n",
       "Panic! At The Disco-Pray For The Wicked             Panic! At The Disco     5\n",
       "Drake-Scorpion                                                    Drake     4\n",
       "Brand New-Science Fiction                                     Brand New     3\n",
       "LCD Soundsystem-American Dream                          LCD Soundsystem     3\n",
       "JAY-Z-The Dynasty Roc La Familia (2000 -- )                       JAY-Z     1\n",
       "Michael Bolton-Timeless (The Classics)                   Michael Bolton     1\n",
       "\n",
       "[1001 rows x 2 columns]"
      ]
     },
     "execution_count": 123,
     "metadata": {},
     "output_type": "execute_result"
    }
   ],
   "source": [
    "a=list(chartgirls[chartgirls[('rank','min')]==1].index)\n",
    "#only the albums that have reached number 1\n",
    "top200[top200['Artist_Album'].isin(a)]\n",
    "#weeks on chart for albums that have reached 1\n",
    "top200[top200['Artist_Album'].isin(a)].groupby('Artist_Album').agg({'artist':'min','date':'count'}).sort_values(by='date',ascending=False)"
   ]
  },
  {
   "cell_type": "code",
   "execution_count": 128,
   "metadata": {},
   "outputs": [
    {
     "data": {
      "text/plain": [
       "2626"
      ]
     },
     "execution_count": 128,
     "metadata": {},
     "output_type": "execute_result"
    }
   ],
   "source": [
    "len(top200['date'].unique())"
   ]
  }
 ],
 "metadata": {
  "kernelspec": {
   "display_name": "Python 3",
   "language": "python",
   "name": "python3"
  },
  "language_info": {
   "codemirror_mode": {
    "name": "ipython",
    "version": 3
   },
   "file_extension": ".py",
   "mimetype": "text/x-python",
   "name": "python",
   "nbconvert_exporter": "python",
   "pygments_lexer": "ipython3",
   "version": "3.6.5"
  }
 },
 "nbformat": 4,
 "nbformat_minor": 2
}
